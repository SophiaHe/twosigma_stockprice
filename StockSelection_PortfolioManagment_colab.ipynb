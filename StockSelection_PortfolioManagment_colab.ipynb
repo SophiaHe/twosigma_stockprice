{
  "nbformat": 4,
  "nbformat_minor": 0,
  "metadata": {
    "colab": {
      "name": "StockSelection_PortfolioManagment_colab.ipynb",
      "provenance": [],
      "collapsed_sections": [
        "45NunfWd2AKq",
        "ZkbA5v6XF6Rr",
        "m4zrbtbbh_lQ",
        "HxxIAm0cq7NX",
        "0feGPTYmJx4x"
      ],
      "authorship_tag": "ABX9TyOK7Z3E38fKOQzU8H7LoVZ8",
      "include_colab_link": true
    },
    "kernelspec": {
      "name": "python3",
      "display_name": "Python 3"
    },
    "language_info": {
      "name": "python"
    }
  },
  "cells": [
    {
      "cell_type": "markdown",
      "metadata": {
        "id": "view-in-github",
        "colab_type": "text"
      },
      "source": [
        "<a href=\"https://colab.research.google.com/github/SophiaHe/twosigma_stockprice/blob/main/StockSelection_PortfolioManagment_colab.ipynb\" target=\"_parent\"><img src=\"https://colab.research.google.com/assets/colab-badge.svg\" alt=\"Open In Colab\"/></a>"
      ]
    },
    {
      "cell_type": "code",
      "metadata": {
        "colab": {
          "base_uri": "https://localhost:8080/"
        },
        "id": "kRfwUovUuxgc",
        "outputId": "e092b195-3bf2-43c0-9ca8-8a0fddd00946"
      },
      "source": [
        "from google.colab import drive\n",
        "\n",
        "drive.mount('/content/gdrive')"
      ],
      "execution_count": 1,
      "outputs": [
        {
          "output_type": "stream",
          "text": [
            "Mounted at /content/gdrive\n"
          ],
          "name": "stdout"
        }
      ]
    },
    {
      "cell_type": "code",
      "metadata": {
        "colab": {
          "base_uri": "https://localhost:8080/"
        },
        "id": "85CImYHMu-Rf",
        "outputId": "bd96fa8a-bb6f-48e8-9bf1-1e414ee5e79d"
      },
      "source": [
        "!ls \"./gdrive/MyDrive/Colab Datasets/twosigma_data\""
      ],
      "execution_count": 2,
      "outputs": [
        {
          "output_type": "stream",
          "text": [
            "'CNN prototype model.png'   modeling_results\t      news_train_pre2013.csv\n",
            " market_train_full.csv\t    news_train_from2013.csv\n"
          ],
          "name": "stdout"
        }
      ]
    },
    {
      "cell_type": "code",
      "metadata": {
        "id": "lpTi5AfNkflI"
      },
      "source": [
        "import pandas as pd\n",
        "import numpy as np\n",
        "import matplotlib.pyplot as plt\n",
        "%matplotlib inline\n",
        "from matplotlib.pylab import rcParams\n",
        "rcParams['figure.figsize']=20,10\n",
        "from keras.models import Sequential\n",
        "from keras.layers import LSTM,Dropout,Dense\n",
        "from sklearn.preprocessing import MinMaxScaler\n",
        "import math\n"
      ],
      "execution_count": 3,
      "outputs": []
    },
    {
      "cell_type": "code",
      "metadata": {
        "id": "SUK1YUKykoLU"
      },
      "source": [
        "path = \"./gdrive/MyDrive/Colab Datasets/twosigma_data/\"\n",
        "\n",
        "df = pd.read_csv(path+\"market_train_full.csv\")\n",
        "df = df.loc[df['assetCode'] == \"APA.N\"]"
      ],
      "execution_count": 4,
      "outputs": []
    },
    {
      "cell_type": "code",
      "metadata": {
        "colab": {
          "base_uri": "https://localhost:8080/",
          "height": 330
        },
        "id": "E-09ow4pkyf6",
        "outputId": "f3df0346-57ce-4a39-83f5-10e6785bcf45"
      },
      "source": [
        "df.head()"
      ],
      "execution_count": 5,
      "outputs": [
        {
          "output_type": "execute_result",
          "data": {
            "text/html": [
              "<div>\n",
              "<style scoped>\n",
              "    .dataframe tbody tr th:only-of-type {\n",
              "        vertical-align: middle;\n",
              "    }\n",
              "\n",
              "    .dataframe tbody tr th {\n",
              "        vertical-align: top;\n",
              "    }\n",
              "\n",
              "    .dataframe thead th {\n",
              "        text-align: right;\n",
              "    }\n",
              "</style>\n",
              "<table border=\"1\" class=\"dataframe\">\n",
              "  <thead>\n",
              "    <tr style=\"text-align: right;\">\n",
              "      <th></th>\n",
              "      <th>Unnamed: 0</th>\n",
              "      <th>time</th>\n",
              "      <th>assetCode</th>\n",
              "      <th>assetName</th>\n",
              "      <th>volume</th>\n",
              "      <th>close</th>\n",
              "      <th>open</th>\n",
              "      <th>returnsClosePrevRaw1</th>\n",
              "      <th>returnsOpenPrevRaw1</th>\n",
              "      <th>returnsClosePrevMktres1</th>\n",
              "      <th>returnsOpenPrevMktres1</th>\n",
              "      <th>returnsClosePrevRaw10</th>\n",
              "      <th>returnsOpenPrevRaw10</th>\n",
              "      <th>returnsClosePrevMktres10</th>\n",
              "      <th>returnsOpenPrevMktres10</th>\n",
              "      <th>returnsOpenNextMktres10</th>\n",
              "      <th>universe</th>\n",
              "    </tr>\n",
              "  </thead>\n",
              "  <tbody>\n",
              "    <tr>\n",
              "      <th>92</th>\n",
              "      <td>92</td>\n",
              "      <td>2007-02-01 22:00:00+00:00</td>\n",
              "      <td>APA.N</td>\n",
              "      <td>Apache Corp</td>\n",
              "      <td>6339700.0</td>\n",
              "      <td>71.57</td>\n",
              "      <td>72.69</td>\n",
              "      <td>-0.019186</td>\n",
              "      <td>0.014232</td>\n",
              "      <td>NaN</td>\n",
              "      <td>NaN</td>\n",
              "      <td>0.090175</td>\n",
              "      <td>0.098700</td>\n",
              "      <td>NaN</td>\n",
              "      <td>NaN</td>\n",
              "      <td>-0.001529</td>\n",
              "      <td>1.0</td>\n",
              "    </tr>\n",
              "    <tr>\n",
              "      <th>1510</th>\n",
              "      <td>1510</td>\n",
              "      <td>2007-02-02 22:00:00+00:00</td>\n",
              "      <td>APA.N</td>\n",
              "      <td>Apache Corp</td>\n",
              "      <td>6007500.0</td>\n",
              "      <td>70.71</td>\n",
              "      <td>70.28</td>\n",
              "      <td>-0.012016</td>\n",
              "      <td>-0.033154</td>\n",
              "      <td>-0.013038</td>\n",
              "      <td>-0.034582</td>\n",
              "      <td>0.041231</td>\n",
              "      <td>0.058753</td>\n",
              "      <td>NaN</td>\n",
              "      <td>NaN</td>\n",
              "      <td>-0.022635</td>\n",
              "      <td>1.0</td>\n",
              "    </tr>\n",
              "    <tr>\n",
              "      <th>2933</th>\n",
              "      <td>2933</td>\n",
              "      <td>2007-02-05 22:00:00+00:00</td>\n",
              "      <td>APA.N</td>\n",
              "      <td>Apache Corp</td>\n",
              "      <td>3207300.0</td>\n",
              "      <td>69.62</td>\n",
              "      <td>70.96</td>\n",
              "      <td>-0.015415</td>\n",
              "      <td>0.009676</td>\n",
              "      <td>-0.014746</td>\n",
              "      <td>0.009628</td>\n",
              "      <td>0.025180</td>\n",
              "      <td>0.035912</td>\n",
              "      <td>NaN</td>\n",
              "      <td>NaN</td>\n",
              "      <td>-0.007155</td>\n",
              "      <td>1.0</td>\n",
              "    </tr>\n",
              "    <tr>\n",
              "      <th>4362</th>\n",
              "      <td>4362</td>\n",
              "      <td>2007-02-06 22:00:00+00:00</td>\n",
              "      <td>APA.N</td>\n",
              "      <td>Apache Corp</td>\n",
              "      <td>3301500.0</td>\n",
              "      <td>69.90</td>\n",
              "      <td>70.07</td>\n",
              "      <td>0.004022</td>\n",
              "      <td>-0.012542</td>\n",
              "      <td>0.003227</td>\n",
              "      <td>-0.012447</td>\n",
              "      <td>-0.005548</td>\n",
              "      <td>0.026516</td>\n",
              "      <td>NaN</td>\n",
              "      <td>NaN</td>\n",
              "      <td>0.007232</td>\n",
              "      <td>1.0</td>\n",
              "    </tr>\n",
              "    <tr>\n",
              "      <th>5793</th>\n",
              "      <td>5793</td>\n",
              "      <td>2007-02-07 22:00:00+00:00</td>\n",
              "      <td>APA.N</td>\n",
              "      <td>Apache Corp</td>\n",
              "      <td>2687600.0</td>\n",
              "      <td>69.20</td>\n",
              "      <td>69.72</td>\n",
              "      <td>-0.010014</td>\n",
              "      <td>-0.004995</td>\n",
              "      <td>-0.011590</td>\n",
              "      <td>-0.005145</td>\n",
              "      <td>-0.017743</td>\n",
              "      <td>0.000718</td>\n",
              "      <td>NaN</td>\n",
              "      <td>NaN</td>\n",
              "      <td>0.035662</td>\n",
              "      <td>1.0</td>\n",
              "    </tr>\n",
              "  </tbody>\n",
              "</table>\n",
              "</div>"
            ],
            "text/plain": [
              "      Unnamed: 0                       time  ... returnsOpenNextMktres10 universe\n",
              "92            92  2007-02-01 22:00:00+00:00  ...               -0.001529      1.0\n",
              "1510        1510  2007-02-02 22:00:00+00:00  ...               -0.022635      1.0\n",
              "2933        2933  2007-02-05 22:00:00+00:00  ...               -0.007155      1.0\n",
              "4362        4362  2007-02-06 22:00:00+00:00  ...                0.007232      1.0\n",
              "5793        5793  2007-02-07 22:00:00+00:00  ...                0.035662      1.0\n",
              "\n",
              "[5 rows x 17 columns]"
            ]
          },
          "metadata": {
            "tags": []
          },
          "execution_count": 5
        }
      ]
    },
    {
      "cell_type": "code",
      "metadata": {
        "colab": {
          "base_uri": "https://localhost:8080/"
        },
        "id": "3I9aR7ODlSAt",
        "outputId": "b6e66cdc-a2da-4d3c-edf0-e79e87e03cae"
      },
      "source": [
        "#Create a new dataframe with only the 'Close' column\n",
        "data = df.filter(['close'])#Converting the dataframe to a numpy array\n",
        "dataset = data.values#Get /Compute the number of rows to train the model on\n",
        "training_data_len = math.ceil( len(dataset) *.8) \n",
        "dataset[0:4]"
      ],
      "execution_count": null,
      "outputs": [
        {
          "output_type": "execute_result",
          "data": {
            "text/plain": [
              "array([[71.57],\n",
              "       [70.71],\n",
              "       [69.62],\n",
              "       [69.9 ]])"
            ]
          },
          "metadata": {
            "tags": []
          },
          "execution_count": 105
        }
      ]
    },
    {
      "cell_type": "code",
      "metadata": {
        "colab": {
          "base_uri": "https://localhost:8080/"
        },
        "id": "iKPuar_wlifc",
        "outputId": "050b476a-716e-4b30-bdc6-2203ee849aa9"
      },
      "source": [
        "#Scale the all of the data to be values between 0 and 1 \n",
        "scaler = MinMaxScaler(feature_range=(0, 1)) \n",
        "scaled_data = scaler.fit_transform(dataset)\n",
        "print(scaled_data[0:4])\n",
        "\n",
        "train_data = dataset[0:training_data_len  , : ]#Split the data into x_train and y_train data sets\n",
        "train_data = scaler.fit_transform(train_data)\n",
        "print(train_data[0:4])"
      ],
      "execution_count": null,
      "outputs": [
        {
          "output_type": "stream",
          "text": [
            "[[0.33081302]\n",
            " [0.32316314]\n",
            " [0.31346735]\n",
            " [0.31595801]]\n",
            "[[0.21159086]\n",
            " [0.20257808]\n",
            " [0.19115489]\n",
            " [0.19408929]]\n"
          ],
          "name": "stdout"
        }
      ]
    },
    {
      "cell_type": "code",
      "metadata": {
        "id": "oAaEYuu5l1Vw"
      },
      "source": [
        "#Create the scaled training data set \n",
        "scaler = MinMaxScaler(feature_range=(0, 1)) \n",
        "train_data = dataset[0:training_data_len  , : ]#Split the data into x_train and y_train data sets\n",
        "train_data = scaler.fit_transform(train_data)\n",
        "x_train=[]\n",
        "y_train = []\n",
        "for i in range(60,len(train_data)):\n",
        "    x_train.append(train_data[i-60:i,0])\n",
        "    y_train.append(train_data[i,0])\n",
        "#Convert x_train and y_train to numpy arrays\n",
        "x_train, y_train = np.array(x_train), np.array(y_train)\n",
        "#Reshape the data into the shape accepted by the LSTM\n",
        "x_train = np.reshape(x_train, (x_train.shape[0],x_train.shape[1],1))"
      ],
      "execution_count": null,
      "outputs": []
    },
    {
      "cell_type": "code",
      "metadata": {
        "id": "Pdlj4OPOmAkQ"
      },
      "source": [
        "#Build the LSTM network model\n",
        "model = Sequential()\n",
        "model.add(LSTM(units=50, return_sequences=True,input_shape=(x_train.shape[1],1)))\n",
        "model.add(LSTM(units=50, return_sequences=False))\n",
        "model.add(Dense(units=25))\n",
        "model.add(Dense(units=1))\n",
        "#Compile the model\n",
        "model.compile(optimizer='adam', loss='mean_squared_error')"
      ],
      "execution_count": null,
      "outputs": []
    },
    {
      "cell_type": "code",
      "metadata": {
        "id": "I2hhEeaq5N48"
      },
      "source": [
        "model = Sequential()\n",
        "model.add(LSTM(units = 50, return_sequences = True, input_shape = (X_train.shape[1], 1)))\n",
        "model.add(Dropout(0.2))\n",
        "model.add(LSTM(units = 50, return_sequences = True))\n",
        "model.add(Dropout(0.2))\n",
        "model.add(LSTM(units = 50, return_sequences = True))\n",
        "model.add(Dropout(0.2))\n",
        "model.add(LSTM(units = 50))\n",
        "model.add(Dropout(0.2))\n",
        "model.add(Dense(units = 1))\n",
        "model.compile(optimizer='adam', loss='mean_squared_error')"
      ],
      "execution_count": null,
      "outputs": []
    },
    {
      "cell_type": "code",
      "metadata": {
        "colab": {
          "base_uri": "https://localhost:8080/"
        },
        "id": "uYNMTalPmGVY",
        "outputId": "6ef88685-d842-4783-a712-562a769aa236"
      },
      "source": [
        "#Train the model\n",
        "#model.fit(x_train, y_train, batch_size=1, epochs=1)\n",
        "model.fit(x_train, y_train, epochs = 15, batch_size = 32)"
      ],
      "execution_count": null,
      "outputs": [
        {
          "output_type": "stream",
          "text": [
            "Epoch 1/15\n",
            "61/61 [==============================] - 3s 8ms/step - loss: 0.0509\n",
            "Epoch 2/15\n",
            "61/61 [==============================] - 0s 7ms/step - loss: 0.0025\n",
            "Epoch 3/15\n",
            "61/61 [==============================] - 0s 7ms/step - loss: 0.0022\n",
            "Epoch 4/15\n",
            "61/61 [==============================] - 0s 7ms/step - loss: 0.0021\n",
            "Epoch 5/15\n",
            "61/61 [==============================] - 0s 7ms/step - loss: 0.0016\n",
            "Epoch 6/15\n",
            "61/61 [==============================] - 0s 7ms/step - loss: 0.0018\n",
            "Epoch 7/15\n",
            "61/61 [==============================] - 0s 7ms/step - loss: 0.0017\n",
            "Epoch 8/15\n",
            "61/61 [==============================] - 0s 7ms/step - loss: 0.0015\n",
            "Epoch 9/15\n",
            "61/61 [==============================] - 0s 7ms/step - loss: 0.0014\n",
            "Epoch 10/15\n",
            "61/61 [==============================] - 0s 7ms/step - loss: 0.0013\n",
            "Epoch 11/15\n",
            "61/61 [==============================] - 0s 7ms/step - loss: 0.0013\n",
            "Epoch 12/15\n",
            "61/61 [==============================] - 0s 7ms/step - loss: 0.0011\n",
            "Epoch 13/15\n",
            "61/61 [==============================] - 0s 7ms/step - loss: 0.0011\n",
            "Epoch 14/15\n",
            "61/61 [==============================] - 0s 7ms/step - loss: 9.6303e-04\n",
            "Epoch 15/15\n",
            "61/61 [==============================] - 0s 7ms/step - loss: 9.1399e-04\n"
          ],
          "name": "stdout"
        },
        {
          "output_type": "execute_result",
          "data": {
            "text/plain": [
              "<tensorflow.python.keras.callbacks.History at 0x7ff414352050>"
            ]
          },
          "metadata": {
            "tags": []
          },
          "execution_count": 108
        }
      ]
    },
    {
      "cell_type": "code",
      "metadata": {
        "id": "fhSiyXPhmLIq"
      },
      "source": [
        "#Test data set\n",
        "scaler = MinMaxScaler(feature_range=(0, 1)) \n",
        "test_data = dataset[training_data_len - 60: , : ]#Split the data into x_train and y_train data sets\n",
        "test_data = scaler.fit_transform(test_data)\n",
        "\n",
        "#test_data = scaled_data[training_data_len - 60: , : ]#Create the x_test and y_test data sets\n",
        "x_test = []\n",
        "y_test =  dataset[training_data_len : , : ] #Get all of the rows from index 1603 to the rest and all of the columns (in this case it's only column 'Close'), so 2003 - 1603 = 400 rows of data\n",
        "for i in range(60,len(test_data)):\n",
        "    x_test.append(test_data[i-60:i,0])\n",
        "#Convert x_test to a numpy array \n",
        "x_test = np.array(x_test)\n",
        "#Reshape the data into the shape accepted by the LSTM\n",
        "x_test = np.reshape(x_test, (x_test.shape[0],x_test.shape[1],1))\n",
        "  "
      ],
      "execution_count": null,
      "outputs": []
    },
    {
      "cell_type": "code",
      "metadata": {
        "colab": {
          "base_uri": "https://localhost:8080/"
        },
        "id": "xUo3mMFJmRSd",
        "outputId": "6f293652-8d82-44f9-aaea-4d2aa99717e8"
      },
      "source": [
        "#Getting the models predicted price values\n",
        "predictions = model.predict(x_test) \n",
        "predictions = scaler.inverse_transform(predictions)#Undo scaling\n",
        "predictions[0:4]"
      ],
      "execution_count": null,
      "outputs": [
        {
          "output_type": "execute_result",
          "data": {
            "text/plain": [
              "array([[59.19488 ],\n",
              "       [59.76243 ],\n",
              "       [59.652554],\n",
              "       [59.374928]], dtype=float32)"
            ]
          },
          "metadata": {
            "tags": []
          },
          "execution_count": 110
        }
      ]
    },
    {
      "cell_type": "code",
      "metadata": {
        "colab": {
          "base_uri": "https://localhost:8080/"
        },
        "id": "j9uVT1ftmXo6",
        "outputId": "dbf7ad5b-cd7b-436c-b050-a733a0ab8dac"
      },
      "source": [
        "#Calculate/Get the value of RMSE\n",
        "rmse=np.sqrt(np.mean(((predictions- y_test)**2)))\n",
        "rmse"
      ],
      "execution_count": null,
      "outputs": [
        {
          "output_type": "execute_result",
          "data": {
            "text/plain": [
              "1.8864788157552579"
            ]
          },
          "metadata": {
            "tags": []
          },
          "execution_count": 111
        }
      ]
    },
    {
      "cell_type": "code",
      "metadata": {
        "colab": {
          "base_uri": "https://localhost:8080/",
          "height": 667
        },
        "id": "Aw1frFWKyhfy",
        "outputId": "6f864169-d96e-4c77-d6dc-778600c38a22"
      },
      "source": [
        "test_data = scaled_data[training_data_len - 60: , : ]\n",
        "print(pd.DataFrame(dataset[training_data_len - 60: ]).rename(columns = {0:\"close\"}))\n",
        "df[[\"time\",\"close\"]][training_data_len - 60: ]\n"
      ],
      "execution_count": null,
      "outputs": [
        {
          "output_type": "stream",
          "text": [
            "     close\n",
            "0    74.40\n",
            "1    72.67\n",
            "2    73.23\n",
            "3    72.85\n",
            "4    72.93\n",
            "..     ...\n",
            "554  66.40\n",
            "555  66.34\n",
            "556  64.59\n",
            "557  63.87\n",
            "558  63.47\n",
            "\n",
            "[559 rows x 1 columns]\n"
          ],
          "name": "stdout"
        },
        {
          "output_type": "execute_result",
          "data": {
            "text/html": [
              "<div>\n",
              "<style scoped>\n",
              "    .dataframe tbody tr th:only-of-type {\n",
              "        vertical-align: middle;\n",
              "    }\n",
              "\n",
              "    .dataframe tbody tr th {\n",
              "        vertical-align: top;\n",
              "    }\n",
              "\n",
              "    .dataframe thead th {\n",
              "        text-align: right;\n",
              "    }\n",
              "</style>\n",
              "<table border=\"1\" class=\"dataframe\">\n",
              "  <thead>\n",
              "    <tr style=\"text-align: right;\">\n",
              "      <th></th>\n",
              "      <th>time</th>\n",
              "      <th>close</th>\n",
              "    </tr>\n",
              "  </thead>\n",
              "  <tbody>\n",
              "    <tr>\n",
              "      <th>3096455</th>\n",
              "      <td>2014-10-14 22:00:00+00:00</td>\n",
              "      <td>74.40</td>\n",
              "    </tr>\n",
              "    <tr>\n",
              "      <th>3097780</th>\n",
              "      <td>2014-10-15 22:00:00+00:00</td>\n",
              "      <td>72.67</td>\n",
              "    </tr>\n",
              "    <tr>\n",
              "      <th>3099109</th>\n",
              "      <td>2014-10-16 22:00:00+00:00</td>\n",
              "      <td>73.23</td>\n",
              "    </tr>\n",
              "    <tr>\n",
              "      <th>3100447</th>\n",
              "      <td>2014-10-17 22:00:00+00:00</td>\n",
              "      <td>72.85</td>\n",
              "    </tr>\n",
              "    <tr>\n",
              "      <th>3101784</th>\n",
              "      <td>2014-10-20 22:00:00+00:00</td>\n",
              "      <td>72.93</td>\n",
              "    </tr>\n",
              "    <tr>\n",
              "      <th>...</th>\n",
              "      <td>...</td>\n",
              "      <td>...</td>\n",
              "    </tr>\n",
              "    <tr>\n",
              "      <th>4063943</th>\n",
              "      <td>2016-12-23 22:00:00+00:00</td>\n",
              "      <td>66.40</td>\n",
              "    </tr>\n",
              "    <tr>\n",
              "      <th>4065782</th>\n",
              "      <td>2016-12-27 22:00:00+00:00</td>\n",
              "      <td>66.34</td>\n",
              "    </tr>\n",
              "    <tr>\n",
              "      <th>4067617</th>\n",
              "      <td>2016-12-28 22:00:00+00:00</td>\n",
              "      <td>64.59</td>\n",
              "    </tr>\n",
              "    <tr>\n",
              "      <th>4069444</th>\n",
              "      <td>2016-12-29 22:00:00+00:00</td>\n",
              "      <td>63.87</td>\n",
              "    </tr>\n",
              "    <tr>\n",
              "      <th>4071259</th>\n",
              "      <td>2016-12-30 22:00:00+00:00</td>\n",
              "      <td>63.47</td>\n",
              "    </tr>\n",
              "  </tbody>\n",
              "</table>\n",
              "<p>559 rows × 2 columns</p>\n",
              "</div>"
            ],
            "text/plain": [
              "                              time  close\n",
              "3096455  2014-10-14 22:00:00+00:00  74.40\n",
              "3097780  2014-10-15 22:00:00+00:00  72.67\n",
              "3099109  2014-10-16 22:00:00+00:00  73.23\n",
              "3100447  2014-10-17 22:00:00+00:00  72.85\n",
              "3101784  2014-10-20 22:00:00+00:00  72.93\n",
              "...                            ...    ...\n",
              "4063943  2016-12-23 22:00:00+00:00  66.40\n",
              "4065782  2016-12-27 22:00:00+00:00  66.34\n",
              "4067617  2016-12-28 22:00:00+00:00  64.59\n",
              "4069444  2016-12-29 22:00:00+00:00  63.87\n",
              "4071259  2016-12-30 22:00:00+00:00  63.47\n",
              "\n",
              "[559 rows x 2 columns]"
            ]
          },
          "metadata": {
            "tags": []
          },
          "execution_count": 112
        }
      ]
    },
    {
      "cell_type": "code",
      "metadata": {
        "colab": {
          "base_uri": "https://localhost:8080/",
          "height": 625
        },
        "id": "Vn5M_wE7maW6",
        "outputId": "1c2e04d0-0ff1-4b69-f6ab-b272e5ab08fb"
      },
      "source": [
        "#Plot/Create the data for the graph\n",
        "train = data[:training_data_len]\n",
        "valid = data[training_data_len:]\n",
        "valid['Predictions'] = predictions#Visualize the data\n",
        "plt.figure(figsize=(16,8))\n",
        "plt.title('Model')\n",
        "plt.xlabel('Date', fontsize=18)\n",
        "plt.ylabel('Close Price USD ($)', fontsize=18)\n",
        "plt.plot(train['close'])\n",
        "plt.plot(valid[['close', 'Predictions']])\n",
        "plt.legend(['Train', 'Val', 'Predictions'], loc='lower right')\n",
        "plt.show()"
      ],
      "execution_count": null,
      "outputs": [
        {
          "output_type": "stream",
          "text": [
            "/usr/local/lib/python3.7/dist-packages/ipykernel_launcher.py:4: SettingWithCopyWarning: \n",
            "A value is trying to be set on a copy of a slice from a DataFrame.\n",
            "Try using .loc[row_indexer,col_indexer] = value instead\n",
            "\n",
            "See the caveats in the documentation: https://pandas.pydata.org/pandas-docs/stable/user_guide/indexing.html#returning-a-view-versus-a-copy\n",
            "  after removing the cwd from sys.path.\n"
          ],
          "name": "stderr"
        },
        {
          "output_type": "display_data",
          "data": {
            "image/png": "[encoded data removed]",
            "text/plain": [
              "<Figure size 1152x576 with 1 Axes>"
            ]
          },
          "metadata": {
            "tags": [],
            "needs_background": "light"
          }
        }
      ]
    },
    {
      "cell_type": "markdown",
      "metadata": {
        "id": "45NunfWd2AKq"
      },
      "source": [
        "### LSTM"
      ]
    },
    {
      "cell_type": "code",
      "metadata": {
        "id": "zosT2OF12Ce_"
      },
      "source": [
        "#from nsepy import get_history as gh\n",
        "import datetime as dt\n",
        "from matplotlib import pyplot as plt\n",
        "from sklearn import model_selection\n",
        "from sklearn.metrics import confusion_matrix\n",
        "from sklearn.preprocessing import StandardScaler\n",
        "from sklearn.model_selection import train_test_split\n",
        "import numpy as np\n",
        "import pandas as pd\n",
        "from sklearn.preprocessing import MinMaxScaler\n",
        "from keras.models import Sequential\n",
        "from keras.layers import Dense\n",
        "from keras.layers import LSTM\n",
        "from keras.layers import Dropout"
      ],
      "execution_count": null,
      "outputs": []
    },
    {
      "cell_type": "code",
      "metadata": {
        "id": "AKIWhGM_2QD9"
      },
      "source": [
        "sc = MinMaxScaler(feature_range = (0, 1))\n",
        "training_set_scaled = sc.fit_transform(dataset)\n",
        "X_train = []\n",
        "y_train = []\n",
        "for i in range(60, len(training_set_scaled)):\n",
        "    X_train.append(training_set_scaled[i-60:i, 0])\n",
        "    y_train.append(training_set_scaled[i, 0]) \n",
        "X_train, y_train = np.array(X_train), np.array(y_train)\n",
        "X_train = np.reshape(X_train, (X_train.shape[0], X_train.shape[1], 1))\n"
      ],
      "execution_count": null,
      "outputs": []
    },
    {
      "cell_type": "code",
      "metadata": {
        "colab": {
          "base_uri": "https://localhost:8080/",
          "height": 238
        },
        "id": "J04m37fq3QO7",
        "outputId": "c079224d-ca68-460a-c239-2a959feb9883"
      },
      "source": [
        "import pandas_datareader as web\n",
        "df = web.DataReader('AAPL', data_source='yahoo', start='2012-01-01', end='2019-12-17') \n",
        "df.head()"
      ],
      "execution_count": null,
      "outputs": [
        {
          "output_type": "execute_result",
          "data": {
            "text/html": [
              "<div>\n",
              "<style scoped>\n",
              "    .dataframe tbody tr th:only-of-type {\n",
              "        vertical-align: middle;\n",
              "    }\n",
              "\n",
              "    .dataframe tbody tr th {\n",
              "        vertical-align: top;\n",
              "    }\n",
              "\n",
              "    .dataframe thead th {\n",
              "        text-align: right;\n",
              "    }\n",
              "</style>\n",
              "<table border=\"1\" class=\"dataframe\">\n",
              "  <thead>\n",
              "    <tr style=\"text-align: right;\">\n",
              "      <th></th>\n",
              "      <th>High</th>\n",
              "      <th>Low</th>\n",
              "      <th>Open</th>\n",
              "      <th>Close</th>\n",
              "      <th>Volume</th>\n",
              "      <th>Adj Close</th>\n",
              "    </tr>\n",
              "    <tr>\n",
              "      <th>Date</th>\n",
              "      <th></th>\n",
              "      <th></th>\n",
              "      <th></th>\n",
              "      <th></th>\n",
              "      <th></th>\n",
              "      <th></th>\n",
              "    </tr>\n",
              "  </thead>\n",
              "  <tbody>\n",
              "    <tr>\n",
              "      <th>2012-01-03</th>\n",
              "      <td>14.732143</td>\n",
              "      <td>14.607143</td>\n",
              "      <td>14.621429</td>\n",
              "      <td>14.686786</td>\n",
              "      <td>302220800.0</td>\n",
              "      <td>12.629209</td>\n",
              "    </tr>\n",
              "    <tr>\n",
              "      <th>2012-01-04</th>\n",
              "      <td>14.810000</td>\n",
              "      <td>14.617143</td>\n",
              "      <td>14.642857</td>\n",
              "      <td>14.765714</td>\n",
              "      <td>260022000.0</td>\n",
              "      <td>12.697079</td>\n",
              "    </tr>\n",
              "    <tr>\n",
              "      <th>2012-01-05</th>\n",
              "      <td>14.948214</td>\n",
              "      <td>14.738214</td>\n",
              "      <td>14.819643</td>\n",
              "      <td>14.929643</td>\n",
              "      <td>271269600.0</td>\n",
              "      <td>12.838044</td>\n",
              "    </tr>\n",
              "    <tr>\n",
              "      <th>2012-01-06</th>\n",
              "      <td>15.098214</td>\n",
              "      <td>14.972143</td>\n",
              "      <td>14.991786</td>\n",
              "      <td>15.085714</td>\n",
              "      <td>318292800.0</td>\n",
              "      <td>12.972249</td>\n",
              "    </tr>\n",
              "    <tr>\n",
              "      <th>2012-01-09</th>\n",
              "      <td>15.276786</td>\n",
              "      <td>15.048214</td>\n",
              "      <td>15.196429</td>\n",
              "      <td>15.061786</td>\n",
              "      <td>394024400.0</td>\n",
              "      <td>12.951672</td>\n",
              "    </tr>\n",
              "  </tbody>\n",
              "</table>\n",
              "</div>"
            ],
            "text/plain": [
              "                 High        Low       Open      Close       Volume  Adj Close\n",
              "Date                                                                          \n",
              "2012-01-03  14.732143  14.607143  14.621429  14.686786  302220800.0  12.629209\n",
              "2012-01-04  14.810000  14.617143  14.642857  14.765714  260022000.0  12.697079\n",
              "2012-01-05  14.948214  14.738214  14.819643  14.929643  271269600.0  12.838044\n",
              "2012-01-06  15.098214  14.972143  14.991786  15.085714  318292800.0  12.972249\n",
              "2012-01-09  15.276786  15.048214  15.196429  15.061786  394024400.0  12.951672"
            ]
          },
          "metadata": {
            "tags": []
          },
          "execution_count": 68
        }
      ]
    },
    {
      "cell_type": "code",
      "metadata": {
        "id": "vpXEikvT2tEE"
      },
      "source": [
        "regressor = Sequential()\n",
        "regressor.add(LSTM(units = 50, return_sequences = True, input_shape = (X_train.shape[1], 1)))\n",
        "regressor.add(Dropout(0.2))\n",
        "regressor.add(LSTM(units = 50, return_sequences = True))\n",
        "regressor.add(Dropout(0.2))\n",
        "regressor.add(LSTM(units = 50, return_sequences = True))\n",
        "regressor.add(Dropout(0.2))\n",
        "regressor.add(LSTM(units = 50))\n",
        "regressor.add(Dropout(0.2))\n",
        "regressor.add(Dense(units = 1))\n",
        "regressor.compile(optimizer = 'adam', loss = 'mean_squared_error')\n",
        "regressor.fit(X_train, y_train, epochs = 15, batch_size = 32)"
      ],
      "execution_count": null,
      "outputs": []
    },
    {
      "cell_type": "code",
      "metadata": {
        "colab": {
          "base_uri": "https://localhost:8080/"
        },
        "id": "bhHRZfVK4eT4",
        "outputId": "08e2b52c-66ba-4c66-bec2-b4714c856270"
      },
      "source": [
        "!pip install nsepy\n",
        "from nsepy import get_history as gh"
      ],
      "execution_count": null,
      "outputs": [
        {
          "output_type": "stream",
          "text": [
            "Collecting nsepy\n",
            "  Downloading https://files.pythonhosted.org/packages/89/52/2e9f0de0c687ad181f17e0783319d31d66869c410793c5b94dc6cd4b3db2/nsepy-0.8.tar.gz\n",
            "Requirement already satisfied: beautifulsoup4 in /usr/local/lib/python3.7/dist-packages (from nsepy) (4.6.3)\n",
            "Requirement already satisfied: requests in /usr/local/lib/python3.7/dist-packages (from nsepy) (2.23.0)\n",
            "Requirement already satisfied: numpy in /usr/local/lib/python3.7/dist-packages (from nsepy) (1.19.5)\n",
            "Requirement already satisfied: pandas in /usr/local/lib/python3.7/dist-packages (from nsepy) (1.1.5)\n",
            "Requirement already satisfied: six in /usr/local/lib/python3.7/dist-packages (from nsepy) (1.15.0)\n",
            "Requirement already satisfied: click in /usr/local/lib/python3.7/dist-packages (from nsepy) (8.0.0)\n",
            "Requirement already satisfied: lxml in /usr/local/lib/python3.7/dist-packages (from nsepy) (4.2.6)\n",
            "Requirement already satisfied: urllib3!=1.25.0,!=1.25.1,<1.26,>=1.21.1 in /usr/local/lib/python3.7/dist-packages (from requests->nsepy) (1.24.3)\n",
            "Requirement already satisfied: chardet<4,>=3.0.2 in /usr/local/lib/python3.7/dist-packages (from requests->nsepy) (3.0.4)\n",
            "Requirement already satisfied: idna<3,>=2.5 in /usr/local/lib/python3.7/dist-packages (from requests->nsepy) (2.10)\n",
            "Requirement already satisfied: certifi>=2017.4.17 in /usr/local/lib/python3.7/dist-packages (from requests->nsepy) (2020.12.5)\n",
            "Requirement already satisfied: python-dateutil>=2.7.3 in /usr/local/lib/python3.7/dist-packages (from pandas->nsepy) (2.8.1)\n",
            "Requirement already satisfied: pytz>=2017.2 in /usr/local/lib/python3.7/dist-packages (from pandas->nsepy) (2018.9)\n",
            "Building wheels for collected packages: nsepy\n",
            "  Building wheel for nsepy (setup.py) ... \u001b[?25l\u001b[?25hdone\n",
            "  Created wheel for nsepy: filename=nsepy-0.8-cp37-none-any.whl size=36083 sha256=7c4192dfd95bd98c1a955a216f4ce2a481bf86b4634232344087a0cb46bfc1ac\n",
            "  Stored in directory: /root/.cache/pip/wheels/05/2c/72/5324e267426eea65dec0c21a12a48b15887c0cf686c7a8fe11\n",
            "Successfully built nsepy\n",
            "Installing collected packages: nsepy\n",
            "Successfully installed nsepy-0.8\n"
          ],
          "name": "stdout"
        }
      ]
    },
    {
      "cell_type": "code",
      "metadata": {
        "colab": {
          "base_uri": "https://localhost:8080/",
          "height": 362
        },
        "id": "gG0B-lfy4nru",
        "outputId": "257fd239-4e84-49d0-baaf-f3ba564bb3ea"
      },
      "source": [
        "start = dt.datetime(2013,1,1)\n",
        "end = dt.datetime(2018,12,31)\n",
        "stk_data = gh(symbol='SBIN',start=start,end=end)\n",
        "stk_data.shape"
      ],
      "execution_count": null,
      "outputs": [
        {
          "output_type": "error",
          "ename": "KeyboardInterrupt",
          "evalue": "ignored",
          "traceback": [
            "\u001b[0;31m---------------------------------------------------------------------------\u001b[0m",
            "\u001b[0;31mKeyboardInterrupt\u001b[0m                         Traceback (most recent call last)",
            "\u001b[0;32m<ipython-input-103-2d1b9a73ff5e>\u001b[0m in \u001b[0;36m<module>\u001b[0;34m()\u001b[0m\n\u001b[1;32m      1\u001b[0m \u001b[0mstart\u001b[0m \u001b[0;34m=\u001b[0m \u001b[0mdt\u001b[0m\u001b[0;34m.\u001b[0m\u001b[0mdatetime\u001b[0m\u001b[0;34m(\u001b[0m\u001b[0;36m2013\u001b[0m\u001b[0;34m,\u001b[0m\u001b[0;36m1\u001b[0m\u001b[0;34m,\u001b[0m\u001b[0;36m1\u001b[0m\u001b[0;34m)\u001b[0m\u001b[0;34m\u001b[0m\u001b[0;34m\u001b[0m\u001b[0m\n\u001b[1;32m      2\u001b[0m \u001b[0mend\u001b[0m \u001b[0;34m=\u001b[0m \u001b[0mdt\u001b[0m\u001b[0;34m.\u001b[0m\u001b[0mdatetime\u001b[0m\u001b[0;34m(\u001b[0m\u001b[0;36m2018\u001b[0m\u001b[0;34m,\u001b[0m\u001b[0;36m12\u001b[0m\u001b[0;34m,\u001b[0m\u001b[0;36m31\u001b[0m\u001b[0;34m)\u001b[0m\u001b[0;34m\u001b[0m\u001b[0;34m\u001b[0m\u001b[0m\n\u001b[0;32m----> 3\u001b[0;31m \u001b[0mstk_data\u001b[0m \u001b[0;34m=\u001b[0m \u001b[0mgh\u001b[0m\u001b[0;34m(\u001b[0m\u001b[0msymbol\u001b[0m\u001b[0;34m=\u001b[0m\u001b[0;34m'SBIN'\u001b[0m\u001b[0;34m,\u001b[0m\u001b[0mstart\u001b[0m\u001b[0;34m=\u001b[0m\u001b[0mstart\u001b[0m\u001b[0;34m,\u001b[0m\u001b[0mend\u001b[0m\u001b[0;34m=\u001b[0m\u001b[0mend\u001b[0m\u001b[0;34m)\u001b[0m\u001b[0;34m\u001b[0m\u001b[0;34m\u001b[0m\u001b[0m\n\u001b[0m\u001b[1;32m      4\u001b[0m \u001b[0mstk_data\u001b[0m\u001b[0;34m.\u001b[0m\u001b[0mshape\u001b[0m\u001b[0;34m\u001b[0m\u001b[0;34m\u001b[0m\u001b[0m\n",
            "\u001b[0;32m/usr/local/lib/python3.7/dist-packages/nsepy/history.py\u001b[0m in \u001b[0;36mget_history\u001b[0;34m(symbol, start, end, index, futures, option_type, expiry_date, strike_price, series)\u001b[0m\n\u001b[1;32m    132\u001b[0m         \u001b[0mt1\u001b[0m\u001b[0;34m.\u001b[0m\u001b[0mstart\u001b[0m\u001b[0;34m(\u001b[0m\u001b[0;34m)\u001b[0m\u001b[0;34m\u001b[0m\u001b[0;34m\u001b[0m\u001b[0m\n\u001b[1;32m    133\u001b[0m         \u001b[0mt2\u001b[0m\u001b[0;34m.\u001b[0m\u001b[0mstart\u001b[0m\u001b[0;34m(\u001b[0m\u001b[0;34m)\u001b[0m\u001b[0;34m\u001b[0m\u001b[0;34m\u001b[0m\u001b[0m\n\u001b[0;32m--> 134\u001b[0;31m         \u001b[0mt1\u001b[0m\u001b[0;34m.\u001b[0m\u001b[0mjoin\u001b[0m\u001b[0;34m(\u001b[0m\u001b[0;34m)\u001b[0m\u001b[0;34m\u001b[0m\u001b[0;34m\u001b[0m\u001b[0m\n\u001b[0m\u001b[1;32m    135\u001b[0m         \u001b[0mt2\u001b[0m\u001b[0;34m.\u001b[0m\u001b[0mjoin\u001b[0m\u001b[0;34m(\u001b[0m\u001b[0;34m)\u001b[0m\u001b[0;34m\u001b[0m\u001b[0;34m\u001b[0m\u001b[0m\n\u001b[1;32m    136\u001b[0m         \u001b[0;32mreturn\u001b[0m \u001b[0mpd\u001b[0m\u001b[0;34m.\u001b[0m\u001b[0mconcat\u001b[0m\u001b[0;34m(\u001b[0m\u001b[0;34m(\u001b[0m\u001b[0mt1\u001b[0m\u001b[0;34m.\u001b[0m\u001b[0mresult\u001b[0m\u001b[0;34m,\u001b[0m \u001b[0mt2\u001b[0m\u001b[0;34m.\u001b[0m\u001b[0mresult\u001b[0m\u001b[0;34m)\u001b[0m\u001b[0;34m)\u001b[0m\u001b[0;34m\u001b[0m\u001b[0;34m\u001b[0m\u001b[0m\n",
            "\u001b[0;32m/usr/lib/python3.7/threading.py\u001b[0m in \u001b[0;36mjoin\u001b[0;34m(self, timeout)\u001b[0m\n\u001b[1;32m   1042\u001b[0m \u001b[0;34m\u001b[0m\u001b[0m\n\u001b[1;32m   1043\u001b[0m         \u001b[0;32mif\u001b[0m \u001b[0mtimeout\u001b[0m \u001b[0;32mis\u001b[0m \u001b[0;32mNone\u001b[0m\u001b[0;34m:\u001b[0m\u001b[0;34m\u001b[0m\u001b[0;34m\u001b[0m\u001b[0m\n\u001b[0;32m-> 1044\u001b[0;31m             \u001b[0mself\u001b[0m\u001b[0;34m.\u001b[0m\u001b[0m_wait_for_tstate_lock\u001b[0m\u001b[0;34m(\u001b[0m\u001b[0;34m)\u001b[0m\u001b[0;34m\u001b[0m\u001b[0;34m\u001b[0m\u001b[0m\n\u001b[0m\u001b[1;32m   1045\u001b[0m         \u001b[0;32melse\u001b[0m\u001b[0;34m:\u001b[0m\u001b[0;34m\u001b[0m\u001b[0;34m\u001b[0m\u001b[0m\n\u001b[1;32m   1046\u001b[0m             \u001b[0;31m# the behavior of a negative timeout isn't documented, but\u001b[0m\u001b[0;34m\u001b[0m\u001b[0;34m\u001b[0m\u001b[0;34m\u001b[0m\u001b[0m\n",
            "\u001b[0;32m/usr/lib/python3.7/threading.py\u001b[0m in \u001b[0;36m_wait_for_tstate_lock\u001b[0;34m(self, block, timeout)\u001b[0m\n\u001b[1;32m   1058\u001b[0m         \u001b[0;32mif\u001b[0m \u001b[0mlock\u001b[0m \u001b[0;32mis\u001b[0m \u001b[0;32mNone\u001b[0m\u001b[0;34m:\u001b[0m  \u001b[0;31m# already determined that the C code is done\u001b[0m\u001b[0;34m\u001b[0m\u001b[0;34m\u001b[0m\u001b[0m\n\u001b[1;32m   1059\u001b[0m             \u001b[0;32massert\u001b[0m \u001b[0mself\u001b[0m\u001b[0;34m.\u001b[0m\u001b[0m_is_stopped\u001b[0m\u001b[0;34m\u001b[0m\u001b[0;34m\u001b[0m\u001b[0m\n\u001b[0;32m-> 1060\u001b[0;31m         \u001b[0;32melif\u001b[0m \u001b[0mlock\u001b[0m\u001b[0;34m.\u001b[0m\u001b[0macquire\u001b[0m\u001b[0;34m(\u001b[0m\u001b[0mblock\u001b[0m\u001b[0;34m,\u001b[0m \u001b[0mtimeout\u001b[0m\u001b[0;34m)\u001b[0m\u001b[0;34m:\u001b[0m\u001b[0;34m\u001b[0m\u001b[0;34m\u001b[0m\u001b[0m\n\u001b[0m\u001b[1;32m   1061\u001b[0m             \u001b[0mlock\u001b[0m\u001b[0;34m.\u001b[0m\u001b[0mrelease\u001b[0m\u001b[0;34m(\u001b[0m\u001b[0;34m)\u001b[0m\u001b[0;34m\u001b[0m\u001b[0;34m\u001b[0m\u001b[0m\n\u001b[1;32m   1062\u001b[0m             \u001b[0mself\u001b[0m\u001b[0;34m.\u001b[0m\u001b[0m_stop\u001b[0m\u001b[0;34m(\u001b[0m\u001b[0;34m)\u001b[0m\u001b[0;34m\u001b[0m\u001b[0;34m\u001b[0m\u001b[0m\n",
            "\u001b[0;31mKeyboardInterrupt\u001b[0m: "
          ]
        }
      ]
    },
    {
      "cell_type": "code",
      "metadata": {
        "colab": {
          "base_uri": "https://localhost:8080/",
          "height": 961
        },
        "id": "au0tStF43sma",
        "outputId": "88306c25-544d-4af5-c028-7c5a6e92e1ff"
      },
      "source": [
        "#Setting start and end dates and fetching the historical data\n",
        "start = dt.datetime(2012,1,1)\n",
        "end = dt.datetime(2019,12,17)\n",
        "stk_data = web.DataReader('AAPL', data_source='yahoo', start='2012-01-01', end='2019-12-17') \n",
        "\n",
        "#Visualizing the fetched data\n",
        "plt.figure(figsize=(14,14))\n",
        "plt.plot(stk_data['Close'])\n",
        "plt.title('Historical Stock Value')\n",
        "plt.xlabel('Date')\n",
        "plt.ylabel('Stock Price')\n",
        "plt.show()\n",
        "\n",
        "print(stk_data.head())"
      ],
      "execution_count": null,
      "outputs": [
        {
          "output_type": "display_data",
          "data": {
            "image/png": "[encoded data removed]",
            "text/plain": [
              "<Figure size 1008x1008 with 1 Axes>"
            ]
          },
          "metadata": {
            "tags": [],
            "needs_background": "light"
          }
        },
        {
          "output_type": "stream",
          "text": [
            "                 High        Low       Open      Close       Volume  Adj Close\n",
            "Date                                                                          \n",
            "2012-01-03  14.732143  14.607143  14.621429  14.686786  302220800.0  12.629209\n",
            "2012-01-04  14.810000  14.617143  14.642857  14.765714  260022000.0  12.697079\n",
            "2012-01-05  14.948214  14.738214  14.819643  14.929643  271269600.0  12.838044\n",
            "2012-01-06  15.098214  14.972143  14.991786  15.085714  318292800.0  12.972249\n",
            "2012-01-09  15.276786  15.048214  15.196429  15.061786  394024400.0  12.951672\n"
          ],
          "name": "stdout"
        }
      ]
    },
    {
      "cell_type": "code",
      "metadata": {
        "colab": {
          "base_uri": "https://localhost:8080/"
        },
        "id": "opamee1r31LX",
        "outputId": "8d2c655f-328d-4071-e3a1-ca2a8fb5750d"
      },
      "source": [
        "#Data Preprocessing\n",
        "stk_data['Date'] = stk_data.index\n",
        "data2 = pd.DataFrame(columns = ['Date', 'Open', 'High', 'Low', 'Close'])\n",
        "data2['Date'] = stk_data['Date']\n",
        "data2['Open'] = stk_data['Open']\n",
        "data2['High'] = stk_data['High']\n",
        "data2['Low'] = stk_data['Low']\n",
        "data2['Close'] = stk_data['Close']\n",
        "train_set = data2.iloc[:, 1:2].values\n",
        "sc = MinMaxScaler(feature_range = (0, 1))\n",
        "training_set_scaled = sc.fit_transform(train_set)\n",
        "len(training_set_scaled)"
      ],
      "execution_count": null,
      "outputs": [
        {
          "output_type": "execute_result",
          "data": {
            "text/plain": [
              "2003"
            ]
          },
          "metadata": {
            "tags": []
          },
          "execution_count": 81
        }
      ]
    },
    {
      "cell_type": "code",
      "metadata": {
        "colab": {
          "base_uri": "https://localhost:8080/",
          "height": 234
        },
        "id": "uF_YvFL034f0",
        "outputId": "644f87c5-7162-4ef2-b85f-1ffe8f31c79a"
      },
      "source": [
        "X_train = []\n",
        "y_train = []\n",
        "for i in range(60, 2003):\n",
        "  X_train.append(training_set_scaled[i-60:i, 0])\n",
        "  y_train.append(training_set_scaled[i, 0]) \n",
        "  X_train, y_train = np.array(X_train), np.array(y_train)\n",
        "  X_train = np.reshape(X_train, (X_train.shape[0], X_train.shape[1], 1))"
      ],
      "execution_count": null,
      "outputs": [
        {
          "output_type": "error",
          "ename": "AttributeError",
          "evalue": "ignored",
          "traceback": [
            "\u001b[0;31m---------------------------------------------------------------------------\u001b[0m",
            "\u001b[0;31mAttributeError\u001b[0m                            Traceback (most recent call last)",
            "\u001b[0;32m<ipython-input-82-e74757a72eaf>\u001b[0m in \u001b[0;36m<module>\u001b[0;34m()\u001b[0m\n\u001b[1;32m      2\u001b[0m \u001b[0my_train\u001b[0m \u001b[0;34m=\u001b[0m \u001b[0;34m[\u001b[0m\u001b[0;34m]\u001b[0m\u001b[0;34m\u001b[0m\u001b[0;34m\u001b[0m\u001b[0m\n\u001b[1;32m      3\u001b[0m \u001b[0;32mfor\u001b[0m \u001b[0mi\u001b[0m \u001b[0;32min\u001b[0m \u001b[0mrange\u001b[0m\u001b[0;34m(\u001b[0m\u001b[0;36m60\u001b[0m\u001b[0;34m,\u001b[0m \u001b[0;36m2003\u001b[0m\u001b[0;34m)\u001b[0m\u001b[0;34m:\u001b[0m\u001b[0;34m\u001b[0m\u001b[0;34m\u001b[0m\u001b[0m\n\u001b[0;32m----> 4\u001b[0;31m   \u001b[0mX_train\u001b[0m\u001b[0;34m.\u001b[0m\u001b[0mappend\u001b[0m\u001b[0;34m(\u001b[0m\u001b[0mtraining_set_scaled\u001b[0m\u001b[0;34m[\u001b[0m\u001b[0mi\u001b[0m\u001b[0;34m-\u001b[0m\u001b[0;36m60\u001b[0m\u001b[0;34m:\u001b[0m\u001b[0mi\u001b[0m\u001b[0;34m,\u001b[0m \u001b[0;36m0\u001b[0m\u001b[0;34m]\u001b[0m\u001b[0;34m)\u001b[0m\u001b[0;34m\u001b[0m\u001b[0;34m\u001b[0m\u001b[0m\n\u001b[0m\u001b[1;32m      5\u001b[0m   \u001b[0my_train\u001b[0m\u001b[0;34m.\u001b[0m\u001b[0mappend\u001b[0m\u001b[0;34m(\u001b[0m\u001b[0mtraining_set_scaled\u001b[0m\u001b[0;34m[\u001b[0m\u001b[0mi\u001b[0m\u001b[0;34m,\u001b[0m \u001b[0;36m0\u001b[0m\u001b[0;34m]\u001b[0m\u001b[0;34m)\u001b[0m\u001b[0;34m\u001b[0m\u001b[0;34m\u001b[0m\u001b[0m\n\u001b[1;32m      6\u001b[0m   \u001b[0mX_train\u001b[0m\u001b[0;34m,\u001b[0m \u001b[0my_train\u001b[0m \u001b[0;34m=\u001b[0m \u001b[0mnp\u001b[0m\u001b[0;34m.\u001b[0m\u001b[0marray\u001b[0m\u001b[0;34m(\u001b[0m\u001b[0mX_train\u001b[0m\u001b[0;34m)\u001b[0m\u001b[0;34m,\u001b[0m \u001b[0mnp\u001b[0m\u001b[0;34m.\u001b[0m\u001b[0marray\u001b[0m\u001b[0;34m(\u001b[0m\u001b[0my_train\u001b[0m\u001b[0;34m)\u001b[0m\u001b[0;34m\u001b[0m\u001b[0;34m\u001b[0m\u001b[0m\n",
            "\u001b[0;31mAttributeError\u001b[0m: 'numpy.ndarray' object has no attribute 'append'"
          ]
        }
      ]
    },
    {
      "cell_type": "code",
      "metadata": {
        "id": "_cQn5OrO23YT"
      },
      "source": [
        "#Defining the LSTM Recurrent Model\n",
        "regressor = Sequential()\n",
        "regressor.add(LSTM(units = 50, return_sequences = True, input_shape = (X_train.shape[1], 1)))\n",
        "regressor.add(Dropout(0.2))\n",
        "regressor.add(LSTM(units = 50, return_sequences = True))\n",
        "regressor.add(Dropout(0.2))\n",
        "regressor.add(LSTM(units = 50, return_sequences = True))\n",
        "regressor.add(Dropout(0.2))\n",
        "regressor.add(LSTM(units = 50))\n",
        "regressor.add(Dropout(0.2))\n",
        "regressor.add(Dense(units = 1))\n",
        "\n",
        "#Compiling and fitting the model\n",
        "regressor.compile(optimizer = 'adam', loss = 'mean_squared_error')\n",
        "regressor.fit(X_train, y_train, epochs = 15, batch_size = 32)\n",
        "\n",
        "\n",
        "#Fetching the test data and preprocessing\n",
        "testdataframe = gh(symbol='SBIN',start=dt.datetime(2019,1,1),end=dt.datetime(2019,9,18))\n",
        "testdataframe['Date'] = testdataframe.index\n",
        "testdata = pd.DataFrame(columns = ['Date', 'Open', 'High', 'Low', 'Close'])\n",
        "testdata['Date'] = testdataframe['Date']\n",
        "testdata['Open'] = testdataframe['Open']\n",
        "testdata['High'] = testdataframe['High']\n",
        "testdata['Low'] = testdataframe['Low']\n",
        "testdata['Close'] = testdataframe['Close']\n",
        "real_stock_price = testdata.iloc[:, 1:2].values\n",
        "dataset_total = pd.concat((data2['Open'], testdata['Open']), axis = 0)\n",
        "inputs = dataset_total[len(dataset_total) - len(testdata) - 60:].values\n",
        "inputs = inputs.reshape(-1,1)\n",
        "inputs = sc.transform(inputs)\n",
        "X_test = []\n",
        "for i in range(60, 235):\n",
        "  X_test.append(inputs[i-60:i, 0])\n",
        "  X_test = np.array(X_test)\n",
        "  X_test = np.reshape(X_test, (X_test.shape[0], X_test.shape[1], 1))\n",
        "\n",
        "#Making predictions on the test data\n",
        "predicted_stock_price = regressor.predict(X_test)\n",
        "predicted_stock_price = sc.inverse_transform(predicted_stock_price)\n",
        "\n",
        "#Visualizing the prediction\n",
        "plt.figure(figsize=(20,10))\n",
        "plt.plot(real_stock_price, color = 'green', label = 'SBI Stock Price')\n",
        "plt.plot(predicted_stock_price, color = 'red', label = 'Predicted SBI Stock Price')\n",
        "plt.title('SBI Stock Price Prediction')\n",
        "plt.xlabel('Trading Day')\n",
        "plt.ylabel('SBI Stock Price')\n",
        "plt.legend()\n",
        "plt.show()"
      ],
      "execution_count": null,
      "outputs": []
    },
    {
      "cell_type": "markdown",
      "metadata": {
        "id": "ZkbA5v6XF6Rr"
      },
      "source": [
        "### **XGBoost**"
      ]
    },
    {
      "cell_type": "code",
      "metadata": {
        "colab": {
          "base_uri": "https://localhost:8080/"
        },
        "id": "T3p6OtXsGDOI",
        "outputId": "6b90d6e8-9341-4850-ec89-a01af8bab3d4"
      },
      "source": [
        "!pip install shap\n",
        "import shap"
      ],
      "execution_count": null,
      "outputs": [
        {
          "output_type": "stream",
          "text": [
            "Requirement already satisfied: shap in /usr/local/lib/python3.7/dist-packages (0.39.0)\n",
            "Requirement already satisfied: cloudpickle in /usr/local/lib/python3.7/dist-packages (from shap) (1.3.0)\n",
            "Requirement already satisfied: numpy in /usr/local/lib/python3.7/dist-packages (from shap) (1.19.5)\n",
            "Requirement already satisfied: scikit-learn in /usr/local/lib/python3.7/dist-packages (from shap) (0.22.2.post1)\n",
            "Requirement already satisfied: numba in /usr/local/lib/python3.7/dist-packages (from shap) (0.51.2)\n",
            "Requirement already satisfied: tqdm>4.25.0 in /usr/local/lib/python3.7/dist-packages (from shap) (4.41.1)\n",
            "Requirement already satisfied: slicer==0.0.7 in /usr/local/lib/python3.7/dist-packages (from shap) (0.0.7)\n",
            "Requirement already satisfied: scipy in /usr/local/lib/python3.7/dist-packages (from shap) (1.4.1)\n",
            "Requirement already satisfied: pandas in /usr/local/lib/python3.7/dist-packages (from shap) (1.1.5)\n",
            "Requirement already satisfied: joblib>=0.11 in /usr/local/lib/python3.7/dist-packages (from scikit-learn->shap) (1.0.1)\n",
            "Requirement already satisfied: setuptools in /usr/local/lib/python3.7/dist-packages (from numba->shap) (56.1.0)\n",
            "Requirement already satisfied: llvmlite<0.35,>=0.34.0.dev0 in /usr/local/lib/python3.7/dist-packages (from numba->shap) (0.34.0)\n",
            "Requirement already satisfied: pytz>=2017.2 in /usr/local/lib/python3.7/dist-packages (from pandas->shap) (2018.9)\n",
            "Requirement already satisfied: python-dateutil>=2.7.3 in /usr/local/lib/python3.7/dist-packages (from pandas->shap) (2.8.1)\n",
            "Requirement already satisfied: six>=1.5 in /usr/local/lib/python3.7/dist-packages (from python-dateutil>=2.7.3->pandas->shap) (1.15.0)\n"
          ],
          "name": "stdout"
        }
      ]
    },
    {
      "cell_type": "code",
      "metadata": {
        "colab": {
          "base_uri": "https://localhost:8080/"
        },
        "id": "RJLwZOX58ifD",
        "outputId": "5c5b5966-6e84-4b2a-e93c-1c4f34e699b1"
      },
      "source": [
        "from google.colab import drive\n",
        "\n",
        "drive.mount('/content/gdrive')"
      ],
      "execution_count": null,
      "outputs": [
        {
          "output_type": "stream",
          "text": [
            "Drive already mounted at /content/gdrive; to attempt to forcibly remount, call drive.mount(\"/content/gdrive\", force_remount=True).\n"
          ],
          "name": "stdout"
        }
      ]
    },
    {
      "cell_type": "code",
      "metadata": {
        "id": "6FWJXxzUF_Df"
      },
      "source": [
        "import numpy as np\n",
        "import pandas as pd\n",
        "from datetime import datetime\n",
        "import matplotlib.pyplot as plt\n",
        "from pandas.plotting import register_matplotlib_converters\n",
        "import seaborn as sns\n",
        "\n",
        "import xgboost as xgboost\n",
        "from xgboost import XGBRegressor\n",
        "from sklearn.model_selection import train_test_split\n",
        "from sklearn.model_selection import cross_val_score\n",
        "from sklearn.model_selection import RepeatedKFold\n",
        "from sklearn.model_selection import ParameterGrid\n",
        "from sklearn.metrics import mean_squared_error\n",
        "import math"
      ],
      "execution_count": 7,
      "outputs": []
    },
    {
      "cell_type": "code",
      "metadata": {
        "colab": {
          "base_uri": "https://localhost:8080/"
        },
        "id": "axkb8ykE7lwX",
        "outputId": "771667ad-3e72-4348-a202-b986de0bf1c0"
      },
      "source": [
        "path = \"./gdrive/MyDrive/Colab Datasets/twosigma_data/\"\n",
        "\n",
        "df = pd.read_csv(path+\"market_train_full.csv\")\n",
        "df['time'] = pd.to_datetime(df['time']).dt.date\n",
        "# .dt.date.astype('datetime64') \n",
        "#df['time'] = datetime.strptime(df['time'], \"%Y-%m-%d\")\n",
        "df['time'].head()"
      ],
      "execution_count": null,
      "outputs": [
        {
          "output_type": "execute_result",
          "data": {
            "text/plain": [
              "0    2007-02-01\n",
              "1    2007-02-01\n",
              "2    2007-02-01\n",
              "3    2007-02-01\n",
              "4    2007-02-01\n",
              "Name: time, dtype: object"
            ]
          },
          "metadata": {
            "tags": []
          },
          "execution_count": 28
        }
      ]
    },
    {
      "cell_type": "code",
      "metadata": {
        "colab": {
          "base_uri": "https://localhost:8080/"
        },
        "id": "oVJoEUK08n2O",
        "outputId": "15873f81-d161-4bdd-9667-edfec802224e"
      },
      "source": [
        "#X = df.drop(['Unnamed: 0','time','assetCode','assetName','returnsOpenNextMktres10'], axis=1)\n",
        "#X['universe'] = X['universe'].astype(int)\n",
        "#y = df['returnsOpenNextMktres10']\n",
        "#y[y > 0] = 1\n",
        "#y[y < 0] = 1\n",
        "\n",
        "\n",
        "# time series split: train & test datasets\n",
        "year_list = df['time'].unique().tolist()\n",
        "splits = {'train': [],'validate':[], 'test': []}\n",
        "\n",
        "train_yr = year_list[0:round(len(year_list)*0.6)]\n",
        "validation_yr = year_list[round(len(year_list)*0.6):round(len(year_list)*0.9)]\n",
        "test_yr = year_list[round(len(year_list)*0.9):]\n",
        "\n",
        "splits['train'].append(df.loc[df.time.isin(train_yr), :])\n",
        "splits['validate'].append(df.loc[df.time.isin(validation_yr), :])\n",
        "splits['test'].append(df.loc[df.time.isin(test_yr), :])\n",
        "\n",
        "print(df['time'].unique().min())\n",
        "print(df['time'].unique().max())\n",
        "print(len(year_list))\n",
        "\n",
        "print(\"training date min: \",splits['train'][0]['time'].min())\n",
        "print(\"training date max: \",splits['train'][0]['time'].max())\n",
        "print(\"validate date min: \",splits['validate'][0]['time'].min())\n",
        "print(\"validate date max: \",splits['validate'][0]['time'].max())\n",
        "print(\"testing date min: \",splits['test'][0]['time'].min())\n",
        "print(\"testing date max: \",splits['test'][0]['time'].max())\n",
        "\n",
        "X_train = splits['train'][0].drop(['Unnamed: 0','time','assetCode','assetName','returnsOpenNextMktres10'], axis=1)\n",
        "X_train['universe'] = X_train['universe'].astype(int)\n",
        "y_train = splits['train'][0]['returnsOpenNextMktres10']\n",
        "\n",
        "X_validate = splits['validate'][0].drop(['Unnamed: 0','time','assetCode','assetName','returnsOpenNextMktres10'], axis=1)\n",
        "X_validate['universe'] = X_validate['universe'].astype(int)\n",
        "y_validate = splits['validate'][0]['returnsOpenNextMktres10']\n",
        "\n",
        "X_test = splits['test'][0].drop(['Unnamed: 0','time','assetCode','assetName','returnsOpenNextMktres10'], axis=1)\n",
        "X_test['universe'] = X_test['universe'].astype(int)\n",
        "y_test = splits['test'][0]['returnsOpenNextMktres10']"
      ],
      "execution_count": null,
      "outputs": [
        {
          "output_type": "stream",
          "text": [
            "2007-02-01\n",
            "2016-12-30\n",
            "2498\n",
            "training date min:  2007-02-01\n",
            "training date max:  2013-01-14\n",
            "validate date min:  2013-01-15\n",
            "validate date max:  2016-01-05\n",
            "testing date min:  2016-01-06\n",
            "testing date max:  2016-12-30\n"
          ],
          "name": "stdout"
        }
      ]
    },
    {
      "cell_type": "code",
      "metadata": {
        "id": "CF6umLjqEH4S"
      },
      "source": [
        "# for idx, yr in enumerate(year_list[:-1]):\n",
        "#     train_yr = year_list[:idx+1]\n",
        "#     test_yr = [year_list[idx+1]]\n",
        "#     #print('TRAIN: ', train_yr, 'TEST: ',test_yr)\n",
        "#     #print(data.loc[data['time'].isin(train_yr), :].head())\n",
        "#     splits['train'].append(data.loc[data.time.isin(train_yr), :])\n",
        "#     splits['validate'].append(data.loc[data.time.isin(test_yr), :])\n",
        "#     splits['test'].append(data.loc[data.time.isin(test_yr), :])\n",
        "\n",
        "\n",
        "# define data_dmatrix\n",
        "data_dmatrix = xgboost.DMatrix(data=X_train,label=y_train)"
      ],
      "execution_count": null,
      "outputs": []
    },
    {
      "cell_type": "code",
      "metadata": {
        "colab": {
          "base_uri": "https://localhost:8080/"
        },
        "id": "w9x_7F6Q8ulD",
        "outputId": "36206578-227e-47ce-be1f-4c3ff3194e84"
      },
      "source": [
        "X_train.info()\n"
      ],
      "execution_count": null,
      "outputs": [
        {
          "output_type": "stream",
          "text": [
            "<class 'pandas.core.frame.DataFrame'>\n",
            "Int64Index: 2369939 entries, 0 to 2369938\n",
            "Data columns (total 12 columns):\n",
            " #   Column                    Dtype  \n",
            "---  ------                    -----  \n",
            " 0   volume                    float64\n",
            " 1   close                     float64\n",
            " 2   open                      float64\n",
            " 3   returnsClosePrevRaw1      float64\n",
            " 4   returnsOpenPrevRaw1       float64\n",
            " 5   returnsClosePrevMktres1   float64\n",
            " 6   returnsOpenPrevMktres1    float64\n",
            " 7   returnsClosePrevRaw10     float64\n",
            " 8   returnsOpenPrevRaw10      float64\n",
            " 9   returnsClosePrevMktres10  float64\n",
            " 10  returnsOpenPrevMktres10   float64\n",
            " 11  universe                  int64  \n",
            "dtypes: float64(11), int64(1)\n",
            "memory usage: 235.1 MB\n"
          ],
          "name": "stdout"
        }
      ]
    },
    {
      "cell_type": "code",
      "metadata": {
        "id": "bJ0WBsfMhHKD"
      },
      "source": [
        "### hyperparameters\n",
        "hyperparas_xgb = {\"objective\": ['reg:squarederror'], \n",
        "                  \"n_estimators\": [50, 100], \n",
        "                  \"learning_rate\":[0.5,1],\n",
        "                  \"max_depth\": [3, 6], \n",
        "                  \"colsample_bylevel\": [0.8, 1]}\n",
        "hyperparas_xgb_list = list(ParameterGrid(hyperparas_xgb))"
      ],
      "execution_count": null,
      "outputs": []
    },
    {
      "cell_type": "code",
      "metadata": {
        "colab": {
          "base_uri": "https://localhost:8080/"
        },
        "id": "uVJFAQJ8--vD",
        "outputId": "85aaddcf-de5a-4886-aed5-91e732483efa"
      },
      "source": [
        "hyperparameters_list = []\n",
        "for hyperpara in hyperparas_xgb_list:\n",
        "    #print(\"hyperparamaters: \" + str(hyperpara) + \"\\n\")\n",
        "    hyperparameters_list.append(str(hyperpara))\n",
        "hyperparameters_list"
      ],
      "execution_count": null,
      "outputs": [
        {
          "output_type": "execute_result",
          "data": {
            "text/plain": [
              "[\"{'colsample_bylevel': 0.8, 'learning_rate': 0.5, 'max_depth': 3, 'n_estimators': 50, 'objective': 'reg:squarederror'}\",\n",
              " \"{'colsample_bylevel': 0.8, 'learning_rate': 0.5, 'max_depth': 3, 'n_estimators': 100, 'objective': 'reg:squarederror'}\",\n",
              " \"{'colsample_bylevel': 0.8, 'learning_rate': 0.5, 'max_depth': 6, 'n_estimators': 50, 'objective': 'reg:squarederror'}\",\n",
              " \"{'colsample_bylevel': 0.8, 'learning_rate': 0.5, 'max_depth': 6, 'n_estimators': 100, 'objective': 'reg:squarederror'}\",\n",
              " \"{'colsample_bylevel': 0.8, 'learning_rate': 1, 'max_depth': 3, 'n_estimators': 50, 'objective': 'reg:squarederror'}\",\n",
              " \"{'colsample_bylevel': 0.8, 'learning_rate': 1, 'max_depth': 3, 'n_estimators': 100, 'objective': 'reg:squarederror'}\",\n",
              " \"{'colsample_bylevel': 0.8, 'learning_rate': 1, 'max_depth': 6, 'n_estimators': 50, 'objective': 'reg:squarederror'}\",\n",
              " \"{'colsample_bylevel': 0.8, 'learning_rate': 1, 'max_depth': 6, 'n_estimators': 100, 'objective': 'reg:squarederror'}\",\n",
              " \"{'colsample_bylevel': 1, 'learning_rate': 0.5, 'max_depth': 3, 'n_estimators': 50, 'objective': 'reg:squarederror'}\",\n",
              " \"{'colsample_bylevel': 1, 'learning_rate': 0.5, 'max_depth': 3, 'n_estimators': 100, 'objective': 'reg:squarederror'}\",\n",
              " \"{'colsample_bylevel': 1, 'learning_rate': 0.5, 'max_depth': 6, 'n_estimators': 50, 'objective': 'reg:squarederror'}\",\n",
              " \"{'colsample_bylevel': 1, 'learning_rate': 0.5, 'max_depth': 6, 'n_estimators': 100, 'objective': 'reg:squarederror'}\",\n",
              " \"{'colsample_bylevel': 1, 'learning_rate': 1, 'max_depth': 3, 'n_estimators': 50, 'objective': 'reg:squarederror'}\",\n",
              " \"{'colsample_bylevel': 1, 'learning_rate': 1, 'max_depth': 3, 'n_estimators': 100, 'objective': 'reg:squarederror'}\",\n",
              " \"{'colsample_bylevel': 1, 'learning_rate': 1, 'max_depth': 6, 'n_estimators': 50, 'objective': 'reg:squarederror'}\",\n",
              " \"{'colsample_bylevel': 1, 'learning_rate': 1, 'max_depth': 6, 'n_estimators': 100, 'objective': 'reg:squarederror'}\"]"
            ]
          },
          "metadata": {
            "tags": []
          },
          "execution_count": 9
        }
      ]
    },
    {
      "cell_type": "code",
      "metadata": {
        "colab": {
          "base_uri": "https://localhost:8080/"
        },
        "id": "ePZZcxiGgSOY",
        "outputId": "9248843d-9187-43e0-83a4-7a6a1f28bd47"
      },
      "source": [
        "\n",
        "seed = 12345\n",
        "for hyperpara in hyperparas_xgb_list:\n",
        "    print(\"hyperparamaters: \" + str(hyperpara) + \"\\n\")\n",
        "    model = XGBRegressor(**hyperpara, seed = seed)\n",
        "    model.fit(X_train, y_train, eval_metric='rmse', \n",
        "             eval_set=[(X_validate, y_validate)], verbose=False)\n",
        "    print(\"Performance (validate set): \\n\")\n",
        "    y_pred_validate = model.predict(X_validate)\n",
        "    print(\"RMSE : %.4f\" % math.sqrt(mean_squared_error(y_validate, y_pred_validate)))\n",
        "   "
      ],
      "execution_count": null,
      "outputs": [
        {
          "output_type": "stream",
          "text": [
            "hyperparamaters: {'colsample_bylevel': 0.8, 'learning_rate': 0.5, 'max_depth': 3, 'n_estimators': 50, 'objective': 'reg:squarederror'}\n",
            "\n",
            "Performance (validate set): \n",
            "\n",
            "RMSE : 0.4279\n",
            "hyperparamaters: {'colsample_bylevel': 0.8, 'learning_rate': 0.5, 'max_depth': 3, 'n_estimators': 100, 'objective': 'reg:squarederror'}\n",
            "\n",
            "Performance (validate set): \n",
            "\n",
            "RMSE : 2.0656\n",
            "hyperparamaters: {'colsample_bylevel': 0.8, 'learning_rate': 0.5, 'max_depth': 6, 'n_estimators': 50, 'objective': 'reg:squarederror'}\n",
            "\n",
            "Performance (validate set): \n",
            "\n",
            "RMSE : 4.3336\n",
            "hyperparamaters: {'colsample_bylevel': 0.8, 'learning_rate': 0.5, 'max_depth': 6, 'n_estimators': 100, 'objective': 'reg:squarederror'}\n",
            "\n",
            "Performance (validate set): \n",
            "\n",
            "RMSE : 4.4449\n",
            "hyperparamaters: {'colsample_bylevel': 0.8, 'learning_rate': 1, 'max_depth': 3, 'n_estimators': 50, 'objective': 'reg:squarederror'}\n",
            "\n",
            "Performance (validate set): \n",
            "\n",
            "RMSE : 0.2041\n",
            "hyperparamaters: {'colsample_bylevel': 0.8, 'learning_rate': 1, 'max_depth': 3, 'n_estimators': 100, 'objective': 'reg:squarederror'}\n",
            "\n",
            "Performance (validate set): \n",
            "\n",
            "RMSE : 3.0955\n",
            "hyperparamaters: {'colsample_bylevel': 0.8, 'learning_rate': 1, 'max_depth': 6, 'n_estimators': 50, 'objective': 'reg:squarederror'}\n",
            "\n",
            "Performance (validate set): \n",
            "\n",
            "RMSE : 7.1322\n",
            "hyperparamaters: {'colsample_bylevel': 0.8, 'learning_rate': 1, 'max_depth': 6, 'n_estimators': 100, 'objective': 'reg:squarederror'}\n",
            "\n",
            "Performance (validate set): \n",
            "\n",
            "RMSE : 7.1249\n",
            "hyperparamaters: {'colsample_bylevel': 1, 'learning_rate': 0.5, 'max_depth': 3, 'n_estimators': 50, 'objective': 'reg:squarederror'}\n",
            "\n",
            "Performance (validate set): \n",
            "\n",
            "RMSE : 0.8709\n",
            "hyperparamaters: {'colsample_bylevel': 1, 'learning_rate': 0.5, 'max_depth': 3, 'n_estimators': 100, 'objective': 'reg:squarederror'}\n",
            "\n",
            "Performance (validate set): \n",
            "\n",
            "RMSE : 3.2055\n",
            "hyperparamaters: {'colsample_bylevel': 1, 'learning_rate': 0.5, 'max_depth': 6, 'n_estimators': 50, 'objective': 'reg:squarederror'}\n",
            "\n",
            "Performance (validate set): \n",
            "\n",
            "RMSE : 5.8063\n",
            "hyperparamaters: {'colsample_bylevel': 1, 'learning_rate': 0.5, 'max_depth': 6, 'n_estimators': 100, 'objective': 'reg:squarederror'}\n",
            "\n",
            "Performance (validate set): \n",
            "\n",
            "RMSE : 5.9896\n",
            "hyperparamaters: {'colsample_bylevel': 1, 'learning_rate': 1, 'max_depth': 3, 'n_estimators': 50, 'objective': 'reg:squarederror'}\n",
            "\n",
            "Performance (validate set): \n",
            "\n",
            "RMSE : 1.3722\n",
            "hyperparamaters: {'colsample_bylevel': 1, 'learning_rate': 1, 'max_depth': 3, 'n_estimators': 100, 'objective': 'reg:squarederror'}\n",
            "\n",
            "Performance (validate set): \n",
            "\n",
            "RMSE : 3.9455\n",
            "hyperparamaters: {'colsample_bylevel': 1, 'learning_rate': 1, 'max_depth': 6, 'n_estimators': 50, 'objective': 'reg:squarederror'}\n",
            "\n",
            "Performance (validate set): \n",
            "\n",
            "RMSE : 6.6684\n",
            "hyperparamaters: {'colsample_bylevel': 1, 'learning_rate': 1, 'max_depth': 6, 'n_estimators': 100, 'objective': 'reg:squarederror'}\n",
            "\n",
            "Performance (validate set): \n",
            "\n",
            "RMSE : 6.6928\n"
          ],
          "name": "stdout"
        }
      ]
    },
    {
      "cell_type": "code",
      "metadata": {
        "id": "QPlyeIO_U3LJ"
      },
      "source": [
        "# declare parameters\n",
        "params= {'colsample_bylevel': 0.8, \n",
        "         'learning_rate': 1, \n",
        "         'max_depth': 3, \n",
        "         'n_estimators': 100, \n",
        "         'objective': 'reg:squarederror'}\n",
        "\n",
        "          \n",
        "# instantiate the classifier \n",
        "xgb_reg = XGBRegressor(**params)"
      ],
      "execution_count": null,
      "outputs": []
    },
    {
      "cell_type": "code",
      "metadata": {
        "colab": {
          "base_uri": "https://localhost:8080/"
        },
        "id": "_iI1QVI_WVNp",
        "outputId": "ae8ec13a-bd33-4d4c-8b8c-c54512720f34"
      },
      "source": [
        "xgb_reg.fit(X_train, y_train)"
      ],
      "execution_count": null,
      "outputs": [
        {
          "output_type": "execute_result",
          "data": {
            "text/plain": [
              "XGBRegressor(base_score=0.5, booster='gbtree', colsample_bylevel=0.8,\n",
              "             colsample_bynode=1, colsample_bytree=1, gamma=0,\n",
              "             importance_type='gain', learning_rate=1, max_delta_step=0,\n",
              "             max_depth=3, min_child_weight=1, missing=None, n_estimators=100,\n",
              "             n_jobs=1, nthread=None, objective='reg:squarederror',\n",
              "             random_state=0, reg_alpha=0, reg_lambda=1, scale_pos_weight=1,\n",
              "             seed=None, silent=None, subsample=1, verbosity=1)"
            ]
          },
          "metadata": {
            "tags": []
          },
          "execution_count": 22
        }
      ]
    },
    {
      "cell_type": "code",
      "metadata": {
        "id": "-rmXJGiCWdgk"
      },
      "source": [
        "#y_pred_val = xgb_reg.predict(X_validate)\n",
        "y_pred_test = xgb_reg.predict(X_test)\n"
      ],
      "execution_count": null,
      "outputs": []
    },
    {
      "cell_type": "code",
      "metadata": {
        "colab": {
          "base_uri": "https://localhost:8080/",
          "height": 451
        },
        "id": "35IQbkFzbJYR",
        "outputId": "157a1933-a7d3-4f1d-eea2-34fd32e33c63"
      },
      "source": [
        "from sklearn.metrics import mean_squared_error\n",
        "import math\n",
        "print(\"test set RMSE: \",math.sqrt(mean_squared_error(y_test, y_pred_test)))\n",
        "#print(\"validation set RMSE: \",math.sqrt(mean_squared_error(y_validate, y_pred_val)))\n",
        "print(xgb_reg.feature_importances_)\n",
        "print(X_train.columns)\n",
        "\n",
        "from xgboost import plot_importance\n",
        "from matplotlib import pyplot\n",
        "plot_importance(xgb_reg)\n",
        "pyplot.show()"
      ],
      "execution_count": null,
      "outputs": [
        {
          "output_type": "stream",
          "text": [
            "test set RMSE:  7.7781450109749155\n",
            "[0.0139075  0.07598315 0.07250463 0.01491107 0.01188481 0.04679103\n",
            " 0.04133471 0.5851457  0.06828664 0.00404843 0.0111661  0.05403628]\n",
            "Index(['volume', 'close', 'open', 'returnsClosePrevRaw1',\n",
            "       'returnsOpenPrevRaw1', 'returnsClosePrevMktres1',\n",
            "       'returnsOpenPrevMktres1', 'returnsClosePrevRaw10',\n",
            "       'returnsOpenPrevRaw10', 'returnsClosePrevMktres10',\n",
            "       'returnsOpenPrevMktres10', 'universe'],\n",
            "      dtype='object')\n"
          ],
          "name": "stdout"
        },
        {
          "output_type": "display_data",
          "data": {
            "image/png": "[encoded data removed]",
            "text/plain": [
              "<Figure size 432x288 with 1 Axes>"
            ]
          },
          "metadata": {
            "tags": [],
            "needs_background": "light"
          }
        }
      ]
    },
    {
      "cell_type": "code",
      "metadata": {
        "id": "DSi9hGC-eHbV"
      },
      "source": [
        "explainer = shap.TreeExplainer(xgb_reg)"
      ],
      "execution_count": null,
      "outputs": []
    },
    {
      "cell_type": "code",
      "metadata": {
        "colab": {
          "base_uri": "https://localhost:8080/",
          "height": 321
        },
        "id": "HLf5IM3IeE72",
        "outputId": "506e6931-7924-48f4-a81b-d2a56d1dccd4"
      },
      "source": [
        "shap_values = explainer.shap_values(X_train,check_additivity=False) # worked\n",
        "\n",
        "# visualize the first prediction's explanation\n",
        "#shap.plots.waterfall(shap_values[0])"
      ],
      "execution_count": null,
      "outputs": [
        {
          "output_type": "error",
          "ename": "AttributeError",
          "evalue": "ignored",
          "traceback": [
            "\u001b[0;31m---------------------------------------------------------------------------\u001b[0m",
            "\u001b[0;31mAttributeError\u001b[0m                            Traceback (most recent call last)",
            "\u001b[0;32m<ipython-input-92-9eb86601ca25>\u001b[0m in \u001b[0;36m<module>\u001b[0;34m()\u001b[0m\n\u001b[1;32m      2\u001b[0m \u001b[0;34m\u001b[0m\u001b[0m\n\u001b[1;32m      3\u001b[0m \u001b[0;31m# visualize the first prediction's explanation\u001b[0m\u001b[0;34m\u001b[0m\u001b[0;34m\u001b[0m\u001b[0;34m\u001b[0m\u001b[0m\n\u001b[0;32m----> 4\u001b[0;31m \u001b[0mshap\u001b[0m\u001b[0;34m.\u001b[0m\u001b[0mplots\u001b[0m\u001b[0;34m.\u001b[0m\u001b[0mwaterfall\u001b[0m\u001b[0;34m(\u001b[0m\u001b[0mshap_values\u001b[0m\u001b[0;34m[\u001b[0m\u001b[0;36m0\u001b[0m\u001b[0;34m]\u001b[0m\u001b[0;34m)\u001b[0m\u001b[0;34m\u001b[0m\u001b[0;34m\u001b[0m\u001b[0m\n\u001b[0m",
            "\u001b[0;32m/usr/local/lib/python3.7/dist-packages/shap/plots/_waterfall.py\u001b[0m in \u001b[0;36mwaterfall\u001b[0;34m(shap_values, max_display, show)\u001b[0m\n\u001b[1;32m     40\u001b[0m \u001b[0;34m\u001b[0m\u001b[0m\n\u001b[1;32m     41\u001b[0m \u001b[0;34m\u001b[0m\u001b[0m\n\u001b[0;32m---> 42\u001b[0;31m     \u001b[0mbase_values\u001b[0m \u001b[0;34m=\u001b[0m \u001b[0mshap_values\u001b[0m\u001b[0;34m.\u001b[0m\u001b[0mbase_values\u001b[0m\u001b[0;34m\u001b[0m\u001b[0;34m\u001b[0m\u001b[0m\n\u001b[0m\u001b[1;32m     43\u001b[0m \u001b[0;34m\u001b[0m\u001b[0m\n\u001b[1;32m     44\u001b[0m     \u001b[0mfeatures\u001b[0m \u001b[0;34m=\u001b[0m \u001b[0mshap_values\u001b[0m\u001b[0;34m.\u001b[0m\u001b[0mdata\u001b[0m\u001b[0;34m\u001b[0m\u001b[0;34m\u001b[0m\u001b[0m\n",
            "\u001b[0;31mAttributeError\u001b[0m: 'numpy.ndarray' object has no attribute 'base_values'"
          ]
        }
      ]
    },
    {
      "cell_type": "code",
      "metadata": {
        "colab": {
          "base_uri": "https://localhost:8080/",
          "height": 411
        },
        "id": "uo6XRNyVh4IH",
        "outputId": "b7ea31d9-ce5f-482c-a14f-b86a8d7dbced"
      },
      "source": [
        "shap.summary_plot(shap_values, X_train)"
      ],
      "execution_count": null,
      "outputs": [
        {
          "output_type": "display_data",
          "data": {
            "image/png": "[encoded data removed]",
            "text/plain": [
              "<Figure size 576x453.6 with 2 Axes>"
            ]
          },
          "metadata": {
            "tags": [],
            "needs_background": "light"
          }
        }
      ]
    },
    {
      "cell_type": "code",
      "metadata": {
        "id": "8C_sU1G5cOG1"
      },
      "source": [
        "shap.force_plot(explainer.expected_value, shap_values)"
      ],
      "execution_count": null,
      "outputs": []
    },
    {
      "cell_type": "code",
      "metadata": {
        "colab": {
          "base_uri": "https://localhost:8080/",
          "height": 461
        },
        "id": "AtOAzZ-AGCgV",
        "outputId": "cc1bb27e-2c8f-448e-8eda-00bc86fb96fe"
      },
      "source": [
        "# train an XGBoost model\n",
        "X, y = shap.datasets.boston()\n",
        "model = xgboost.XGBRegressor().fit(X, y)\n",
        "\n",
        "# explain the model's predictions using SHAP\n",
        "# (same syntax works for LightGBM, CatBoost, scikit-learn, transformers, Spark, etc.)\n",
        "explainer = shap.Explainer(model)\n",
        "shap_values = explainer(X)\n",
        "\n",
        "# visualize the first prediction's explanation\n",
        "shap.plots.waterfall(shap_values[0])"
      ],
      "execution_count": null,
      "outputs": [
        {
          "output_type": "stream",
          "text": [
            "[23:53:24] WARNING: /workspace/src/objective/regression_obj.cu:152: reg:linear is now deprecated in favor of reg:squarederror.\n"
          ],
          "name": "stdout"
        },
        {
          "output_type": "display_data",
          "data": {
            "image/png": "[encoded data removed]",
            "text/plain": [
              "<Figure size 576x468 with 3 Axes>"
            ]
          },
          "metadata": {
            "tags": []
          }
        }
      ]
    },
    {
      "cell_type": "markdown",
      "metadata": {
        "id": "m4zrbtbbh_lQ"
      },
      "source": [
        "### **XGBoost: nested CV**"
      ]
    },
    {
      "cell_type": "code",
      "metadata": {
        "id": "CXdZHD9WiJFL",
        "colab": {
          "base_uri": "https://localhost:8080/"
        },
        "outputId": "adf77fd4-9f01-4910-9bfd-09bffd7a2fbe"
      },
      "source": [
        "from google.colab import drive\n",
        "\n",
        "drive.mount('/content/gdrive')"
      ],
      "execution_count": 1,
      "outputs": [
        {
          "output_type": "stream",
          "text": [
            "Mounted at /content/gdrive\n"
          ],
          "name": "stdout"
        }
      ]
    },
    {
      "cell_type": "code",
      "metadata": {
        "id": "NQiYw5baic8u"
      },
      "source": [
        "import numpy as np\n",
        "import pandas as pd\n",
        "from datetime import datetime\n",
        "from datetime import timedelta \n",
        "import matplotlib.pyplot as plt\n",
        "from pandas.plotting import register_matplotlib_converters\n",
        "import seaborn as sns\n",
        "import pickle\n",
        "from matplotlib import pyplot\n",
        "import math\n",
        "\n",
        "import xgboost as xgboost\n",
        "from xgboost import XGBRegressor\n",
        "from sklearn.model_selection import train_test_split\n",
        "from sklearn.model_selection import cross_val_score\n",
        "from sklearn.model_selection import RepeatedKFold\n",
        "from sklearn.model_selection import ParameterGrid\n",
        "from sklearn.metrics import mean_squared_error\n",
        "from xgboost import plot_importance"
      ],
      "execution_count": 2,
      "outputs": []
    },
    {
      "cell_type": "code",
      "metadata": {
        "colab": {
          "base_uri": "https://localhost:8080/",
          "height": 400
        },
        "id": "ATTGJXZiifdL",
        "outputId": "cee8b218-2eea-402e-e0bf-2ccc476f07ae"
      },
      "source": [
        "path = \"./gdrive/MyDrive/Colab Datasets/twosigma_data/\"\n",
        "\n",
        "df = pd.read_csv(path+\"market_train_full.csv\")\n",
        "df['time'] = pd.to_datetime(df['time'])\n",
        "#df['quarter'] = pd.PeriodIndex(df['time'], freq= 'Q')\n",
        "df['quarter'] = df['time'].dt.to_period(\"Q\")\n",
        "#.dt.date\n",
        "#df['time'].head()\n",
        "df.head()"
      ],
      "execution_count": 3,
      "outputs": [
        {
          "output_type": "stream",
          "text": [
            "/usr/local/lib/python3.7/dist-packages/pandas/core/arrays/datetimes.py:1092: UserWarning: Converting to PeriodArray/Index representation will drop timezone information.\n",
            "  UserWarning,\n"
          ],
          "name": "stderr"
        },
        {
          "output_type": "execute_result",
          "data": {
            "text/html": [
              "<div>\n",
              "<style scoped>\n",
              "    .dataframe tbody tr th:only-of-type {\n",
              "        vertical-align: middle;\n",
              "    }\n",
              "\n",
              "    .dataframe tbody tr th {\n",
              "        vertical-align: top;\n",
              "    }\n",
              "\n",
              "    .dataframe thead th {\n",
              "        text-align: right;\n",
              "    }\n",
              "</style>\n",
              "<table border=\"1\" class=\"dataframe\">\n",
              "  <thead>\n",
              "    <tr style=\"text-align: right;\">\n",
              "      <th></th>\n",
              "      <th>Unnamed: 0</th>\n",
              "      <th>time</th>\n",
              "      <th>assetCode</th>\n",
              "      <th>assetName</th>\n",
              "      <th>volume</th>\n",
              "      <th>close</th>\n",
              "      <th>open</th>\n",
              "      <th>returnsClosePrevRaw1</th>\n",
              "      <th>returnsOpenPrevRaw1</th>\n",
              "      <th>returnsClosePrevMktres1</th>\n",
              "      <th>returnsOpenPrevMktres1</th>\n",
              "      <th>returnsClosePrevRaw10</th>\n",
              "      <th>returnsOpenPrevRaw10</th>\n",
              "      <th>returnsClosePrevMktres10</th>\n",
              "      <th>returnsOpenPrevMktres10</th>\n",
              "      <th>returnsOpenNextMktres10</th>\n",
              "      <th>universe</th>\n",
              "      <th>quarter</th>\n",
              "    </tr>\n",
              "  </thead>\n",
              "  <tbody>\n",
              "    <tr>\n",
              "      <th>0</th>\n",
              "      <td>0</td>\n",
              "      <td>2007-02-01 22:00:00+00:00</td>\n",
              "      <td>A.N</td>\n",
              "      <td>Agilent Technologies Inc</td>\n",
              "      <td>2606900.0</td>\n",
              "      <td>32.19</td>\n",
              "      <td>32.17</td>\n",
              "      <td>0.005938</td>\n",
              "      <td>0.005312</td>\n",
              "      <td>NaN</td>\n",
              "      <td>NaN</td>\n",
              "      <td>-0.001860</td>\n",
              "      <td>0.000622</td>\n",
              "      <td>NaN</td>\n",
              "      <td>NaN</td>\n",
              "      <td>0.034672</td>\n",
              "      <td>1.0</td>\n",
              "      <td>2007Q1</td>\n",
              "    </tr>\n",
              "    <tr>\n",
              "      <th>1</th>\n",
              "      <td>1</td>\n",
              "      <td>2007-02-01 22:00:00+00:00</td>\n",
              "      <td>AAI.N</td>\n",
              "      <td>AirTran Holdings Inc</td>\n",
              "      <td>2051600.0</td>\n",
              "      <td>11.12</td>\n",
              "      <td>11.08</td>\n",
              "      <td>0.004517</td>\n",
              "      <td>-0.007168</td>\n",
              "      <td>NaN</td>\n",
              "      <td>NaN</td>\n",
              "      <td>-0.078708</td>\n",
              "      <td>-0.088066</td>\n",
              "      <td>NaN</td>\n",
              "      <td>NaN</td>\n",
              "      <td>0.027803</td>\n",
              "      <td>0.0</td>\n",
              "      <td>2007Q1</td>\n",
              "    </tr>\n",
              "    <tr>\n",
              "      <th>2</th>\n",
              "      <td>2</td>\n",
              "      <td>2007-02-01 22:00:00+00:00</td>\n",
              "      <td>AAP.N</td>\n",
              "      <td>Advance Auto Parts Inc</td>\n",
              "      <td>1164800.0</td>\n",
              "      <td>37.51</td>\n",
              "      <td>37.99</td>\n",
              "      <td>-0.011594</td>\n",
              "      <td>0.025648</td>\n",
              "      <td>NaN</td>\n",
              "      <td>NaN</td>\n",
              "      <td>0.014332</td>\n",
              "      <td>0.045405</td>\n",
              "      <td>NaN</td>\n",
              "      <td>NaN</td>\n",
              "      <td>0.024433</td>\n",
              "      <td>1.0</td>\n",
              "      <td>2007Q1</td>\n",
              "    </tr>\n",
              "    <tr>\n",
              "      <th>3</th>\n",
              "      <td>3</td>\n",
              "      <td>2007-02-01 22:00:00+00:00</td>\n",
              "      <td>AAPL.O</td>\n",
              "      <td>Apple Inc</td>\n",
              "      <td>23747329.0</td>\n",
              "      <td>84.74</td>\n",
              "      <td>86.23</td>\n",
              "      <td>-0.011548</td>\n",
              "      <td>0.016324</td>\n",
              "      <td>NaN</td>\n",
              "      <td>NaN</td>\n",
              "      <td>-0.048613</td>\n",
              "      <td>-0.037182</td>\n",
              "      <td>NaN</td>\n",
              "      <td>NaN</td>\n",
              "      <td>-0.007425</td>\n",
              "      <td>1.0</td>\n",
              "      <td>2007Q1</td>\n",
              "    </tr>\n",
              "    <tr>\n",
              "      <th>4</th>\n",
              "      <td>4</td>\n",
              "      <td>2007-02-01 22:00:00+00:00</td>\n",
              "      <td>ABB.N</td>\n",
              "      <td>ABB Ltd</td>\n",
              "      <td>1208600.0</td>\n",
              "      <td>18.02</td>\n",
              "      <td>18.01</td>\n",
              "      <td>0.011791</td>\n",
              "      <td>0.025043</td>\n",
              "      <td>NaN</td>\n",
              "      <td>NaN</td>\n",
              "      <td>0.012929</td>\n",
              "      <td>0.020397</td>\n",
              "      <td>NaN</td>\n",
              "      <td>NaN</td>\n",
              "      <td>-0.017994</td>\n",
              "      <td>1.0</td>\n",
              "      <td>2007Q1</td>\n",
              "    </tr>\n",
              "  </tbody>\n",
              "</table>\n",
              "</div>"
            ],
            "text/plain": [
              "   Unnamed: 0                      time  ... universe quarter\n",
              "0           0 2007-02-01 22:00:00+00:00  ...      1.0  2007Q1\n",
              "1           1 2007-02-01 22:00:00+00:00  ...      0.0  2007Q1\n",
              "2           2 2007-02-01 22:00:00+00:00  ...      1.0  2007Q1\n",
              "3           3 2007-02-01 22:00:00+00:00  ...      1.0  2007Q1\n",
              "4           4 2007-02-01 22:00:00+00:00  ...      1.0  2007Q1\n",
              "\n",
              "[5 rows x 18 columns]"
            ]
          },
          "metadata": {
            "tags": []
          },
          "execution_count": 3
        }
      ]
    },
    {
      "cell_type": "code",
      "metadata": {
        "colab": {
          "base_uri": "https://localhost:8080/"
        },
        "id": "hOaQ_A9MigGZ",
        "outputId": "3b0afbfc-9b5d-4010-9a62-3bc7da3fa74c"
      },
      "source": [
        "# 2007-02-01 to 2008-02-01: 1 year of data\n",
        "sample = df[df['time'] < '2008-08-02']\n",
        "print(sample.info())\n",
        "print(sample['time'].min())\n",
        "print(sample['time'].max())"
      ],
      "execution_count": 35,
      "outputs": [
        {
          "output_type": "stream",
          "text": [
            "<class 'pandas.core.frame.DataFrame'>\n",
            "Int64Index: 565437 entries, 0 to 565436\n",
            "Data columns (total 18 columns):\n",
            " #   Column                    Non-Null Count   Dtype              \n",
            "---  ------                    --------------   -----              \n",
            " 0   Unnamed: 0                565437 non-null  int64              \n",
            " 1   time                      565437 non-null  datetime64[ns, UTC]\n",
            " 2   assetCode                 565437 non-null  object             \n",
            " 3   assetName                 565437 non-null  object             \n",
            " 4   volume                    565437 non-null  float64            \n",
            " 5   close                     565437 non-null  float64            \n",
            " 6   open                      565437 non-null  float64            \n",
            " 7   returnsClosePrevRaw1      565437 non-null  float64            \n",
            " 8   returnsOpenPrevRaw1       565437 non-null  float64            \n",
            " 9   returnsClosePrevMktres1   561988 non-null  float64            \n",
            " 10  returnsOpenPrevMktres1    561988 non-null  float64            \n",
            " 11  returnsClosePrevRaw10     565437 non-null  float64            \n",
            " 12  returnsOpenPrevRaw10      565437 non-null  float64            \n",
            " 13  returnsClosePrevMktres10  539876 non-null  float64            \n",
            " 14  returnsOpenPrevMktres10   539876 non-null  float64            \n",
            " 15  returnsOpenNextMktres10   565437 non-null  float64            \n",
            " 16  universe                  565437 non-null  float64            \n",
            " 17  quarter                   565437 non-null  period[Q-DEC]      \n",
            "dtypes: datetime64[ns, UTC](1), float64(13), int64(1), object(2), period[Q-DEC](1)\n",
            "memory usage: 82.0+ MB\n",
            "None\n",
            "2007-02-01 22:00:00+00:00\n",
            "2008-08-01 22:00:00+00:00\n"
          ],
          "name": "stdout"
        }
      ]
    },
    {
      "cell_type": "markdown",
      "metadata": {
        "id": "30zW6IuTwRXj"
      },
      "source": [
        "Use nested approach to split data: \\\\\n",
        "train = Q1, validation = Q2, test = Q3 \\\\\n",
        "train = Q1+Q2, validation = Q3, test = Q4"
      ]
    },
    {
      "cell_type": "code",
      "metadata": {
        "id": "3Yv_mjZtt4nQ"
      },
      "source": [
        "data = sample\n",
        "time_list = data['quarter'].unique()\n",
        "# print(time_list)\n",
        "\n",
        "splits = {'train': [],'validate':[], 'test': []}\n",
        "for i in range(1,len(time_list)-2):\n",
        "  #print(i)\n",
        "  # print(time_list[:i])\n",
        "  # print(time_list[i+1])\n",
        "  # print(time_list[i+2])\n",
        "  train_qtr = (time_list[:i])\n",
        "  validate_qtr = time_list[i]\n",
        "  test_qtr = time_list[i+1]\n",
        "  splits['train'].append(data.loc[data.quarter.isin(train_qtr), :])\n",
        "  splits['validate'].append(data.loc[data.quarter == validate_qtr, :])\n",
        "  splits['test'].append(data.loc[data.quarter == test_qtr, :])"
      ],
      "execution_count": 36,
      "outputs": []
    },
    {
      "cell_type": "code",
      "metadata": {
        "colab": {
          "base_uri": "https://localhost:8080/"
        },
        "id": "p4Jujht17n80",
        "outputId": "bd8f2614-dce5-4c05-d99f-896f5b0c75f4"
      },
      "source": [
        "print(\"train\",splits['train'][0]['quarter'].unique())\n",
        "print(\"validate\",splits['validate'][0]['quarter'].unique())\n",
        "print(\"test\",splits['test'][0]['quarter'].unique())\n",
        "print(len(splits['validate']))\n",
        "\n",
        "print(\"train\",splits['train'][1]['quarter'].unique())\n",
        "print(\"validate\",splits['validate'][1]['quarter'].unique())\n",
        "print(\"test\",splits['test'][1]['quarter'].unique())\n",
        "\n",
        "print(\"train\",splits['train'][2]['quarter'].unique())\n",
        "print(\"validate\",splits['validate'][2]['quarter'].unique())\n",
        "print(\"test\",splits['test'][2]['quarter'].unique())\n",
        "\n",
        "print(\"train\",splits['train'][3]['quarter'].unique())\n",
        "print(\"validate\",splits['validate'][3]['quarter'].unique())\n",
        "print(\"test\",splits['test'][3]['quarter'].unique())"
      ],
      "execution_count": 37,
      "outputs": [
        {
          "output_type": "stream",
          "text": [
            "train <PeriodArray>\n",
            "['2007Q1']\n",
            "Length: 1, dtype: period[Q-DEC]\n",
            "validate <PeriodArray>\n",
            "['2007Q2']\n",
            "Length: 1, dtype: period[Q-DEC]\n",
            "test <PeriodArray>\n",
            "['2007Q3']\n",
            "Length: 1, dtype: period[Q-DEC]\n",
            "4\n",
            "train <PeriodArray>\n",
            "['2007Q1', '2007Q2']\n",
            "Length: 2, dtype: period[Q-DEC]\n",
            "validate <PeriodArray>\n",
            "['2007Q3']\n",
            "Length: 1, dtype: period[Q-DEC]\n",
            "test <PeriodArray>\n",
            "['2007Q4']\n",
            "Length: 1, dtype: period[Q-DEC]\n",
            "train <PeriodArray>\n",
            "['2007Q1', '2007Q2', '2007Q3']\n",
            "Length: 3, dtype: period[Q-DEC]\n",
            "validate <PeriodArray>\n",
            "['2007Q4']\n",
            "Length: 1, dtype: period[Q-DEC]\n",
            "test <PeriodArray>\n",
            "['2008Q1']\n",
            "Length: 1, dtype: period[Q-DEC]\n",
            "train <PeriodArray>\n",
            "['2007Q1', '2007Q2', '2007Q3', '2007Q4']\n",
            "Length: 4, dtype: period[Q-DEC]\n",
            "validate <PeriodArray>\n",
            "['2008Q1']\n",
            "Length: 1, dtype: period[Q-DEC]\n",
            "test <PeriodArray>\n",
            "['2008Q2']\n",
            "Length: 1, dtype: period[Q-DEC]\n"
          ],
          "name": "stdout"
        }
      ]
    },
    {
      "cell_type": "code",
      "metadata": {
        "id": "6L_m8sIN44N3"
      },
      "source": [
        "# Tune hyperparameters on training set & evaluate performance on validation set\n",
        "hyperparameters_list = [[]] * len(splits['train'])\n",
        "rmse_list = [[]] * len(splits['train'])\n",
        "\n",
        "for i in range(0,len(splits['train'])):\n",
        "  X_train = splits['train'][i].drop(['Unnamed: 0','time','assetCode','assetName','returnsOpenNextMktres10','quarter'], axis=1)\n",
        "  X_train['universe'] = X_train['universe'].astype(int)\n",
        "  y_train = splits['train'][i]['returnsOpenNextMktres10']\n",
        "\n",
        "  X_validate = splits['validate'][i].drop(['Unnamed: 0','time','assetCode','assetName','returnsOpenNextMktres10','quarter'], axis=1)\n",
        "  X_validate['universe'] = X_validate['universe'].astype(int)\n",
        "  y_validate = splits['validate'][i]['returnsOpenNextMktres10']\n",
        "\n",
        "  # X_test = splits['test'][i].drop(['Unnamed: 0','time','assetCode','assetName','returnsOpenNextMktres10','quarter'], axis=1)\n",
        "  # X_test['universe'] = X_test['universe'].astype(int)\n",
        "  # y_test = splits['test'][i]['returnsOpenNextMktres10']\n",
        "\n",
        "  # data_dmatrix = xgboost.DMatrix(data=X_train,label=y_train)\n",
        "\n",
        "  ### hyperparameters\n",
        "  hyperparas_xgb = {\"objective\": ['reg:squarederror'], \n",
        "                    \"n_estimators\": [20,50,100], \n",
        "                    \"learning_rate\":[0.5,1],\n",
        "                    'gamma': [0.5, 1, 1.5, 2, 5],\n",
        "                    \"max_depth\": [3,4,5, 6], \n",
        "                    \"colsample_bylevel\": [0.8, 1]}\n",
        "  hyperparas_xgb_list = list(ParameterGrid(hyperparas_xgb))\n",
        "\n",
        "  seed = 12345\n",
        "  for hyperpara in hyperparas_xgb_list:\n",
        "      #print(\"hyperparamaters: \" + str(hyperpara) + \"\\n\")\n",
        "      hyperparameters_list[i].append(str(hyperpara))\n",
        "      model = XGBRegressor(**hyperpara, seed = seed)\n",
        "      model.fit(X_train, y_train, eval_metric='rmse', verbose=False)\n",
        "      # , eval_set=[(X_validate, y_validate)]\n",
        "      #print(\"Performance (validate set): \\n\")\n",
        "      y_pred_validate = model.predict(X_validate)\n",
        "      print(\"RMSE : %.4f\" % math.sqrt(mean_squared_error(y_validate, y_pred_validate)))\n",
        "      rmse_list[i].append(math.sqrt(mean_squared_error(y_validate, y_pred_validate)))\n",
        "  \n",
        "f1 = open(\"rmse_list.pkl\", \"wb\")\n",
        "pickle.dump(rmse_list, f1)\n",
        "f1.close()\n",
        "\n",
        "f2 = open(\"hyperparameters_list.pkl\", \"wb\")\n",
        "pickle.dump(hyperparameters_list, f2)\n",
        "f2.close()\n",
        "\n",
        "!cp \"rmse_list.pkl\" \"./gdrive/MyDrive/Colab Datasets/twosigma_data/modeling_results/\"\n",
        "!cp \"hyperparameters_list.pkl\" \"./gdrive/MyDrive/Colab Datasets/twosigma_data/modeling_results/\""
      ],
      "execution_count": null,
      "outputs": []
    },
    {
      "cell_type": "code",
      "metadata": {
        "id": "AcLPYLMCCIdx"
      },
      "source": [
        "f1 = open(\"rmse_list.pkl\", \"wb\")\n",
        "pickle.dump(rmse_list, f1)\n",
        "f1.close()\n",
        "\n",
        "f2 = open(\"hyperparameters_list.pkl\", \"wb\")\n",
        "pickle.dump(hyperparameters_list, f2)\n",
        "f2.close()\n",
        "\n",
        "!cp \"rmse_list.pkl\" \"./gdrive/MyDrive/Colab Datasets/twosigma_data/modeling_results/\"\n",
        "!cp \"hyperparameters_list.pkl\" \"./gdrive/MyDrive/Colab Datasets/twosigma_data/modeling_results/\""
      ],
      "execution_count": 9,
      "outputs": []
    },
    {
      "cell_type": "code",
      "metadata": {
        "colab": {
          "base_uri": "https://localhost:8080/"
        },
        "id": "Sfk95CRBdBOM",
        "outputId": "a301c4c6-e700-468c-8939-cd67deae1e68"
      },
      "source": [
        "print(min(rmse_list[3]))\n",
        "print(hyperparameters_list[0][0:3])"
      ],
      "execution_count": 8,
      "outputs": [
        {
          "output_type": "stream",
          "text": [
            "0.18298932614912936\n",
            "[\"{'colsample_bylevel': 0.8, 'gamma': 0.5, 'learning_rate': 0.5, 'max_depth': 3, 'n_estimators': 20, 'objective': 'reg:squarederror'}\", \"{'colsample_bylevel': 0.8, 'gamma': 0.5, 'learning_rate': 0.5, 'max_depth': 3, 'n_estimators': 50, 'objective': 'reg:squarederror'}\", \"{'colsample_bylevel': 0.8, 'gamma': 0.5, 'learning_rate': 0.5, 'max_depth': 3, 'n_estimators': 100, 'objective': 'reg:squarederror'}\"]\n"
          ],
          "name": "stdout"
        }
      ]
    },
    {
      "cell_type": "code",
      "metadata": {
        "id": "kQC_TN8CejSS"
      },
      "source": [
        "open_file = open(\"./gdrive/MyDrive/Colab Datasets/twosigma_data/modeling_results/rmse_list.pkl\", \"rb\")\n",
        "rmse_list = pickle.load(open_file)\n",
        "open_file.close()\n",
        "\n",
        "open_file = open(\"./gdrive/MyDrive/Colab Datasets/twosigma_data/modeling_results/hyperparameters_list.pkl\", \"rb\")\n",
        "hyperparameters_list = pickle.load(open_file)\n",
        "open_file.close()"
      ],
      "execution_count": 11,
      "outputs": []
    },
    {
      "cell_type": "code",
      "metadata": {
        "id": "-Q2MVZLZhwsS"
      },
      "source": [
        "# !cp \"rmse_list.pkl\" \"./gdrive/MyDrive/Colab Datasets/twosigma_data/modeling_results/\"\n",
        "# !cp \"hyperparameters_list.pkl\" \"./gdrive/MyDrive/Colab Datasets/twosigma_data/modeling_results/\""
      ],
      "execution_count": 70,
      "outputs": []
    },
    {
      "cell_type": "code",
      "metadata": {
        "colab": {
          "base_uri": "https://localhost:8080/"
        },
        "id": "Aw2bmthhTrR0",
        "outputId": "bfed3e9d-7851-47d1-9724-77631bc28c42"
      },
      "source": [
        "for i in range(0,len(splits['train'])):\n",
        "  min_index = rmse_list[i].index(min(rmse_list[i]))\n",
        "  print(\"RMSE: \",rmse_list[i][min_index])\n",
        "  print(\"parameters: \",hyperparameters_list[i][min_index])"
      ],
      "execution_count": 19,
      "outputs": [
        {
          "output_type": "stream",
          "text": [
            "RMSE:  0.18298932614912936\n",
            "parameters:  {'colsample_bylevel': 0.8, 'gamma': 1, 'learning_rate': 0.5, 'max_depth': 6, 'n_estimators': 20, 'objective': 'reg:squarederror'}\n",
            "RMSE:  0.18298932614912936\n",
            "parameters:  {'colsample_bylevel': 0.8, 'gamma': 1, 'learning_rate': 0.5, 'max_depth': 6, 'n_estimators': 20, 'objective': 'reg:squarederror'}\n",
            "RMSE:  0.18298932614912936\n",
            "parameters:  {'colsample_bylevel': 0.8, 'gamma': 1, 'learning_rate': 0.5, 'max_depth': 6, 'n_estimators': 20, 'objective': 'reg:squarederror'}\n",
            "RMSE:  0.18298932614912936\n",
            "parameters:  {'colsample_bylevel': 0.8, 'gamma': 1, 'learning_rate': 0.5, 'max_depth': 6, 'n_estimators': 20, 'objective': 'reg:squarederror'}\n"
          ],
          "name": "stdout"
        }
      ]
    },
    {
      "cell_type": "code",
      "metadata": {
        "id": "zqz53YHQlS-a",
        "colab": {
          "base_uri": "https://localhost:8080/"
        },
        "outputId": "82338146-9d64-450e-af37-a6eb4db9a111"
      },
      "source": [
        "params= {'colsample_bylevel': 0.8, \n",
        "        'learning_rate': 0.5, \n",
        "        'max_depth': 6, \n",
        "        'n_estimators': 50, \n",
        "        'objective': 'reg:squarederror'}\n",
        "\n",
        "# min_index = rmse_list.index(min(rmse_list))\n",
        "# params = hyperparameters_list[min_index]\n",
        "# models = []\n",
        "for i in range(0,len(splits['train'])):\n",
        "  X_train = splits['train'][i].drop(['Unnamed: 0','time','assetCode','assetName','returnsOpenNextMktres10','quarter'], axis=1)\n",
        "  X_train['universe'] = X_train['universe'].astype(int)\n",
        "  y_train = splits['train'][i]['returnsOpenNextMktres10']\n",
        "\n",
        "  # X_validate = splits['validate'][i].drop(['Unnamed: 0','time','assetCode','assetName','returnsOpenNextMktres10','quarter'], axis=1)\n",
        "  # X_validate['universe'] = X_validate['universe'].astype(int)\n",
        "  # y_validate = splits['validate'][i]['returnsOpenNextMktres10']\n",
        "\n",
        "  X_test = splits['test'][i].drop(['Unnamed: 0','time','assetCode','assetName','returnsOpenNextMktres10','quarter'], axis=1)\n",
        "  X_test['universe'] = X_test['universe'].astype(int)\n",
        "  y_test = splits['test'][i]['returnsOpenNextMktres10']\n",
        "\n",
        "  # data_dmatrix = xgboost.DMatrix(data=X_train,label=y_train)\n",
        "  # data_dmatrix = xgboost.DMatrix(data=X_test,label=y_test)\n",
        "\n",
        "  # instantiate the classifier \n",
        "  xgb_reg = XGBRegressor(**params)\n",
        "  xgb_reg.fit(X_train, y_train)\n",
        "  y_pred_test = xgb_reg.predict(X_test)\n",
        "  print(i,\"RMSE : %.4f\" % math.sqrt(mean_squared_error(y_test, y_pred_test)))\n",
        "  #plot_importance(xgb_reg)\n",
        "  model_name = \"model_\"+str(i)+\".json\"\n",
        "  xgb_reg.save_model(model_name)"
      ],
      "execution_count": 41,
      "outputs": [
        {
          "output_type": "stream",
          "text": [
            "0 RMSE : 26.8518\n",
            "1 RMSE : 32.6680\n",
            "2 RMSE : 27.6991\n",
            "3 RMSE : 26.9872\n"
          ],
          "name": "stdout"
        }
      ]
    },
    {
      "cell_type": "code",
      "metadata": {
        "colab": {
          "base_uri": "https://localhost:8080/"
        },
        "id": "5D6Rn6-x6Oy4",
        "outputId": "3fd7c469-9156-4b1d-8d65-288eafab37ae"
      },
      "source": [
        "i = 0\n",
        "X_train = splits['train'][i].drop(['Unnamed: 0','time','assetCode','assetName','returnsOpenNextMktres10','quarter'], axis=1)\n",
        "X_train['universe'] = X_train['universe'].astype(int)\n",
        "y_train = splits['train'][i]['returnsOpenNextMktres10']\n",
        "\n",
        "X_validate = splits['validate'][i].drop(['Unnamed: 0','time','assetCode','assetName','returnsOpenNextMktres10','quarter'], axis=1)\n",
        "X_validate['universe'] = X_validate['universe'].astype(int)\n",
        "y_validate = splits['validate'][i]['returnsOpenNextMktres10']\n",
        "\n",
        "# X_test = splits['test'][0].drop(['Unnamed: 0','time','assetCode','assetName','returnsOpenNextMktres10'], axis=1)\n",
        "# X_test['universe'] = X_test['universe'].astype(int)\n",
        "# y_test = splits['test'][0]['returnsOpenNextMktres10']\n",
        "\n",
        "data_dmatrix = xgboost.DMatrix(data=X_train,label=y_train)\n",
        "params= {'colsample_bylevel': 0.8, \n",
        "        'learning_rate': 1, \n",
        "        'max_depth': 3, \n",
        "        'n_estimators': 100, \n",
        "        'objective': 'reg:squarederror'}\n",
        "\n",
        "# instantiate the classifier \n",
        "xgb_reg = XGBRegressor(**params)\n",
        "xgb_reg.fit(X_train, y_train)\n",
        "y_pred_validate = xgb_reg.predict(X_validate)\n",
        "print(i,\"RMSE : %.4f\" % math.sqrt(mean_squared_error(y_validate, y_pred_validate)))"
      ],
      "execution_count": null,
      "outputs": [
        {
          "output_type": "stream",
          "text": [
            "0 RMSE : 27.0135\n"
          ],
          "name": "stdout"
        }
      ]
    },
    {
      "cell_type": "markdown",
      "metadata": {
        "id": "tjnmKDyItpLa"
      },
      "source": [
        "### Model Validation"
      ]
    },
    {
      "cell_type": "markdown",
      "metadata": {
        "id": "HxxIAm0cq7NX"
      },
      "source": [
        "### Random Forest"
      ]
    },
    {
      "cell_type": "code",
      "metadata": {
        "colab": {
          "base_uri": "https://localhost:8080/"
        },
        "id": "X5TLa8IBltf6",
        "outputId": "e3084751-f158-4113-bfcc-410e3744c4f5"
      },
      "source": [
        "from google.colab import drive\n",
        "\n",
        "drive.mount('/content/gdrive')"
      ],
      "execution_count": 4,
      "outputs": [
        {
          "output_type": "stream",
          "text": [
            "Mounted at /content/gdrive\n"
          ],
          "name": "stdout"
        }
      ]
    },
    {
      "cell_type": "code",
      "metadata": {
        "id": "Cdhdcz_-rooC"
      },
      "source": [
        "import numpy as np\n",
        "import pandas as pd\n",
        "from datetime import datetime\n",
        "from datetime import timedelta \n",
        "import matplotlib.pyplot as plt\n",
        "from pandas.plotting import register_matplotlib_converters\n",
        "import seaborn as sns\n",
        "import pickle\n",
        "from matplotlib import pyplot\n",
        "import math\n",
        "\n",
        "from sklearn.ensemble import RandomForestRegressor\n",
        "from sklearn.model_selection import RandomizedSearchCV\n",
        "from sklearn.model_selection import GridSearchCV\n",
        "from pprint import pprint\n",
        "\n",
        "from sklearn.model_selection import train_test_split\n",
        "from sklearn.model_selection import cross_val_score\n",
        "from sklearn.model_selection import RepeatedKFold\n",
        "from sklearn.model_selection import ParameterGrid\n",
        "from sklearn.metrics import mean_squared_error"
      ],
      "execution_count": 5,
      "outputs": []
    },
    {
      "cell_type": "code",
      "metadata": {
        "colab": {
          "base_uri": "https://localhost:8080/",
          "height": 400
        },
        "id": "KIotV05wr2IJ",
        "outputId": "fdbf5feb-eed5-41f8-fa02-c4f8ff9ce873"
      },
      "source": [
        "path = \"./gdrive/MyDrive/Colab Datasets/twosigma_data/\"\n",
        "\n",
        "df = pd.read_csv(path+\"market_train_full.csv\")\n",
        "df['time'] = pd.to_datetime(df['time'])\n",
        "#df['quarter'] = pd.PeriodIndex(df['time'], freq= 'Q')\n",
        "df['quarter'] = df['time'].dt.to_period(\"Q\")\n",
        "df.head()"
      ],
      "execution_count": 6,
      "outputs": [
        {
          "output_type": "stream",
          "text": [
            "/usr/local/lib/python3.7/dist-packages/pandas/core/arrays/datetimes.py:1092: UserWarning: Converting to PeriodArray/Index representation will drop timezone information.\n",
            "  UserWarning,\n"
          ],
          "name": "stderr"
        },
        {
          "output_type": "execute_result",
          "data": {
            "text/html": [
              "<div>\n",
              "<style scoped>\n",
              "    .dataframe tbody tr th:only-of-type {\n",
              "        vertical-align: middle;\n",
              "    }\n",
              "\n",
              "    .dataframe tbody tr th {\n",
              "        vertical-align: top;\n",
              "    }\n",
              "\n",
              "    .dataframe thead th {\n",
              "        text-align: right;\n",
              "    }\n",
              "</style>\n",
              "<table border=\"1\" class=\"dataframe\">\n",
              "  <thead>\n",
              "    <tr style=\"text-align: right;\">\n",
              "      <th></th>\n",
              "      <th>Unnamed: 0</th>\n",
              "      <th>time</th>\n",
              "      <th>assetCode</th>\n",
              "      <th>assetName</th>\n",
              "      <th>volume</th>\n",
              "      <th>close</th>\n",
              "      <th>open</th>\n",
              "      <th>returnsClosePrevRaw1</th>\n",
              "      <th>returnsOpenPrevRaw1</th>\n",
              "      <th>returnsClosePrevMktres1</th>\n",
              "      <th>returnsOpenPrevMktres1</th>\n",
              "      <th>returnsClosePrevRaw10</th>\n",
              "      <th>returnsOpenPrevRaw10</th>\n",
              "      <th>returnsClosePrevMktres10</th>\n",
              "      <th>returnsOpenPrevMktres10</th>\n",
              "      <th>returnsOpenNextMktres10</th>\n",
              "      <th>universe</th>\n",
              "      <th>quarter</th>\n",
              "    </tr>\n",
              "  </thead>\n",
              "  <tbody>\n",
              "    <tr>\n",
              "      <th>0</th>\n",
              "      <td>0</td>\n",
              "      <td>2007-02-01 22:00:00+00:00</td>\n",
              "      <td>A.N</td>\n",
              "      <td>Agilent Technologies Inc</td>\n",
              "      <td>2606900.0</td>\n",
              "      <td>32.19</td>\n",
              "      <td>32.17</td>\n",
              "      <td>0.005938</td>\n",
              "      <td>0.005312</td>\n",
              "      <td>NaN</td>\n",
              "      <td>NaN</td>\n",
              "      <td>-0.001860</td>\n",
              "      <td>0.000622</td>\n",
              "      <td>NaN</td>\n",
              "      <td>NaN</td>\n",
              "      <td>0.034672</td>\n",
              "      <td>1.0</td>\n",
              "      <td>2007Q1</td>\n",
              "    </tr>\n",
              "    <tr>\n",
              "      <th>1</th>\n",
              "      <td>1</td>\n",
              "      <td>2007-02-01 22:00:00+00:00</td>\n",
              "      <td>AAI.N</td>\n",
              "      <td>AirTran Holdings Inc</td>\n",
              "      <td>2051600.0</td>\n",
              "      <td>11.12</td>\n",
              "      <td>11.08</td>\n",
              "      <td>0.004517</td>\n",
              "      <td>-0.007168</td>\n",
              "      <td>NaN</td>\n",
              "      <td>NaN</td>\n",
              "      <td>-0.078708</td>\n",
              "      <td>-0.088066</td>\n",
              "      <td>NaN</td>\n",
              "      <td>NaN</td>\n",
              "      <td>0.027803</td>\n",
              "      <td>0.0</td>\n",
              "      <td>2007Q1</td>\n",
              "    </tr>\n",
              "    <tr>\n",
              "      <th>2</th>\n",
              "      <td>2</td>\n",
              "      <td>2007-02-01 22:00:00+00:00</td>\n",
              "      <td>AAP.N</td>\n",
              "      <td>Advance Auto Parts Inc</td>\n",
              "      <td>1164800.0</td>\n",
              "      <td>37.51</td>\n",
              "      <td>37.99</td>\n",
              "      <td>-0.011594</td>\n",
              "      <td>0.025648</td>\n",
              "      <td>NaN</td>\n",
              "      <td>NaN</td>\n",
              "      <td>0.014332</td>\n",
              "      <td>0.045405</td>\n",
              "      <td>NaN</td>\n",
              "      <td>NaN</td>\n",
              "      <td>0.024433</td>\n",
              "      <td>1.0</td>\n",
              "      <td>2007Q1</td>\n",
              "    </tr>\n",
              "    <tr>\n",
              "      <th>3</th>\n",
              "      <td>3</td>\n",
              "      <td>2007-02-01 22:00:00+00:00</td>\n",
              "      <td>AAPL.O</td>\n",
              "      <td>Apple Inc</td>\n",
              "      <td>23747329.0</td>\n",
              "      <td>84.74</td>\n",
              "      <td>86.23</td>\n",
              "      <td>-0.011548</td>\n",
              "      <td>0.016324</td>\n",
              "      <td>NaN</td>\n",
              "      <td>NaN</td>\n",
              "      <td>-0.048613</td>\n",
              "      <td>-0.037182</td>\n",
              "      <td>NaN</td>\n",
              "      <td>NaN</td>\n",
              "      <td>-0.007425</td>\n",
              "      <td>1.0</td>\n",
              "      <td>2007Q1</td>\n",
              "    </tr>\n",
              "    <tr>\n",
              "      <th>4</th>\n",
              "      <td>4</td>\n",
              "      <td>2007-02-01 22:00:00+00:00</td>\n",
              "      <td>ABB.N</td>\n",
              "      <td>ABB Ltd</td>\n",
              "      <td>1208600.0</td>\n",
              "      <td>18.02</td>\n",
              "      <td>18.01</td>\n",
              "      <td>0.011791</td>\n",
              "      <td>0.025043</td>\n",
              "      <td>NaN</td>\n",
              "      <td>NaN</td>\n",
              "      <td>0.012929</td>\n",
              "      <td>0.020397</td>\n",
              "      <td>NaN</td>\n",
              "      <td>NaN</td>\n",
              "      <td>-0.017994</td>\n",
              "      <td>1.0</td>\n",
              "      <td>2007Q1</td>\n",
              "    </tr>\n",
              "  </tbody>\n",
              "</table>\n",
              "</div>"
            ],
            "text/plain": [
              "   Unnamed: 0                      time  ... universe quarter\n",
              "0           0 2007-02-01 22:00:00+00:00  ...      1.0  2007Q1\n",
              "1           1 2007-02-01 22:00:00+00:00  ...      0.0  2007Q1\n",
              "2           2 2007-02-01 22:00:00+00:00  ...      1.0  2007Q1\n",
              "3           3 2007-02-01 22:00:00+00:00  ...      1.0  2007Q1\n",
              "4           4 2007-02-01 22:00:00+00:00  ...      1.0  2007Q1\n",
              "\n",
              "[5 rows x 18 columns]"
            ]
          },
          "metadata": {
            "tags": []
          },
          "execution_count": 6
        }
      ]
    },
    {
      "cell_type": "code",
      "metadata": {
        "colab": {
          "base_uri": "https://localhost:8080/",
          "height": 1000
        },
        "id": "lNzrXd9kgTcV",
        "outputId": "972aad77-11b6-41fd-ad66-ebceb2d785be"
      },
      "source": [
        "# unique number of asset codes: 3780\n",
        "print(\"unique number of asset codes: \",df['assetCode'].nunique())\n",
        "aapl = df[df['assetCode']==\"AAPL.O\"]\n",
        "(aapl.head(20))\n"
      ],
      "execution_count": 57,
      "outputs": [
        {
          "output_type": "stream",
          "text": [
            "unique number of asset codes:  3780\n"
          ],
          "name": "stdout"
        },
        {
          "output_type": "execute_result",
          "data": {
            "text/html": [
              "<div>\n",
              "<style scoped>\n",
              "    .dataframe tbody tr th:only-of-type {\n",
              "        vertical-align: middle;\n",
              "    }\n",
              "\n",
              "    .dataframe tbody tr th {\n",
              "        vertical-align: top;\n",
              "    }\n",
              "\n",
              "    .dataframe thead th {\n",
              "        text-align: right;\n",
              "    }\n",
              "</style>\n",
              "<table border=\"1\" class=\"dataframe\">\n",
              "  <thead>\n",
              "    <tr style=\"text-align: right;\">\n",
              "      <th></th>\n",
              "      <th>Unnamed: 0</th>\n",
              "      <th>time</th>\n",
              "      <th>assetCode</th>\n",
              "      <th>assetName</th>\n",
              "      <th>volume</th>\n",
              "      <th>close</th>\n",
              "      <th>open</th>\n",
              "      <th>returnsClosePrevRaw1</th>\n",
              "      <th>returnsOpenPrevRaw1</th>\n",
              "      <th>returnsClosePrevMktres1</th>\n",
              "      <th>returnsOpenPrevMktres1</th>\n",
              "      <th>returnsClosePrevRaw10</th>\n",
              "      <th>returnsOpenPrevRaw10</th>\n",
              "      <th>returnsClosePrevMktres10</th>\n",
              "      <th>returnsOpenPrevMktres10</th>\n",
              "      <th>returnsOpenNextMktres10</th>\n",
              "      <th>universe</th>\n",
              "      <th>quarter</th>\n",
              "    </tr>\n",
              "  </thead>\n",
              "  <tbody>\n",
              "    <tr>\n",
              "      <th>3</th>\n",
              "      <td>3</td>\n",
              "      <td>2007-02-01 22:00:00+00:00</td>\n",
              "      <td>AAPL.O</td>\n",
              "      <td>Apple Inc</td>\n",
              "      <td>23747329.0</td>\n",
              "      <td>84.74</td>\n",
              "      <td>86.230</td>\n",
              "      <td>-0.011548</td>\n",
              "      <td>0.016324</td>\n",
              "      <td>NaN</td>\n",
              "      <td>NaN</td>\n",
              "      <td>-0.048613</td>\n",
              "      <td>-0.037182</td>\n",
              "      <td>NaN</td>\n",
              "      <td>NaN</td>\n",
              "      <td>-0.007425</td>\n",
              "      <td>1.0</td>\n",
              "      <td>2007Q1</td>\n",
              "    </tr>\n",
              "    <tr>\n",
              "      <th>1421</th>\n",
              "      <td>1421</td>\n",
              "      <td>2007-02-02 22:00:00+00:00</td>\n",
              "      <td>AAPL.O</td>\n",
              "      <td>Apple Inc</td>\n",
              "      <td>22212416.0</td>\n",
              "      <td>84.75</td>\n",
              "      <td>84.120</td>\n",
              "      <td>0.000118</td>\n",
              "      <td>-0.024469</td>\n",
              "      <td>-0.001091</td>\n",
              "      <td>-0.026983</td>\n",
              "      <td>-0.042373</td>\n",
              "      <td>-0.050779</td>\n",
              "      <td>NaN</td>\n",
              "      <td>NaN</td>\n",
              "      <td>-0.009770</td>\n",
              "      <td>1.0</td>\n",
              "      <td>2007Q1</td>\n",
              "    </tr>\n",
              "    <tr>\n",
              "      <th>2844</th>\n",
              "      <td>2844</td>\n",
              "      <td>2007-02-05 22:00:00+00:00</td>\n",
              "      <td>AAPL.O</td>\n",
              "      <td>Apple Inc</td>\n",
              "      <td>20737742.0</td>\n",
              "      <td>83.94</td>\n",
              "      <td>84.300</td>\n",
              "      <td>-0.009558</td>\n",
              "      <td>0.002140</td>\n",
              "      <td>-0.008843</td>\n",
              "      <td>0.001477</td>\n",
              "      <td>-0.032838</td>\n",
              "      <td>-0.054297</td>\n",
              "      <td>NaN</td>\n",
              "      <td>NaN</td>\n",
              "      <td>0.005037</td>\n",
              "      <td>1.0</td>\n",
              "      <td>2007Q1</td>\n",
              "    </tr>\n",
              "    <tr>\n",
              "      <th>4272</th>\n",
              "      <td>4272</td>\n",
              "      <td>2007-02-06 22:00:00+00:00</td>\n",
              "      <td>AAPL.O</td>\n",
              "      <td>Apple Inc</td>\n",
              "      <td>30893975.0</td>\n",
              "      <td>84.15</td>\n",
              "      <td>84.450</td>\n",
              "      <td>0.002502</td>\n",
              "      <td>0.001779</td>\n",
              "      <td>0.002006</td>\n",
              "      <td>0.002135</td>\n",
              "      <td>-0.018086</td>\n",
              "      <td>-0.014931</td>\n",
              "      <td>NaN</td>\n",
              "      <td>NaN</td>\n",
              "      <td>0.057268</td>\n",
              "      <td>1.0</td>\n",
              "      <td>2007Q1</td>\n",
              "    </tr>\n",
              "    <tr>\n",
              "      <th>5702</th>\n",
              "      <td>5702</td>\n",
              "      <td>2007-02-07 22:00:00+00:00</td>\n",
              "      <td>AAPL.O</td>\n",
              "      <td>Apple Inc</td>\n",
              "      <td>38180972.0</td>\n",
              "      <td>86.15</td>\n",
              "      <td>84.495</td>\n",
              "      <td>0.023767</td>\n",
              "      <td>0.000533</td>\n",
              "      <td>0.022779</td>\n",
              "      <td>0.000392</td>\n",
              "      <td>-0.006344</td>\n",
              "      <td>-0.025039</td>\n",
              "      <td>NaN</td>\n",
              "      <td>NaN</td>\n",
              "      <td>0.034650</td>\n",
              "      <td>1.0</td>\n",
              "      <td>2007Q1</td>\n",
              "    </tr>\n",
              "    <tr>\n",
              "      <th>7134</th>\n",
              "      <td>7134</td>\n",
              "      <td>2007-02-08 22:00:00+00:00</td>\n",
              "      <td>AAPL.O</td>\n",
              "      <td>Apple Inc</td>\n",
              "      <td>24264750.0</td>\n",
              "      <td>86.18</td>\n",
              "      <td>85.430</td>\n",
              "      <td>0.000348</td>\n",
              "      <td>0.011066</td>\n",
              "      <td>0.001591</td>\n",
              "      <td>0.010226</td>\n",
              "      <td>-0.000812</td>\n",
              "      <td>-0.019297</td>\n",
              "      <td>NaN</td>\n",
              "      <td>NaN</td>\n",
              "      <td>0.041006</td>\n",
              "      <td>1.0</td>\n",
              "      <td>2007Q1</td>\n",
              "    </tr>\n",
              "    <tr>\n",
              "      <th>8562</th>\n",
              "      <td>8562</td>\n",
              "      <td>2007-02-09 22:00:00+00:00</td>\n",
              "      <td>AAPL.O</td>\n",
              "      <td>Apple Inc</td>\n",
              "      <td>30756328.0</td>\n",
              "      <td>83.27</td>\n",
              "      <td>85.880</td>\n",
              "      <td>-0.033767</td>\n",
              "      <td>0.005267</td>\n",
              "      <td>-0.024615</td>\n",
              "      <td>0.006735</td>\n",
              "      <td>-0.024713</td>\n",
              "      <td>-0.013497</td>\n",
              "      <td>NaN</td>\n",
              "      <td>NaN</td>\n",
              "      <td>0.011036</td>\n",
              "      <td>1.0</td>\n",
              "      <td>2007Q1</td>\n",
              "    </tr>\n",
              "    <tr>\n",
              "      <th>9994</th>\n",
              "      <td>9994</td>\n",
              "      <td>2007-02-12 22:00:00+00:00</td>\n",
              "      <td>AAPL.O</td>\n",
              "      <td>Apple Inc</td>\n",
              "      <td>25873256.0</td>\n",
              "      <td>84.88</td>\n",
              "      <td>84.440</td>\n",
              "      <td>0.019335</td>\n",
              "      <td>-0.016768</td>\n",
              "      <td>0.023276</td>\n",
              "      <td>-0.009432</td>\n",
              "      <td>-0.012334</td>\n",
              "      <td>-0.021553</td>\n",
              "      <td>NaN</td>\n",
              "      <td>NaN</td>\n",
              "      <td>0.010912</td>\n",
              "      <td>1.0</td>\n",
              "      <td>2007Q1</td>\n",
              "    </tr>\n",
              "    <tr>\n",
              "      <th>11428</th>\n",
              "      <td>11428</td>\n",
              "      <td>2007-02-13 22:00:00+00:00</td>\n",
              "      <td>AAPL.O</td>\n",
              "      <td>Apple Inc</td>\n",
              "      <td>21250545.0</td>\n",
              "      <td>84.63</td>\n",
              "      <td>85.160</td>\n",
              "      <td>-0.002945</td>\n",
              "      <td>0.008527</td>\n",
              "      <td>-0.012278</td>\n",
              "      <td>0.012093</td>\n",
              "      <td>-0.010754</td>\n",
              "      <td>-0.014694</td>\n",
              "      <td>NaN</td>\n",
              "      <td>NaN</td>\n",
              "      <td>-0.001262</td>\n",
              "      <td>1.0</td>\n",
              "      <td>2007Q1</td>\n",
              "    </tr>\n",
              "    <tr>\n",
              "      <th>12860</th>\n",
              "      <td>12860</td>\n",
              "      <td>2007-02-14 22:00:00+00:00</td>\n",
              "      <td>AAPL.O</td>\n",
              "      <td>Apple Inc</td>\n",
              "      <td>18150679.0</td>\n",
              "      <td>85.30</td>\n",
              "      <td>84.630</td>\n",
              "      <td>0.007917</td>\n",
              "      <td>-0.006224</td>\n",
              "      <td>-0.001869</td>\n",
              "      <td>-0.012470</td>\n",
              "      <td>-0.005016</td>\n",
              "      <td>-0.002534</td>\n",
              "      <td>NaN</td>\n",
              "      <td>NaN</td>\n",
              "      <td>-0.002896</td>\n",
              "      <td>1.0</td>\n",
              "      <td>2007Q1</td>\n",
              "    </tr>\n",
              "    <tr>\n",
              "      <th>14293</th>\n",
              "      <td>14293</td>\n",
              "      <td>2007-02-15 22:00:00+00:00</td>\n",
              "      <td>AAPL.O</td>\n",
              "      <td>Apple Inc</td>\n",
              "      <td>12997017.0</td>\n",
              "      <td>85.21</td>\n",
              "      <td>85.310</td>\n",
              "      <td>-0.001055</td>\n",
              "      <td>0.008035</td>\n",
              "      <td>-0.002337</td>\n",
              "      <td>0.000738</td>\n",
              "      <td>0.005546</td>\n",
              "      <td>-0.010669</td>\n",
              "      <td>-0.020233</td>\n",
              "      <td>-0.044809</td>\n",
              "      <td>-0.014505</td>\n",
              "      <td>1.0</td>\n",
              "      <td>2007Q1</td>\n",
              "    </tr>\n",
              "    <tr>\n",
              "      <th>15723</th>\n",
              "      <td>15723</td>\n",
              "      <td>2007-02-16 22:00:00+00:00</td>\n",
              "      <td>AAPL.O</td>\n",
              "      <td>Apple Inc</td>\n",
              "      <td>14288242.0</td>\n",
              "      <td>84.83</td>\n",
              "      <td>85.250</td>\n",
              "      <td>-0.004460</td>\n",
              "      <td>-0.000703</td>\n",
              "      <td>-0.003735</td>\n",
              "      <td>-0.001486</td>\n",
              "      <td>0.000944</td>\n",
              "      <td>0.013433</td>\n",
              "      <td>-0.016087</td>\n",
              "      <td>-0.007425</td>\n",
              "      <td>0.016652</td>\n",
              "      <td>1.0</td>\n",
              "      <td>2007Q1</td>\n",
              "    </tr>\n",
              "    <tr>\n",
              "      <th>17154</th>\n",
              "      <td>17154</td>\n",
              "      <td>2007-02-20 22:00:00+00:00</td>\n",
              "      <td>AAPL.O</td>\n",
              "      <td>Apple Inc</td>\n",
              "      <td>22070251.0</td>\n",
              "      <td>85.90</td>\n",
              "      <td>84.650</td>\n",
              "      <td>0.012613</td>\n",
              "      <td>-0.007038</td>\n",
              "      <td>0.010054</td>\n",
              "      <td>-0.006465</td>\n",
              "      <td>0.023350</td>\n",
              "      <td>0.004152</td>\n",
              "      <td>-0.007057</td>\n",
              "      <td>-0.009770</td>\n",
              "      <td>0.004490</td>\n",
              "      <td>1.0</td>\n",
              "      <td>2007Q1</td>\n",
              "    </tr>\n",
              "    <tr>\n",
              "      <th>18588</th>\n",
              "      <td>18588</td>\n",
              "      <td>2007-02-21 22:00:00+00:00</td>\n",
              "      <td>AAPL.O</td>\n",
              "      <td>Apple Inc</td>\n",
              "      <td>41287170.0</td>\n",
              "      <td>89.20</td>\n",
              "      <td>86.950</td>\n",
              "      <td>0.038417</td>\n",
              "      <td>0.027171</td>\n",
              "      <td>0.039143</td>\n",
              "      <td>0.025081</td>\n",
              "      <td>0.060012</td>\n",
              "      <td>0.029603</td>\n",
              "      <td>0.038896</td>\n",
              "      <td>0.005037</td>\n",
              "      <td>-0.024802</td>\n",
              "      <td>1.0</td>\n",
              "      <td>2007Q1</td>\n",
              "    </tr>\n",
              "    <tr>\n",
              "      <th>20020</th>\n",
              "      <td>20020</td>\n",
              "      <td>2007-02-22 22:00:00+00:00</td>\n",
              "      <td>AAPL.O</td>\n",
              "      <td>Apple Inc</td>\n",
              "      <td>29958756.0</td>\n",
              "      <td>89.51</td>\n",
              "      <td>90.800</td>\n",
              "      <td>0.003475</td>\n",
              "      <td>0.044278</td>\n",
              "      <td>0.003978</td>\n",
              "      <td>0.044371</td>\n",
              "      <td>0.039002</td>\n",
              "      <td>0.074620</td>\n",
              "      <td>0.027178</td>\n",
              "      <td>0.057268</td>\n",
              "      <td>-0.009385</td>\n",
              "      <td>1.0</td>\n",
              "      <td>2007Q1</td>\n",
              "    </tr>\n",
              "    <tr>\n",
              "      <th>21454</th>\n",
              "      <td>21454</td>\n",
              "      <td>2007-02-23 22:00:00+00:00</td>\n",
              "      <td>AAPL.O</td>\n",
              "      <td>Apple Inc</td>\n",
              "      <td>18418648.0</td>\n",
              "      <td>89.07</td>\n",
              "      <td>89.160</td>\n",
              "      <td>-0.004916</td>\n",
              "      <td>-0.018062</td>\n",
              "      <td>-0.003016</td>\n",
              "      <td>-0.017997</td>\n",
              "      <td>0.033534</td>\n",
              "      <td>0.043661</td>\n",
              "      <td>0.027392</td>\n",
              "      <td>0.034650</td>\n",
              "      <td>-0.010073</td>\n",
              "      <td>1.0</td>\n",
              "      <td>2007Q1</td>\n",
              "    </tr>\n",
              "    <tr>\n",
              "      <th>22886</th>\n",
              "      <td>22886</td>\n",
              "      <td>2007-02-26 22:00:00+00:00</td>\n",
              "      <td>AAPL.O</td>\n",
              "      <td>Apple Inc</td>\n",
              "      <td>22036706.0</td>\n",
              "      <td>88.65</td>\n",
              "      <td>89.850</td>\n",
              "      <td>-0.004715</td>\n",
              "      <td>0.007739</td>\n",
              "      <td>-0.004020</td>\n",
              "      <td>0.007647</td>\n",
              "      <td>0.064609</td>\n",
              "      <td>0.046227</td>\n",
              "      <td>0.041175</td>\n",
              "      <td>0.041006</td>\n",
              "      <td>0.033235</td>\n",
              "      <td>1.0</td>\n",
              "      <td>2007Q1</td>\n",
              "    </tr>\n",
              "    <tr>\n",
              "      <th>24323</th>\n",
              "      <td>24323</td>\n",
              "      <td>2007-02-27 22:00:00+00:00</td>\n",
              "      <td>AAPL.O</td>\n",
              "      <td>Apple Inc</td>\n",
              "      <td>41003907.0</td>\n",
              "      <td>83.93</td>\n",
              "      <td>87.100</td>\n",
              "      <td>-0.053243</td>\n",
              "      <td>-0.030607</td>\n",
              "      <td>-0.006846</td>\n",
              "      <td>-0.030491</td>\n",
              "      <td>-0.011192</td>\n",
              "      <td>0.031502</td>\n",
              "      <td>0.008389</td>\n",
              "      <td>0.011036</td>\n",
              "      <td>0.049967</td>\n",
              "      <td>1.0</td>\n",
              "      <td>2007Q1</td>\n",
              "    </tr>\n",
              "    <tr>\n",
              "      <th>25764</th>\n",
              "      <td>25764</td>\n",
              "      <td>2007-02-28 22:00:00+00:00</td>\n",
              "      <td>AAPL.O</td>\n",
              "      <td>Apple Inc</td>\n",
              "      <td>32860017.0</td>\n",
              "      <td>84.61</td>\n",
              "      <td>84.720</td>\n",
              "      <td>0.008102</td>\n",
              "      <td>-0.027325</td>\n",
              "      <td>0.000647</td>\n",
              "      <td>-0.005297</td>\n",
              "      <td>-0.000236</td>\n",
              "      <td>-0.005167</td>\n",
              "      <td>-0.000913</td>\n",
              "      <td>0.010912</td>\n",
              "      <td>0.070747</td>\n",
              "      <td>1.0</td>\n",
              "      <td>2007Q1</td>\n",
              "    </tr>\n",
              "    <tr>\n",
              "      <th>27206</th>\n",
              "      <td>27206</td>\n",
              "      <td>2007-03-01 22:00:00+00:00</td>\n",
              "      <td>AAPL.O</td>\n",
              "      <td>Apple Inc</td>\n",
              "      <td>50566504.0</td>\n",
              "      <td>87.06</td>\n",
              "      <td>84.910</td>\n",
              "      <td>0.028956</td>\n",
              "      <td>0.002243</td>\n",
              "      <td>0.032475</td>\n",
              "      <td>-0.001415</td>\n",
              "      <td>0.020633</td>\n",
              "      <td>0.003309</td>\n",
              "      <td>0.003657</td>\n",
              "      <td>-0.001262</td>\n",
              "      <td>0.035983</td>\n",
              "      <td>1.0</td>\n",
              "      <td>2007Q1</td>\n",
              "    </tr>\n",
              "  </tbody>\n",
              "</table>\n",
              "</div>"
            ],
            "text/plain": [
              "       Unnamed: 0                      time  ... universe quarter\n",
              "3               3 2007-02-01 22:00:00+00:00  ...      1.0  2007Q1\n",
              "1421         1421 2007-02-02 22:00:00+00:00  ...      1.0  2007Q1\n",
              "2844         2844 2007-02-05 22:00:00+00:00  ...      1.0  2007Q1\n",
              "4272         4272 2007-02-06 22:00:00+00:00  ...      1.0  2007Q1\n",
              "5702         5702 2007-02-07 22:00:00+00:00  ...      1.0  2007Q1\n",
              "7134         7134 2007-02-08 22:00:00+00:00  ...      1.0  2007Q1\n",
              "8562         8562 2007-02-09 22:00:00+00:00  ...      1.0  2007Q1\n",
              "9994         9994 2007-02-12 22:00:00+00:00  ...      1.0  2007Q1\n",
              "11428       11428 2007-02-13 22:00:00+00:00  ...      1.0  2007Q1\n",
              "12860       12860 2007-02-14 22:00:00+00:00  ...      1.0  2007Q1\n",
              "14293       14293 2007-02-15 22:00:00+00:00  ...      1.0  2007Q1\n",
              "15723       15723 2007-02-16 22:00:00+00:00  ...      1.0  2007Q1\n",
              "17154       17154 2007-02-20 22:00:00+00:00  ...      1.0  2007Q1\n",
              "18588       18588 2007-02-21 22:00:00+00:00  ...      1.0  2007Q1\n",
              "20020       20020 2007-02-22 22:00:00+00:00  ...      1.0  2007Q1\n",
              "21454       21454 2007-02-23 22:00:00+00:00  ...      1.0  2007Q1\n",
              "22886       22886 2007-02-26 22:00:00+00:00  ...      1.0  2007Q1\n",
              "24323       24323 2007-02-27 22:00:00+00:00  ...      1.0  2007Q1\n",
              "25764       25764 2007-02-28 22:00:00+00:00  ...      1.0  2007Q1\n",
              "27206       27206 2007-03-01 22:00:00+00:00  ...      1.0  2007Q1\n",
              "\n",
              "[20 rows x 18 columns]"
            ]
          },
          "metadata": {
            "tags": []
          },
          "execution_count": 57
        }
      ]
    },
    {
      "cell_type": "code",
      "metadata": {
        "colab": {
          "base_uri": "https://localhost:8080/"
        },
        "id": "tTkaG1bGhqEC",
        "outputId": "4bd058a8-6453-43b8-a402-f11571431ca9"
      },
      "source": [
        "(84.75-84.74)/84.74"
      ],
      "execution_count": 13,
      "outputs": [
        {
          "output_type": "execute_result",
          "data": {
            "text/plain": [
              "0.00011800802454572949"
            ]
          },
          "metadata": {
            "tags": []
          },
          "execution_count": 13
        }
      ]
    },
    {
      "cell_type": "code",
      "metadata": {
        "colab": {
          "base_uri": "https://localhost:8080/"
        },
        "id": "jji9OUAksDMA",
        "outputId": "14cb9b58-72c7-401f-f42b-978f3218881f"
      },
      "source": [
        "# 2007-02-01 to 2008-02-01: 1 year of data\n",
        "sample = df[df['time'] < '2008-08-02']\n",
        "print(sample.info())\n",
        "print(sample['time'].min())\n",
        "print(sample['time'].max())"
      ],
      "execution_count": 7,
      "outputs": [
        {
          "output_type": "stream",
          "text": [
            "<class 'pandas.core.frame.DataFrame'>\n",
            "Int64Index: 565437 entries, 0 to 565436\n",
            "Data columns (total 18 columns):\n",
            " #   Column                    Non-Null Count   Dtype              \n",
            "---  ------                    --------------   -----              \n",
            " 0   Unnamed: 0                565437 non-null  int64              \n",
            " 1   time                      565437 non-null  datetime64[ns, UTC]\n",
            " 2   assetCode                 565437 non-null  object             \n",
            " 3   assetName                 565437 non-null  object             \n",
            " 4   volume                    565437 non-null  float64            \n",
            " 5   close                     565437 non-null  float64            \n",
            " 6   open                      565437 non-null  float64            \n",
            " 7   returnsClosePrevRaw1      565437 non-null  float64            \n",
            " 8   returnsOpenPrevRaw1       565437 non-null  float64            \n",
            " 9   returnsClosePrevMktres1   561988 non-null  float64            \n",
            " 10  returnsOpenPrevMktres1    561988 non-null  float64            \n",
            " 11  returnsClosePrevRaw10     565437 non-null  float64            \n",
            " 12  returnsOpenPrevRaw10      565437 non-null  float64            \n",
            " 13  returnsClosePrevMktres10  539876 non-null  float64            \n",
            " 14  returnsOpenPrevMktres10   539876 non-null  float64            \n",
            " 15  returnsOpenNextMktres10   565437 non-null  float64            \n",
            " 16  universe                  565437 non-null  float64            \n",
            " 17  quarter                   565437 non-null  period[Q-DEC]      \n",
            "dtypes: datetime64[ns, UTC](1), float64(13), int64(1), object(2), period[Q-DEC](1)\n",
            "memory usage: 82.0+ MB\n",
            "None\n",
            "2007-02-01 22:00:00+00:00\n",
            "2008-08-01 22:00:00+00:00\n"
          ],
          "name": "stdout"
        }
      ]
    },
    {
      "cell_type": "code",
      "metadata": {
        "id": "nkgQOjVhsJHH"
      },
      "source": [
        "data = sample\n",
        "time_list = data['quarter'].unique()\n",
        "# print(time_list)\n",
        "\n",
        "splits = {'train': [],'validate':[], 'test': []}\n",
        "for i in range(1,len(time_list)-2):\n",
        "  train_qtr = (time_list[:i])\n",
        "  validate_qtr = time_list[i]\n",
        "  test_qtr = time_list[i+1]\n",
        "  splits['train'].append(data.loc[data.quarter.isin(train_qtr), :])\n",
        "  splits['validate'].append(data.loc[data.quarter == validate_qtr, :])\n",
        "  splits['test'].append(data.loc[data.quarter == test_qtr, :])"
      ],
      "execution_count": 8,
      "outputs": []
    },
    {
      "cell_type": "code",
      "metadata": {
        "id": "Zk-oQnA9sJNc"
      },
      "source": [
        "print(\"train\",splits['train'][0]['quarter'].unique())\n",
        "print(\"validate\",splits['validate'][0]['quarter'].unique())\n",
        "print(\"test\",splits['test'][0]['quarter'].unique())\n",
        "print(len(splits['validate']))\n",
        "\n",
        "print(\"train\",splits['train'][1]['quarter'].unique())\n",
        "print(\"validate\",splits['validate'][1]['quarter'].unique())\n",
        "print(\"test\",splits['test'][1]['quarter'].unique())\n",
        "\n",
        "print(\"train\",splits['train'][2]['quarter'].unique())\n",
        "print(\"validate\",splits['validate'][2]['quarter'].unique())\n",
        "print(\"test\",splits['test'][2]['quarter'].unique())\n",
        "\n",
        "print(\"train\",splits['train'][3]['quarter'].unique())\n",
        "print(\"validate\",splits['validate'][3]['quarter'].unique())\n",
        "print(\"test\",splits['test'][3]['quarter'].unique())"
      ],
      "execution_count": null,
      "outputs": []
    },
    {
      "cell_type": "code",
      "metadata": {
        "colab": {
          "base_uri": "https://localhost:8080/"
        },
        "id": "WhPmLuQgy03E",
        "outputId": "c8a596a6-915b-46bb-a2a8-cb4a6e5c79a8"
      },
      "source": [
        "X_train.isna().sum()"
      ],
      "execution_count": 45,
      "outputs": [
        {
          "output_type": "execute_result",
          "data": {
            "text/plain": [
              "volume                          0\n",
              "close                           0\n",
              "open                            0\n",
              "returnsClosePrevRaw1            0\n",
              "returnsOpenPrevRaw1             0\n",
              "returnsClosePrevMktres1      1648\n",
              "returnsOpenPrevMktres1       1648\n",
              "returnsClosePrevRaw10           0\n",
              "returnsOpenPrevRaw10            0\n",
              "returnsClosePrevMktres10    15384\n",
              "returnsOpenPrevMktres10     15384\n",
              "universe                        0\n",
              "dtype: int64"
            ]
          },
          "metadata": {
            "tags": []
          },
          "execution_count": 45
        }
      ]
    },
    {
      "cell_type": "code",
      "metadata": {
        "id": "w9OI43AkyJV9"
      },
      "source": [
        "# Tune hyperparameters on training set & evaluate performance on validation set\n",
        "hyperparameters_list = [[]] * len(splits['train'])\n",
        "rmse_list = [[]] * len(splits['train'])\n",
        "#i = 0\n",
        "for i in range(0,len(splits['train'])):\n",
        "  X_train = splits['train'][i].drop(['Unnamed: 0','time','assetCode','assetName',\n",
        "                                    'returnsOpenNextMktres10','quarter','returnsClosePrevMktres1','returnsOpenPrevMktres1',\n",
        "                                    'returnsClosePrevMktres10','returnsOpenPrevMktres10'], axis=1)\n",
        "  X_train['universe'] = X_train['universe'].astype(int)\n",
        "  y_train = splits['train'][i]['returnsOpenNextMktres10']\n",
        "\n",
        "  X_validate = splits['validate'][i].drop(['Unnamed: 0','time','assetCode','assetName',\n",
        "                                    'returnsOpenNextMktres10','quarter','returnsClosePrevMktres1','returnsOpenPrevMktres1',\n",
        "                                    'returnsClosePrevMktres10','returnsOpenPrevMktres10'], axis=1)\n",
        "  X_validate['universe'] = X_validate['universe'].astype(int)\n",
        "  y_validate = splits['validate'][i]['returnsOpenNextMktres10']\n",
        "\n",
        "\n",
        "  ### hyperparameters\n",
        "  hyperparas_rf = {'bootstrap': [True],\n",
        "                  'max_depth': [10,20,30],\n",
        "                  'max_features': ['auto', 'sqrt'],\n",
        "                  'min_samples_leaf': [3, 4, 5],\n",
        "                  'min_samples_split': [8, 10, 12],\n",
        "                  'n_estimators': [1, 2,3,4]\n",
        "                    }\n",
        "  hyperparas_rf_list = list(ParameterGrid(hyperparas_rf))\n",
        "\n",
        "  for hyperpara in hyperparas_rf_list:\n",
        "      hyperparameters_list[i].append(str(hyperpara))\n",
        "      model = RandomForestRegressor(**hyperpara)\n",
        "      model.fit(X_train, y_train)\n",
        "      y_pred_validate = model.predict(X_validate)\n",
        "      #print(\"RMSE : %.4f\" % math.sqrt(mean_squared_error(y_validate, y_pred_validate)))\n",
        "      rmse_list[i].append(math.sqrt(mean_squared_error(y_validate, y_pred_validate)))"
      ],
      "execution_count": 66,
      "outputs": []
    },
    {
      "cell_type": "code",
      "metadata": {
        "colab": {
          "base_uri": "https://localhost:8080/"
        },
        "id": "b_zSxYLK5dWZ",
        "outputId": "aeb59fcc-66dd-40cf-d886-ddbeb181ed76"
      },
      "source": [
        "len(hyperparameters_list)\n",
        "\n",
        "len(hyperparameters_list[0])\n",
        "len(rmse_list[0])\n",
        "for i in range(0,len(splits['train'])):\n",
        "  min_index = rmse_list[i].index(min(rmse_list[i]))\n",
        "  print(\"RMSE: \",rmse_list[i][min_index])\n",
        "  print(\"parameters: \",hyperparameters_list[i][min_index])"
      ],
      "execution_count": 67,
      "outputs": [
        {
          "output_type": "stream",
          "text": [
            "RMSE:  2.9925868274228122\n",
            "parameters:  {'bootstrap': True, 'max_depth': 30, 'max_features': 'sqrt', 'min_samples_leaf': 3, 'min_samples_split': 10, 'n_estimators': 4}\n",
            "RMSE:  2.9925868274228122\n",
            "parameters:  {'bootstrap': True, 'max_depth': 30, 'max_features': 'sqrt', 'min_samples_leaf': 3, 'min_samples_split': 10, 'n_estimators': 4}\n",
            "RMSE:  2.9925868274228122\n",
            "parameters:  {'bootstrap': True, 'max_depth': 30, 'max_features': 'sqrt', 'min_samples_leaf': 3, 'min_samples_split': 10, 'n_estimators': 4}\n",
            "RMSE:  2.9925868274228122\n",
            "parameters:  {'bootstrap': True, 'max_depth': 30, 'max_features': 'sqrt', 'min_samples_leaf': 3, 'min_samples_split': 10, 'n_estimators': 4}\n"
          ],
          "name": "stdout"
        }
      ]
    },
    {
      "cell_type": "code",
      "metadata": {
        "id": "CuHSvW-qOD2U"
      },
      "source": [
        "f1 = open(\"rmse_list_val_rf.pkl\", \"wb\")\n",
        "pickle.dump(rmse_list, f1)\n",
        "f1.close()\n",
        "\n",
        "f2 = open(\"hyperparameters_list_val_rf.pkl\", \"wb\")\n",
        "pickle.dump(hyperparameters_list, f2)\n",
        "f2.close()\n",
        "\n",
        "!cp \"rmse_list_val_rf.pkl\" \"./gdrive/MyDrive/Colab Datasets/twosigma_data/modeling_results/\"\n",
        "!cp \"hyperparameters_list_val_rf.pkl\" \"./gdrive/MyDrive/Colab Datasets/twosigma_data/modeling_results/\""
      ],
      "execution_count": 69,
      "outputs": []
    },
    {
      "cell_type": "code",
      "metadata": {
        "colab": {
          "base_uri": "https://localhost:8080/"
        },
        "id": "p6r-PZHE6dyv",
        "outputId": "ff59e1d7-3c78-4eeb-f59e-edafd4890b49"
      },
      "source": [
        "# use best parameters to train model on X_train & evaluate performance on X_test\n",
        "rmse_list_test = [[]] * len(splits['train'])\n",
        "models = [[]] * len(splits['train'])\n",
        "for i in range(0,len(splits['train'])):\n",
        "  X_train = splits['train'][i].drop(['Unnamed: 0','time','assetCode','assetName',\n",
        "                                  'returnsOpenNextMktres10','quarter','returnsClosePrevMktres1','returnsOpenPrevMktres1',\n",
        "                                  'returnsClosePrevMktres10','returnsOpenPrevMktres10'], axis=1)\n",
        "  X_train['universe'] = X_train['universe'].astype(int)\n",
        "  y_train = splits['train'][i]['returnsOpenNextMktres10']\n",
        "\n",
        "  X_test = splits['test'][i].drop(['Unnamed: 0','time','assetCode','assetName',\n",
        "                                    'returnsOpenNextMktres10','quarter','returnsClosePrevMktres1','returnsOpenPrevMktres1',\n",
        "                                    'returnsClosePrevMktres10','returnsOpenPrevMktres10'], axis=1)\n",
        "  X_test['universe'] = X_test['universe'].astype(int)\n",
        "  y_test = splits['test'][i]['returnsOpenNextMktres10']\n",
        "\n",
        "  min_index = rmse_list[i].index(min(rmse_list[i]))\n",
        "  #print(\"RMSE: \",rmse_list[i][min_index])\n",
        "  print(\"parameters: \",hyperparameters_list[i][min_index])\n",
        "\n",
        "  #model = RandomForestRegressor(bootstrap=True,max_depth=30,max_features='sqrt',min_samples_leaf=3,min_samples_split=10,n_estimators=4)\n",
        "  #model.fit(X_train, y_train)\n",
        "  models[i] = RandomForestRegressor(bootstrap=True,max_depth=30,max_features='sqrt',min_samples_leaf=3,min_samples_split=10,n_estimators=4)\n",
        "  models[i].fit(X_train, y_train)\n",
        "  y_pred_test = models[i].predict(X_test)\n",
        "  print(\"RMSE : %.4f\" % math.sqrt(mean_squared_error(y_test, y_pred_test)))\n",
        "  rmse_list_test[i].append(math.sqrt(mean_squared_error(y_test, y_pred_test)))"
      ],
      "execution_count": 91,
      "outputs": [
        {
          "output_type": "stream",
          "text": [
            "parameters:  {'bootstrap': True, 'max_depth': 30, 'max_features': 'sqrt', 'min_samples_leaf': 3, 'min_samples_split': 10, 'n_estimators': 4}\n",
            "RMSE : 26.8777\n",
            "parameters:  {'bootstrap': True, 'max_depth': 30, 'max_features': 'sqrt', 'min_samples_leaf': 3, 'min_samples_split': 10, 'n_estimators': 4}\n",
            "RMSE : 16.2800\n",
            "parameters:  {'bootstrap': True, 'max_depth': 30, 'max_features': 'sqrt', 'min_samples_leaf': 3, 'min_samples_split': 10, 'n_estimators': 4}\n",
            "RMSE : 7.8030\n",
            "parameters:  {'bootstrap': True, 'max_depth': 30, 'max_features': 'sqrt', 'min_samples_leaf': 3, 'min_samples_split': 10, 'n_estimators': 4}\n",
            "RMSE : 6.9361\n"
          ],
          "name": "stdout"
        }
      ]
    },
    {
      "cell_type": "code",
      "metadata": {
        "colab": {
          "base_uri": "https://localhost:8080/",
          "height": 296
        },
        "id": "9dyZ0zKJVsHV",
        "outputId": "6da390c9-ff12-4d59-bd6d-5dbb7d54ba4e"
      },
      "source": [
        "# feature importance plots\n",
        "i = 0\n",
        "sorted_idx = models[i].feature_importances_.argsort()\n",
        "names = list(X_train.columns)\n",
        "sorted_names = [x for _,x in sorted(zip(sorted_idx,names))]\n",
        "\n",
        "plt.barh(sorted_names, models[i].feature_importances_[sorted_idx])\n",
        "plt.xlabel(\"Random Forest Feature Importance\")\n"
      ],
      "execution_count": 109,
      "outputs": [
        {
          "output_type": "execute_result",
          "data": {
            "text/plain": [
              "Text(0.5, 0, 'Random Forest Feature Importance')"
            ]
          },
          "metadata": {
            "tags": []
          },
          "execution_count": 109
        },
        {
          "output_type": "display_data",
          "data": {
            "image/png": "[encoded data removed]",
            "text/plain": [
              "<Figure size 432x288 with 1 Axes>"
            ]
          },
          "metadata": {
            "tags": [],
            "needs_background": "light"
          }
        }
      ]
    },
    {
      "cell_type": "markdown",
      "metadata": {
        "id": "6d-lBhraq8lA"
      },
      "source": [
        "### Neural Network\n"
      ]
    },
    {
      "cell_type": "code",
      "metadata": {
        "colab": {
          "base_uri": "https://localhost:8080/"
        },
        "id": "RL5HQXuJ8UyF",
        "outputId": "1b518b58-fd94-4fcf-a5b7-6501d5201240"
      },
      "source": [
        "!pip install yfinance"
      ],
      "execution_count": 9,
      "outputs": [
        {
          "output_type": "stream",
          "text": [
            "Collecting yfinance\n",
            "  Downloading https://files.pythonhosted.org/packages/a7/ee/315752b9ef281ba83c62aa7ec2e2074f85223da6e7e74efb4d3e11c0f510/yfinance-0.1.59.tar.gz\n",
            "Requirement already satisfied: pandas>=0.24 in /usr/local/lib/python3.7/dist-packages (from yfinance) (1.1.5)\n",
            "Requirement already satisfied: numpy>=1.15 in /usr/local/lib/python3.7/dist-packages (from yfinance) (1.19.5)\n",
            "Requirement already satisfied: requests>=2.20 in /usr/local/lib/python3.7/dist-packages (from yfinance) (2.23.0)\n",
            "Requirement already satisfied: multitasking>=0.0.7 in /usr/local/lib/python3.7/dist-packages (from yfinance) (0.0.9)\n",
            "Collecting lxml>=4.5.1\n",
            "\u001b[?25l  Downloading https://files.pythonhosted.org/packages/30/c0/d0526314971fc661b083ab135747dc68446a3022686da8c16d25fcf6ef07/lxml-4.6.3-cp37-cp37m-manylinux2014_x86_64.whl (6.3MB)\n",
            "\u001b[K     |████████████████████████████████| 6.3MB 6.7MB/s \n",
            "\u001b[?25hRequirement already satisfied: pytz>=2017.2 in /usr/local/lib/python3.7/dist-packages (from pandas>=0.24->yfinance) (2018.9)\n",
            "Requirement already satisfied: python-dateutil>=2.7.3 in /usr/local/lib/python3.7/dist-packages (from pandas>=0.24->yfinance) (2.8.1)\n",
            "Requirement already satisfied: chardet<4,>=3.0.2 in /usr/local/lib/python3.7/dist-packages (from requests>=2.20->yfinance) (3.0.4)\n",
            "Requirement already satisfied: urllib3!=1.25.0,!=1.25.1,<1.26,>=1.21.1 in /usr/local/lib/python3.7/dist-packages (from requests>=2.20->yfinance) (1.24.3)\n",
            "Requirement already satisfied: idna<3,>=2.5 in /usr/local/lib/python3.7/dist-packages (from requests>=2.20->yfinance) (2.10)\n",
            "Requirement already satisfied: certifi>=2017.4.17 in /usr/local/lib/python3.7/dist-packages (from requests>=2.20->yfinance) (2021.5.30)\n",
            "Requirement already satisfied: six>=1.5 in /usr/local/lib/python3.7/dist-packages (from python-dateutil>=2.7.3->pandas>=0.24->yfinance) (1.15.0)\n",
            "Building wheels for collected packages: yfinance\n",
            "  Building wheel for yfinance (setup.py) ... \u001b[?25l\u001b[?25hdone\n",
            "  Created wheel for yfinance: filename=yfinance-0.1.59-py2.py3-none-any.whl size=23455 sha256=77052afca1b18696a987e83d30bc7af2ea523c8b2a8988ad161f174a36919fac\n",
            "  Stored in directory: /root/.cache/pip/wheels/f8/2a/0f/4b5a86e1d52e451757eb6bc17fd899629f0925c777741b6d04\n",
            "Successfully built yfinance\n",
            "Installing collected packages: lxml, yfinance\n",
            "  Found existing installation: lxml 4.2.6\n",
            "    Uninstalling lxml-4.2.6:\n",
            "      Successfully uninstalled lxml-4.2.6\n",
            "Successfully installed lxml-4.6.3 yfinance-0.1.59\n"
          ],
          "name": "stdout"
        }
      ]
    },
    {
      "cell_type": "code",
      "metadata": {
        "colab": {
          "base_uri": "https://localhost:8080/",
          "height": 498
        },
        "id": "C1RqbwqppV7q",
        "outputId": "a3ab91cf-4073-4d79-d29b-98c60fcb7961"
      },
      "source": [
        "import yfinance as yf\n",
        "from keras.models import Sequential\n",
        "from keras.layers import Dense\n",
        "from keras.preprocessing.sequence import TimeseriesGenerator\n",
        "import numpy as np\n",
        "\n",
        "# create the object that represents Maersk stock data\n",
        "# here MAERSK-B.CO -- is the Maerks's ticker\n",
        "maersk = yf.Ticker('MAERSK-B.CO')\n",
        "history = maersk.history(period='max', interval='1d')\n",
        "print(history.info())\n",
        "(history.head())"
      ],
      "execution_count": 41,
      "outputs": [
        {
          "output_type": "stream",
          "text": [
            "<class 'pandas.core.frame.DataFrame'>\n",
            "DatetimeIndex: 5431 entries, 2000-01-03 to 2021-06-22\n",
            "Data columns (total 7 columns):\n",
            " #   Column        Non-Null Count  Dtype  \n",
            "---  ------        --------------  -----  \n",
            " 0   Open          5431 non-null   float64\n",
            " 1   High          5431 non-null   float64\n",
            " 2   Low           5431 non-null   float64\n",
            " 3   Close         5431 non-null   float64\n",
            " 4   Volume        5431 non-null   int64  \n",
            " 5   Dividends     5431 non-null   float64\n",
            " 6   Stock Splits  5431 non-null   float64\n",
            "dtypes: float64(6), int64(1)\n",
            "memory usage: 339.4 KB\n",
            "None\n"
          ],
          "name": "stdout"
        },
        {
          "output_type": "execute_result",
          "data": {
            "text/html": [
              "<div>\n",
              "<style scoped>\n",
              "    .dataframe tbody tr th:only-of-type {\n",
              "        vertical-align: middle;\n",
              "    }\n",
              "\n",
              "    .dataframe tbody tr th {\n",
              "        vertical-align: top;\n",
              "    }\n",
              "\n",
              "    .dataframe thead th {\n",
              "        text-align: right;\n",
              "    }\n",
              "</style>\n",
              "<table border=\"1\" class=\"dataframe\">\n",
              "  <thead>\n",
              "    <tr style=\"text-align: right;\">\n",
              "      <th></th>\n",
              "      <th>Open</th>\n",
              "      <th>High</th>\n",
              "      <th>Low</th>\n",
              "      <th>Close</th>\n",
              "      <th>Volume</th>\n",
              "      <th>Dividends</th>\n",
              "      <th>Stock Splits</th>\n",
              "    </tr>\n",
              "    <tr>\n",
              "      <th>Date</th>\n",
              "      <th></th>\n",
              "      <th></th>\n",
              "      <th></th>\n",
              "      <th></th>\n",
              "      <th></th>\n",
              "      <th></th>\n",
              "      <th></th>\n",
              "    </tr>\n",
              "  </thead>\n",
              "  <tbody>\n",
              "    <tr>\n",
              "      <th>2000-01-03</th>\n",
              "      <td>4481.085449</td>\n",
              "      <td>4623.342083</td>\n",
              "      <td>4445.521291</td>\n",
              "      <td>4481.085449</td>\n",
              "      <td>2976</td>\n",
              "      <td>0.0</td>\n",
              "      <td>0.0</td>\n",
              "    </tr>\n",
              "    <tr>\n",
              "      <th>2000-01-04</th>\n",
              "      <td>4409.956623</td>\n",
              "      <td>4409.956623</td>\n",
              "      <td>4267.700006</td>\n",
              "      <td>4321.046387</td>\n",
              "      <td>2615</td>\n",
              "      <td>0.0</td>\n",
              "      <td>0.0</td>\n",
              "    </tr>\n",
              "    <tr>\n",
              "      <th>2000-01-05</th>\n",
              "      <td>4161.008109</td>\n",
              "      <td>4267.700586</td>\n",
              "      <td>4129.000396</td>\n",
              "      <td>4178.790039</td>\n",
              "      <td>3682</td>\n",
              "      <td>0.0</td>\n",
              "      <td>0.0</td>\n",
              "    </tr>\n",
              "    <tr>\n",
              "      <th>2000-01-06</th>\n",
              "      <td>4161.007435</td>\n",
              "      <td>4249.917669</td>\n",
              "      <td>4125.443282</td>\n",
              "      <td>4214.353516</td>\n",
              "      <td>2752</td>\n",
              "      <td>0.0</td>\n",
              "      <td>0.0</td>\n",
              "    </tr>\n",
              "    <tr>\n",
              "      <th>2000-01-07</th>\n",
              "      <td>4214.354002</td>\n",
              "      <td>4303.264545</td>\n",
              "      <td>4200.768518</td>\n",
              "      <td>4232.136230</td>\n",
              "      <td>5075</td>\n",
              "      <td>0.0</td>\n",
              "      <td>0.0</td>\n",
              "    </tr>\n",
              "  </tbody>\n",
              "</table>\n",
              "</div>"
            ],
            "text/plain": [
              "                   Open         High  ...  Dividends  Stock Splits\n",
              "Date                                  ...                         \n",
              "2000-01-03  4481.085449  4623.342083  ...        0.0           0.0\n",
              "2000-01-04  4409.956623  4409.956623  ...        0.0           0.0\n",
              "2000-01-05  4161.008109  4267.700586  ...        0.0           0.0\n",
              "2000-01-06  4161.007435  4249.917669  ...        0.0           0.0\n",
              "2000-01-07  4214.354002  4303.264545  ...        0.0           0.0\n",
              "\n",
              "[5 rows x 7 columns]"
            ]
          },
          "metadata": {
            "tags": []
          },
          "execution_count": 41
        }
      ]
    },
    {
      "cell_type": "code",
      "metadata": {
        "id": "egHX-aRvppfh"
      },
      "source": [
        "def generate_series(data, value_num):\n",
        "    close = data['Close']\n",
        "    dividends = data['Dividends']\n",
        "    tsg = TimeseriesGenerator(close, close,\n",
        "                              length=value_num,\n",
        "                              batch_size=len(close))\n",
        "    global_index = value_num\n",
        "    i, t = tsg[0]\n",
        "    has_dividends = np.zeros(len(i))\n",
        "    for b_row in range(len(t)):\n",
        "        assert(abs(t[b_row] - close[global_index]) <= 0.001)\n",
        "        has_dividends[b_row] = dividends[global_index] > 0            \n",
        "        global_index += 1\n",
        "    #return np.concatenate((i, np.transpose([has_dividends])),\n",
        "    #                       axis=1), t\n",
        "    return i,t\n",
        "                        "
      ],
      "execution_count": 11,
      "outputs": []
    },
    {
      "cell_type": "code",
      "metadata": {
        "colab": {
          "base_uri": "https://localhost:8080/"
        },
        "id": "fH55Ed41prck",
        "outputId": "0b0b30bb-89dc-448e-b36d-0513bee0f4b9"
      },
      "source": [
        "inputs, targets = generate_series(history, 4)\n",
        "print(inputs[0])"
      ],
      "execution_count": 33,
      "outputs": [
        {
          "output_type": "stream",
          "text": [
            "[4481.08544922 4321.04638672 4178.79003906 4214.35351562]\n"
          ],
          "name": "stdout"
        }
      ]
    },
    {
      "cell_type": "code",
      "metadata": {
        "colab": {
          "base_uri": "https://localhost:8080/"
        },
        "id": "BlTKFQ9fodGf",
        "outputId": "80fe9ad4-c3f6-4aca-ef69-f36e41767d68"
      },
      "source": [
        "# normalized ([0,1]) & re-generate inputs & targets\n",
        "h_min = history.min()\n",
        "normalized_h = (history - h_min) / (history.max() - h_min)\n",
        "\n",
        "inputs, targets = generate_series(normalized_h, 4)\n",
        "print(inputs[0])"
      ],
      "execution_count": 46,
      "outputs": [
        {
          "output_type": "stream",
          "text": [
            "[0.15788437 0.14821565 0.13962127 0.14176983]\n"
          ],
          "name": "stdout"
        }
      ]
    },
    {
      "cell_type": "code",
      "metadata": {
        "colab": {
          "base_uri": "https://localhost:8080/"
        },
        "id": "wtBhzInryOxQ",
        "outputId": "62744c25-00c5-46af-8ab8-48c961a0467f"
      },
      "source": [
        "# create NN model\n",
        "def create_model(n):\n",
        "    m = Sequential()\n",
        "    m.add(Dense(64, activation='relu', input_shape=(n+1,)))\n",
        "    m.add(Dense(64, activation='relu'))\n",
        "    m.add(Dense(1))\n",
        "    return m\n",
        "\n",
        "def select_inputs(data, start, end, epochs):\n",
        "    models = {}\n",
        "    for inputs in range(start, end+1):\n",
        "        print('Using {} inputs'.format(inputs))\n",
        "        model_inputs, targets = generate_series(data, inputs)\n",
        "        \n",
        "        train_inputs = model_inputs[:-1000]\n",
        "        val_inputs = model_inputs[-1000:]\n",
        "        train_targets = targets[:-1000]\n",
        "        val_targets = targets[-1000:]\n",
        "        \n",
        "        m = create_model(inputs)\n",
        "        print('Training')\n",
        "        m.compile(optimizer='adam', loss='mse') \n",
        "        h = m.fit(train_inputs, train_targets,\n",
        "                  epochs=epochs,\n",
        "                  batch_size=32,\n",
        "                  validation_data=(val_inputs, val_targets))\n",
        "        model_info = {'model': m, 'history': h.history}\n",
        "        models[inputs] = model_info\n",
        "    return models\n",
        "  \n",
        "train_inputs = inputs[:-1000]\n",
        "val_inputs = inputs[-1000:]\n",
        "\n",
        "train_targets = targets[:-1000]\n",
        "val_targets = targets[-1000:]\n",
        "\n",
        "\n",
        "train_inputs.shape\n",
        "print(train_inputs[0:2])\n",
        "print(train_targets[0:2])"
      ],
      "execution_count": 44,
      "outputs": [
        {
          "output_type": "stream",
          "text": [
            "[[0.15788437 0.14821565 0.13962127 0.14176983]\n",
            " [0.14821565 0.13962127 0.14176983 0.14284417]]\n",
            "[0.14284417 0.14570177]\n"
          ],
          "name": "stdout"
        }
      ]
    },
    {
      "cell_type": "code",
      "metadata": {
        "id": "jHC3iB5RzyzO"
      },
      "source": [
        "#train networks with 2 to 10 inputs for 20 epochs:\n",
        "trained_models = select_inputs(normalized_h, 2, 10, 20)"
      ],
      "execution_count": null,
      "outputs": []
    },
    {
      "cell_type": "code",
      "metadata": {
        "colab": {
          "base_uri": "https://localhost:8080/"
        },
        "id": "wq9i23Z80PIh",
        "outputId": "cbf5ee27-a957-4f41-ddbd-ca26d8985113"
      },
      "source": [
        "inputs = 2\n",
        "data = normalized_h\n",
        "models = []\n",
        "#for inputs in range(start, end+1):\n",
        "print('Using {} inputs'.format(inputs))\n",
        "model_inputs, targets = generate_series(data, inputs)\n",
        "\n",
        "train_inputs = model_inputs[:-1000]\n",
        "val_inputs = model_inputs[-1000:]\n",
        "train_targets = targets[:-1000]\n",
        "val_targets = targets[-1000:]\n",
        "\n",
        "print(train_inputs.shape)\n",
        "print(train_inputs[0:2])"
      ],
      "execution_count": 53,
      "outputs": [
        {
          "output_type": "stream",
          "text": [
            "Using 2 inputs\n",
            "(4429, 2)\n",
            "[[0.15788437 0.14821565]\n",
            " [0.14821565 0.13962127]]\n"
          ],
          "name": "stdout"
        }
      ]
    },
    {
      "cell_type": "code",
      "metadata": {
        "id": "fqyBUUmM0cWP"
      },
      "source": [
        "epochs = 5\n",
        "m = create_model(inputs)\n",
        "print('Training')\n",
        "\n",
        "m.compile(optimizer='adam', loss='mse') \n",
        "h = m.fit(train_inputs, train_targets,epochs=epochs,\n",
        "          batch_size=32)\n",
        "model_info = {'model': m, 'history': h.history}\n",
        "#models[inputs] = model_info\n",
        "\n"
      ],
      "execution_count": null,
      "outputs": []
    },
    {
      "cell_type": "markdown",
      "metadata": {
        "id": "8ZY8zfnQ41Bi"
      },
      "source": [
        "##### NN regression keras"
      ]
    },
    {
      "cell_type": "code",
      "metadata": {
        "colab": {
          "base_uri": "https://localhost:8080/"
        },
        "id": "MXESs1ds5FPt",
        "outputId": "5f207415-1b7a-4be5-e6e5-0a8628611ed1"
      },
      "source": [
        "from pandas import read_csv\n",
        "from keras.models import Sequential\n",
        "from keras.layers import Dense\n",
        "from keras.wrappers.scikit_learn import KerasRegressor\n",
        "from sklearn.model_selection import cross_val_score\n",
        "from sklearn.model_selection import KFold\n",
        "# load dataset\n",
        "dataframe = df[df['assetCode']==\"AAPL.O\"]\n",
        "dataset = dataframe.values\n",
        "dataframe.info()"
      ],
      "execution_count": 59,
      "outputs": [
        {
          "output_type": "stream",
          "text": [
            "<class 'pandas.core.frame.DataFrame'>\n",
            "Int64Index: 2498 entries, 3 to 4071144\n",
            "Data columns (total 18 columns):\n",
            " #   Column                    Non-Null Count  Dtype              \n",
            "---  ------                    --------------  -----              \n",
            " 0   Unnamed: 0                2498 non-null   int64              \n",
            " 1   time                      2498 non-null   datetime64[ns, UTC]\n",
            " 2   assetCode                 2498 non-null   object             \n",
            " 3   assetName                 2498 non-null   object             \n",
            " 4   volume                    2498 non-null   float64            \n",
            " 5   close                     2498 non-null   float64            \n",
            " 6   open                      2498 non-null   float64            \n",
            " 7   returnsClosePrevRaw1      2498 non-null   float64            \n",
            " 8   returnsOpenPrevRaw1       2498 non-null   float64            \n",
            " 9   returnsClosePrevMktres1   2497 non-null   float64            \n",
            " 10  returnsOpenPrevMktres1    2497 non-null   float64            \n",
            " 11  returnsClosePrevRaw10     2498 non-null   float64            \n",
            " 12  returnsOpenPrevRaw10      2498 non-null   float64            \n",
            " 13  returnsClosePrevMktres10  2488 non-null   float64            \n",
            " 14  returnsOpenPrevMktres10   2488 non-null   float64            \n",
            " 15  returnsOpenNextMktres10   2498 non-null   float64            \n",
            " 16  universe                  2498 non-null   float64            \n",
            " 17  quarter                   2498 non-null   period[Q-DEC]      \n",
            "dtypes: datetime64[ns, UTC](1), float64(13), int64(1), object(2), period[Q-DEC](1)\n",
            "memory usage: 370.8+ KB\n"
          ],
          "name": "stdout"
        }
      ]
    },
    {
      "cell_type": "code",
      "metadata": {
        "colab": {
          "base_uri": "https://localhost:8080/"
        },
        "id": "0OPyTLrr5Slv",
        "outputId": "925d4fec-f022-4989-f7bf-a3cf2a5e0b7a"
      },
      "source": [
        "# split into input (X) and output (Y) variables\n",
        "X = dataset[:,4:8]\n",
        "Y = dataset[:,15]\n",
        "X = np.asarray(X).astype('float32')\n",
        "Y = np.asarray(Y).astype('float32')\n",
        "X[0:2]"
      ],
      "execution_count": 74,
      "outputs": [
        {
          "output_type": "execute_result",
          "data": {
            "text/plain": [
              "array([[ 2.3747328e+07,  8.4739998e+01,  8.6230003e+01, -1.1547883e-02],\n",
              "       [ 2.2212416e+07,  8.4750000e+01,  8.4120003e+01,  1.1800802e-04]],\n",
              "      dtype=float32)"
            ]
          },
          "metadata": {
            "tags": []
          },
          "execution_count": 74
        }
      ]
    },
    {
      "cell_type": "code",
      "metadata": {
        "colab": {
          "base_uri": "https://localhost:8080/"
        },
        "id": "451z6hMr51Q8",
        "outputId": "bc7c4fb5-6fd3-4cc1-a2fd-eba980285f90"
      },
      "source": [
        "# create model\n",
        "model = Sequential()\n",
        "model.add(Dense(4, input_dim=4, kernel_initializer='normal', activation='relu'))\n",
        "model.add(Dense(1, kernel_initializer='normal'))\n",
        "# Compile model\n",
        "model.compile(loss='mean_squared_error', optimizer='adam')\n",
        "model.fit(X, Y,epochs=10,batch_size=5, verbose=0)"
      ],
      "execution_count": 77,
      "outputs": [
        {
          "output_type": "execute_result",
          "data": {
            "text/plain": [
              "<keras.callbacks.History at 0x7fd18f154dd0>"
            ]
          },
          "metadata": {
            "tags": []
          },
          "execution_count": 77
        }
      ]
    },
    {
      "cell_type": "code",
      "metadata": {
        "colab": {
          "base_uri": "https://localhost:8080/"
        },
        "id": "lkdlCKur9L9g",
        "outputId": "69dc0cf3-b8ab-470a-850c-6abad5cf92a3"
      },
      "source": [
        "# predictions\n",
        "predictions = model.predict(X)\n",
        "print(predictions[0:3])\n",
        "print(Y[0:3])"
      ],
      "execution_count": 79,
      "outputs": [
        {
          "output_type": "stream",
          "text": [
            "[[-0.01570572]\n",
            " [-0.01570572]\n",
            " [-0.01570572]]\n",
            "[-0.00742461 -0.00977044  0.00503655]\n"
          ],
          "name": "stdout"
        }
      ]
    },
    {
      "cell_type": "code",
      "metadata": {
        "id": "TQplzIi350rX"
      },
      "source": [
        ""
      ],
      "execution_count": null,
      "outputs": []
    },
    {
      "cell_type": "markdown",
      "metadata": {
        "id": "0feGPTYmJx4x"
      },
      "source": [
        "### Portfolio Construction & Stock Selection"
      ]
    },
    {
      "cell_type": "code",
      "metadata": {
        "id": "j8Zyh9EfJ2xC"
      },
      "source": [
        "import matplotlib.pyplot as plt\n",
        "import numpy as np\n",
        "import pandas as pd\n",
        "import pandas_datareader as web\n",
        "from matplotlib.ticker import FuncFormatter"
      ],
      "execution_count": 1,
      "outputs": []
    },
    {
      "cell_type": "code",
      "metadata": {
        "colab": {
          "base_uri": "https://localhost:8080/"
        },
        "id": "zSjpc_fzJ8Gh",
        "outputId": "7f8fc1d5-4bf1-448a-e5a1-3f1015f75af9"
      },
      "source": [
        "!pip install PyPortfolioOpt"
      ],
      "execution_count": 2,
      "outputs": [
        {
          "output_type": "stream",
          "text": [
            "Collecting PyPortfolioOpt\n",
            "\u001b[?25l  Downloading https://files.pythonhosted.org/packages/12/dd/bbe51f36f323c4eee59ec94638b24de1daeda9537403c363cbfab8cd1d29/PyPortfolioOpt-1.4.2-py3-none-any.whl (60kB)\n",
            "\u001b[K     |████████████████████████████████| 61kB 3.3MB/s \n",
            "\u001b[?25hRequirement already satisfied: pandas>=0.19 in /usr/local/lib/python3.7/dist-packages (from PyPortfolioOpt) (1.1.5)\n",
            "Requirement already satisfied: numpy<2.0,>=1.12 in /usr/local/lib/python3.7/dist-packages (from PyPortfolioOpt) (1.19.5)\n",
            "Collecting cvxpy<2.0.0,>=1.1.10\n",
            "\u001b[?25l  Downloading https://files.pythonhosted.org/packages/f0/95/e7eb169a7802fe0c5c50dd7f29c2e9d357b5f29c70adc3f5ca2ab684a04b/cvxpy-1.1.13.tar.gz (1.3MB)\n",
            "\u001b[K     |████████████████████████████████| 1.3MB 8.8MB/s \n",
            "\u001b[?25h  Installing build dependencies ... \u001b[?25l\u001b[?25hdone\n",
            "  Getting requirements to build wheel ... \u001b[?25l\u001b[?25hdone\n",
            "    Preparing wheel metadata ... \u001b[?25l\u001b[?25hdone\n",
            "Requirement already satisfied: scipy<2.0,>=1.3 in /usr/local/lib/python3.7/dist-packages (from PyPortfolioOpt) (1.4.1)\n",
            "Requirement already satisfied: python-dateutil>=2.7.3 in /usr/local/lib/python3.7/dist-packages (from pandas>=0.19->PyPortfolioOpt) (2.8.1)\n",
            "Requirement already satisfied: pytz>=2017.2 in /usr/local/lib/python3.7/dist-packages (from pandas>=0.19->PyPortfolioOpt) (2018.9)\n",
            "Requirement already satisfied: ecos>=2 in /usr/local/lib/python3.7/dist-packages (from cvxpy<2.0.0,>=1.1.10->PyPortfolioOpt) (2.0.7.post1)\n",
            "Requirement already satisfied: osqp>=0.4.1 in /usr/local/lib/python3.7/dist-packages (from cvxpy<2.0.0,>=1.1.10->PyPortfolioOpt) (0.6.2.post0)\n",
            "Requirement already satisfied: scs>=1.1.6 in /usr/local/lib/python3.7/dist-packages (from cvxpy<2.0.0,>=1.1.10->PyPortfolioOpt) (2.1.4)\n",
            "Requirement already satisfied: six>=1.5 in /usr/local/lib/python3.7/dist-packages (from python-dateutil>=2.7.3->pandas>=0.19->PyPortfolioOpt) (1.15.0)\n",
            "Requirement already satisfied: qdldl in /usr/local/lib/python3.7/dist-packages (from osqp>=0.4.1->cvxpy<2.0.0,>=1.1.10->PyPortfolioOpt) (0.1.5.post0)\n",
            "Building wheels for collected packages: cvxpy\n",
            "  Building wheel for cvxpy (PEP 517) ... \u001b[?25l\u001b[?25hdone\n",
            "  Created wheel for cvxpy: filename=cvxpy-1.1.13-cp37-cp37m-linux_x86_64.whl size=2736235 sha256=99f3a90afc6ab3f6b4261feeb4d36f1b7371e8390d7b24c44d6990bd12e5e5c7\n",
            "  Stored in directory: /root/.cache/pip/wheels/f9/78/00/f29636789ee83434953b5442f16ec3f9834a68e7fd0393c220\n",
            "Successfully built cvxpy\n",
            "Installing collected packages: cvxpy, PyPortfolioOpt\n",
            "  Found existing installation: cvxpy 1.0.31\n",
            "    Uninstalling cvxpy-1.0.31:\n",
            "      Successfully uninstalled cvxpy-1.0.31\n",
            "Successfully installed PyPortfolioOpt-1.4.2 cvxpy-1.1.13\n"
          ],
          "name": "stdout"
        }
      ]
    },
    {
      "cell_type": "code",
      "metadata": {
        "colab": {
          "base_uri": "https://localhost:8080/"
        },
        "id": "s3-9acCaZR_1",
        "outputId": "5211f1ca-c64a-46b8-9ef4-e8a222eb52b2"
      },
      "source": [
        "!pip install pulp"
      ],
      "execution_count": 10,
      "outputs": [
        {
          "output_type": "stream",
          "text": [
            "Collecting pulp\n",
            "\u001b[?25l  Downloading https://files.pythonhosted.org/packages/14/c4/0eec14a0123209c261de6ff154ef3be5cad3fd557c084f468356662e0585/PuLP-2.4-py3-none-any.whl (40.6MB)\n",
            "\u001b[K     |████████████████████████████████| 40.6MB 77kB/s \n",
            "\u001b[?25hCollecting amply>=0.1.2\n",
            "  Downloading https://files.pythonhosted.org/packages/f3/c5/dfa09dd2595a2ab2ab4e6fa7bebef9565812722e1980d04b0edce5032066/amply-0.1.4-py3-none-any.whl\n",
            "Requirement already satisfied: pyparsing in /usr/local/lib/python3.7/dist-packages (from amply>=0.1.2->pulp) (2.4.7)\n",
            "Requirement already satisfied: docutils>=0.3 in /usr/local/lib/python3.7/dist-packages (from amply>=0.1.2->pulp) (0.17.1)\n",
            "Installing collected packages: amply, pulp\n",
            "Successfully installed amply-0.1.4 pulp-2.4\n"
          ],
          "name": "stdout"
        }
      ]
    },
    {
      "cell_type": "code",
      "metadata": {
        "colab": {
          "base_uri": "https://localhost:8080/",
          "height": 373
        },
        "id": "ryC_VUNOJ_W7",
        "outputId": "1184f4f1-169e-4e7d-8dda-a98e5c07ed6d"
      },
      "source": [
        "from pypfopt.efficient_frontier import EfficientFrontier\n",
        "from pypfopt import risk_models\n",
        "from pypfopt import expected_returns\n",
        "#from pypfopt.plotting import Plotting\n",
        "from matplotlib.ticker import FuncFormatter\n",
        "\n",
        "from google.colab import drive\n",
        "\n",
        "drive.mount('/content/gdrive')"
      ],
      "execution_count": 3,
      "outputs": [
        {
          "output_type": "error",
          "ename": "ModuleNotFoundError",
          "evalue": "ignored",
          "traceback": [
            "\u001b[0;31m---------------------------------------------------------------------------\u001b[0m",
            "\u001b[0;31mModuleNotFoundError\u001b[0m                       Traceback (most recent call last)",
            "\u001b[0;32m<ipython-input-3-56bea1389f52>\u001b[0m in \u001b[0;36m<module>\u001b[0;34m()\u001b[0m\n\u001b[0;32m----> 1\u001b[0;31m \u001b[0;32mfrom\u001b[0m \u001b[0mpypfopt\u001b[0m\u001b[0;34m.\u001b[0m\u001b[0mefficient_frontier\u001b[0m \u001b[0;32mimport\u001b[0m \u001b[0mEfficientFrontier\u001b[0m\u001b[0;34m\u001b[0m\u001b[0;34m\u001b[0m\u001b[0m\n\u001b[0m\u001b[1;32m      2\u001b[0m \u001b[0;32mfrom\u001b[0m \u001b[0mpypfopt\u001b[0m \u001b[0;32mimport\u001b[0m \u001b[0mrisk_models\u001b[0m\u001b[0;34m\u001b[0m\u001b[0;34m\u001b[0m\u001b[0m\n\u001b[1;32m      3\u001b[0m \u001b[0;32mfrom\u001b[0m \u001b[0mpypfopt\u001b[0m \u001b[0;32mimport\u001b[0m \u001b[0mexpected_returns\u001b[0m\u001b[0;34m\u001b[0m\u001b[0;34m\u001b[0m\u001b[0m\n\u001b[1;32m      4\u001b[0m \u001b[0;31m#from pypfopt.plotting import Plotting\u001b[0m\u001b[0;34m\u001b[0m\u001b[0;34m\u001b[0m\u001b[0;34m\u001b[0m\u001b[0m\n\u001b[1;32m      5\u001b[0m \u001b[0;32mfrom\u001b[0m \u001b[0mmatplotlib\u001b[0m\u001b[0;34m.\u001b[0m\u001b[0mticker\u001b[0m \u001b[0;32mimport\u001b[0m \u001b[0mFuncFormatter\u001b[0m\u001b[0;34m\u001b[0m\u001b[0;34m\u001b[0m\u001b[0m\n",
            "\u001b[0;31mModuleNotFoundError\u001b[0m: No module named 'pypfopt'",
            "",
            "\u001b[0;31m---------------------------------------------------------------------------\u001b[0;32m\nNOTE: If your import is failing due to a missing package, you can\nmanually install dependencies using either !pip or !apt.\n\nTo view examples of installing some common dependencies, click the\n\"Open Examples\" button below.\n\u001b[0;31m---------------------------------------------------------------------------\u001b[0m\n"
          ]
        }
      ]
    },
    {
      "cell_type": "code",
      "metadata": {
        "colab": {
          "base_uri": "https://localhost:8080/",
          "height": 449
        },
        "id": "vrjVbULZKeZw",
        "outputId": "094c39ab-fa17-4f87-a6b5-9675724f6b80"
      },
      "source": [
        "path = \"./gdrive/MyDrive/Colab Datasets/twosigma_data/\"\n",
        "\n",
        "df = pd.read_csv(path+\"market_train_full.csv\")\n",
        "df['time'] = pd.to_datetime(df['time'])\n",
        "df['quarter'] = df['time'].dt.to_period(\"Q\")\n",
        "\n",
        "df.head()"
      ],
      "execution_count": 2,
      "outputs": [
        {
          "output_type": "error",
          "ename": "FileNotFoundError",
          "evalue": "ignored",
          "traceback": [
            "\u001b[0;31m---------------------------------------------------------------------------\u001b[0m",
            "\u001b[0;31mFileNotFoundError\u001b[0m                         Traceback (most recent call last)",
            "\u001b[0;32m<ipython-input-2-268566364c0a>\u001b[0m in \u001b[0;36m<module>\u001b[0;34m()\u001b[0m\n\u001b[1;32m      1\u001b[0m \u001b[0mpath\u001b[0m \u001b[0;34m=\u001b[0m \u001b[0;34m\"./gdrive/MyDrive/Colab Datasets/twosigma_data/\"\u001b[0m\u001b[0;34m\u001b[0m\u001b[0;34m\u001b[0m\u001b[0m\n\u001b[1;32m      2\u001b[0m \u001b[0;34m\u001b[0m\u001b[0m\n\u001b[0;32m----> 3\u001b[0;31m \u001b[0mdf\u001b[0m \u001b[0;34m=\u001b[0m \u001b[0mpd\u001b[0m\u001b[0;34m.\u001b[0m\u001b[0mread_csv\u001b[0m\u001b[0;34m(\u001b[0m\u001b[0mpath\u001b[0m\u001b[0;34m+\u001b[0m\u001b[0;34m\"market_train_full.csv\"\u001b[0m\u001b[0;34m)\u001b[0m\u001b[0;34m\u001b[0m\u001b[0;34m\u001b[0m\u001b[0m\n\u001b[0m\u001b[1;32m      4\u001b[0m \u001b[0mdf\u001b[0m\u001b[0;34m[\u001b[0m\u001b[0;34m'time'\u001b[0m\u001b[0;34m]\u001b[0m \u001b[0;34m=\u001b[0m \u001b[0mpd\u001b[0m\u001b[0;34m.\u001b[0m\u001b[0mto_datetime\u001b[0m\u001b[0;34m(\u001b[0m\u001b[0mdf\u001b[0m\u001b[0;34m[\u001b[0m\u001b[0;34m'time'\u001b[0m\u001b[0;34m]\u001b[0m\u001b[0;34m)\u001b[0m\u001b[0;34m\u001b[0m\u001b[0;34m\u001b[0m\u001b[0m\n\u001b[1;32m      5\u001b[0m \u001b[0mdf\u001b[0m\u001b[0;34m[\u001b[0m\u001b[0;34m'quarter'\u001b[0m\u001b[0;34m]\u001b[0m \u001b[0;34m=\u001b[0m \u001b[0mdf\u001b[0m\u001b[0;34m[\u001b[0m\u001b[0;34m'time'\u001b[0m\u001b[0;34m]\u001b[0m\u001b[0;34m.\u001b[0m\u001b[0mdt\u001b[0m\u001b[0;34m.\u001b[0m\u001b[0mto_period\u001b[0m\u001b[0;34m(\u001b[0m\u001b[0;34m\"Q\"\u001b[0m\u001b[0;34m)\u001b[0m\u001b[0;34m\u001b[0m\u001b[0;34m\u001b[0m\u001b[0m\n",
            "\u001b[0;32m/usr/local/lib/python3.7/dist-packages/pandas/io/parsers.py\u001b[0m in \u001b[0;36mread_csv\u001b[0;34m(filepath_or_buffer, sep, delimiter, header, names, index_col, usecols, squeeze, prefix, mangle_dupe_cols, dtype, engine, converters, true_values, false_values, skipinitialspace, skiprows, skipfooter, nrows, na_values, keep_default_na, na_filter, verbose, skip_blank_lines, parse_dates, infer_datetime_format, keep_date_col, date_parser, dayfirst, cache_dates, iterator, chunksize, compression, thousands, decimal, lineterminator, quotechar, quoting, doublequote, escapechar, comment, encoding, dialect, error_bad_lines, warn_bad_lines, delim_whitespace, low_memory, memory_map, float_precision)\u001b[0m\n\u001b[1;32m    686\u001b[0m     )\n\u001b[1;32m    687\u001b[0m \u001b[0;34m\u001b[0m\u001b[0m\n\u001b[0;32m--> 688\u001b[0;31m     \u001b[0;32mreturn\u001b[0m \u001b[0m_read\u001b[0m\u001b[0;34m(\u001b[0m\u001b[0mfilepath_or_buffer\u001b[0m\u001b[0;34m,\u001b[0m \u001b[0mkwds\u001b[0m\u001b[0;34m)\u001b[0m\u001b[0;34m\u001b[0m\u001b[0;34m\u001b[0m\u001b[0m\n\u001b[0m\u001b[1;32m    689\u001b[0m \u001b[0;34m\u001b[0m\u001b[0m\n\u001b[1;32m    690\u001b[0m \u001b[0;34m\u001b[0m\u001b[0m\n",
            "\u001b[0;32m/usr/local/lib/python3.7/dist-packages/pandas/io/parsers.py\u001b[0m in \u001b[0;36m_read\u001b[0;34m(filepath_or_buffer, kwds)\u001b[0m\n\u001b[1;32m    452\u001b[0m \u001b[0;34m\u001b[0m\u001b[0m\n\u001b[1;32m    453\u001b[0m     \u001b[0;31m# Create the parser.\u001b[0m\u001b[0;34m\u001b[0m\u001b[0;34m\u001b[0m\u001b[0;34m\u001b[0m\u001b[0m\n\u001b[0;32m--> 454\u001b[0;31m     \u001b[0mparser\u001b[0m \u001b[0;34m=\u001b[0m \u001b[0mTextFileReader\u001b[0m\u001b[0;34m(\u001b[0m\u001b[0mfp_or_buf\u001b[0m\u001b[0;34m,\u001b[0m \u001b[0;34m**\u001b[0m\u001b[0mkwds\u001b[0m\u001b[0;34m)\u001b[0m\u001b[0;34m\u001b[0m\u001b[0;34m\u001b[0m\u001b[0m\n\u001b[0m\u001b[1;32m    455\u001b[0m \u001b[0;34m\u001b[0m\u001b[0m\n\u001b[1;32m    456\u001b[0m     \u001b[0;32mif\u001b[0m \u001b[0mchunksize\u001b[0m \u001b[0;32mor\u001b[0m \u001b[0miterator\u001b[0m\u001b[0;34m:\u001b[0m\u001b[0;34m\u001b[0m\u001b[0;34m\u001b[0m\u001b[0m\n",
            "\u001b[0;32m/usr/local/lib/python3.7/dist-packages/pandas/io/parsers.py\u001b[0m in \u001b[0;36m__init__\u001b[0;34m(self, f, engine, **kwds)\u001b[0m\n\u001b[1;32m    946\u001b[0m             \u001b[0mself\u001b[0m\u001b[0;34m.\u001b[0m\u001b[0moptions\u001b[0m\u001b[0;34m[\u001b[0m\u001b[0;34m\"has_index_names\"\u001b[0m\u001b[0;34m]\u001b[0m \u001b[0;34m=\u001b[0m \u001b[0mkwds\u001b[0m\u001b[0;34m[\u001b[0m\u001b[0;34m\"has_index_names\"\u001b[0m\u001b[0;34m]\u001b[0m\u001b[0;34m\u001b[0m\u001b[0;34m\u001b[0m\u001b[0m\n\u001b[1;32m    947\u001b[0m \u001b[0;34m\u001b[0m\u001b[0m\n\u001b[0;32m--> 948\u001b[0;31m         \u001b[0mself\u001b[0m\u001b[0;34m.\u001b[0m\u001b[0m_make_engine\u001b[0m\u001b[0;34m(\u001b[0m\u001b[0mself\u001b[0m\u001b[0;34m.\u001b[0m\u001b[0mengine\u001b[0m\u001b[0;34m)\u001b[0m\u001b[0;34m\u001b[0m\u001b[0;34m\u001b[0m\u001b[0m\n\u001b[0m\u001b[1;32m    949\u001b[0m \u001b[0;34m\u001b[0m\u001b[0m\n\u001b[1;32m    950\u001b[0m     \u001b[0;32mdef\u001b[0m \u001b[0mclose\u001b[0m\u001b[0;34m(\u001b[0m\u001b[0mself\u001b[0m\u001b[0;34m)\u001b[0m\u001b[0;34m:\u001b[0m\u001b[0;34m\u001b[0m\u001b[0;34m\u001b[0m\u001b[0m\n",
            "\u001b[0;32m/usr/local/lib/python3.7/dist-packages/pandas/io/parsers.py\u001b[0m in \u001b[0;36m_make_engine\u001b[0;34m(self, engine)\u001b[0m\n\u001b[1;32m   1178\u001b[0m     \u001b[0;32mdef\u001b[0m \u001b[0m_make_engine\u001b[0m\u001b[0;34m(\u001b[0m\u001b[0mself\u001b[0m\u001b[0;34m,\u001b[0m \u001b[0mengine\u001b[0m\u001b[0;34m=\u001b[0m\u001b[0;34m\"c\"\u001b[0m\u001b[0;34m)\u001b[0m\u001b[0;34m:\u001b[0m\u001b[0;34m\u001b[0m\u001b[0;34m\u001b[0m\u001b[0m\n\u001b[1;32m   1179\u001b[0m         \u001b[0;32mif\u001b[0m \u001b[0mengine\u001b[0m \u001b[0;34m==\u001b[0m \u001b[0;34m\"c\"\u001b[0m\u001b[0;34m:\u001b[0m\u001b[0;34m\u001b[0m\u001b[0;34m\u001b[0m\u001b[0m\n\u001b[0;32m-> 1180\u001b[0;31m             \u001b[0mself\u001b[0m\u001b[0;34m.\u001b[0m\u001b[0m_engine\u001b[0m \u001b[0;34m=\u001b[0m \u001b[0mCParserWrapper\u001b[0m\u001b[0;34m(\u001b[0m\u001b[0mself\u001b[0m\u001b[0;34m.\u001b[0m\u001b[0mf\u001b[0m\u001b[0;34m,\u001b[0m \u001b[0;34m**\u001b[0m\u001b[0mself\u001b[0m\u001b[0;34m.\u001b[0m\u001b[0moptions\u001b[0m\u001b[0;34m)\u001b[0m\u001b[0;34m\u001b[0m\u001b[0;34m\u001b[0m\u001b[0m\n\u001b[0m\u001b[1;32m   1181\u001b[0m         \u001b[0;32melse\u001b[0m\u001b[0;34m:\u001b[0m\u001b[0;34m\u001b[0m\u001b[0;34m\u001b[0m\u001b[0m\n\u001b[1;32m   1182\u001b[0m             \u001b[0;32mif\u001b[0m \u001b[0mengine\u001b[0m \u001b[0;34m==\u001b[0m \u001b[0;34m\"python\"\u001b[0m\u001b[0;34m:\u001b[0m\u001b[0;34m\u001b[0m\u001b[0;34m\u001b[0m\u001b[0m\n",
            "\u001b[0;32m/usr/local/lib/python3.7/dist-packages/pandas/io/parsers.py\u001b[0m in \u001b[0;36m__init__\u001b[0;34m(self, src, **kwds)\u001b[0m\n\u001b[1;32m   2008\u001b[0m         \u001b[0mkwds\u001b[0m\u001b[0;34m[\u001b[0m\u001b[0;34m\"usecols\"\u001b[0m\u001b[0;34m]\u001b[0m \u001b[0;34m=\u001b[0m \u001b[0mself\u001b[0m\u001b[0;34m.\u001b[0m\u001b[0musecols\u001b[0m\u001b[0;34m\u001b[0m\u001b[0;34m\u001b[0m\u001b[0m\n\u001b[1;32m   2009\u001b[0m \u001b[0;34m\u001b[0m\u001b[0m\n\u001b[0;32m-> 2010\u001b[0;31m         \u001b[0mself\u001b[0m\u001b[0;34m.\u001b[0m\u001b[0m_reader\u001b[0m \u001b[0;34m=\u001b[0m \u001b[0mparsers\u001b[0m\u001b[0;34m.\u001b[0m\u001b[0mTextReader\u001b[0m\u001b[0;34m(\u001b[0m\u001b[0msrc\u001b[0m\u001b[0;34m,\u001b[0m \u001b[0;34m**\u001b[0m\u001b[0mkwds\u001b[0m\u001b[0;34m)\u001b[0m\u001b[0;34m\u001b[0m\u001b[0;34m\u001b[0m\u001b[0m\n\u001b[0m\u001b[1;32m   2011\u001b[0m         \u001b[0mself\u001b[0m\u001b[0;34m.\u001b[0m\u001b[0munnamed_cols\u001b[0m \u001b[0;34m=\u001b[0m \u001b[0mself\u001b[0m\u001b[0;34m.\u001b[0m\u001b[0m_reader\u001b[0m\u001b[0;34m.\u001b[0m\u001b[0munnamed_cols\u001b[0m\u001b[0;34m\u001b[0m\u001b[0;34m\u001b[0m\u001b[0m\n\u001b[1;32m   2012\u001b[0m \u001b[0;34m\u001b[0m\u001b[0m\n",
            "\u001b[0;32mpandas/_libs/parsers.pyx\u001b[0m in \u001b[0;36mpandas._libs.parsers.TextReader.__cinit__\u001b[0;34m()\u001b[0m\n",
            "\u001b[0;32mpandas/_libs/parsers.pyx\u001b[0m in \u001b[0;36mpandas._libs.parsers.TextReader._setup_parser_source\u001b[0;34m()\u001b[0m\n",
            "\u001b[0;31mFileNotFoundError\u001b[0m: [Errno 2] No such file or directory: './gdrive/MyDrive/Colab Datasets/twosigma_data/market_train_full.csv'"
          ]
        }
      ]
    },
    {
      "cell_type": "code",
      "metadata": {
        "colab": {
          "base_uri": "https://localhost:8080/"
        },
        "id": "sw5FXvR4K9ml",
        "outputId": "a291d691-f5d0-4301-8f35-7529cdccdbb7"
      },
      "source": [
        "df.head()\n",
        "df['time'].min()\n",
        "df['time'].max()"
      ],
      "execution_count": 5,
      "outputs": [
        {
          "output_type": "execute_result",
          "data": {
            "text/plain": [
              "Timestamp('2016-12-30 22:00:00+0000', tz='UTC')"
            ]
          },
          "metadata": {
            "tags": []
          },
          "execution_count": 5
        }
      ]
    },
    {
      "cell_type": "code",
      "metadata": {
        "colab": {
          "base_uri": "https://localhost:8080/"
        },
        "id": "0B3MCa43LBnI",
        "outputId": "40bfc705-aeac-4b20-992d-f3d2beaf3b60"
      },
      "source": [
        "data = df[df['time'] < '2008-08-02']\n",
        "\n",
        "print(data['time'].min())\n",
        "print(data['time'].max())\n",
        "\n",
        "data = data.pivot(index='time', columns='assetCode', values='close').dropna(axis=1, how='any').iloc[0:, 0:10]\n",
        "print(data.head())\n",
        "print(data.info())\n",
        "#print(data.isna().sum())"
      ],
      "execution_count": 6,
      "outputs": [
        {
          "output_type": "stream",
          "text": [
            "2007-02-01 22:00:00+00:00\n",
            "2008-08-01 22:00:00+00:00\n",
            "assetCode                    A.N  AAP.N  AAPL.O  ...  ABV.N  ACF.N  ACH.N\n",
            "time                                             ...                     \n",
            "2007-02-01 22:00:00+00:00  32.19  37.51   84.74  ...  52.46  27.25  24.52\n",
            "2007-02-02 22:00:00+00:00  31.61  37.49   84.75  ...  52.24  27.42  24.45\n",
            "2007-02-05 22:00:00+00:00  31.83  37.52   83.94  ...  52.89  27.25  24.63\n",
            "2007-02-06 22:00:00+00:00  32.00  37.97   84.15  ...  52.90  27.61  25.33\n",
            "2007-02-07 22:00:00+00:00  32.57  38.33   86.15  ...  52.52  27.65  25.83\n",
            "\n",
            "[5 rows x 10 columns]\n",
            "<class 'pandas.core.frame.DataFrame'>\n",
            "DatetimeIndex: 379 entries, 2007-02-01 22:00:00+00:00 to 2008-08-01 22:00:00+00:00\n",
            "Data columns (total 10 columns):\n",
            " #   Column  Non-Null Count  Dtype  \n",
            "---  ------  --------------  -----  \n",
            " 0   A.N     379 non-null    float64\n",
            " 1   AAP.N   379 non-null    float64\n",
            " 2   AAPL.O  379 non-null    float64\n",
            " 3   ABB.N   379 non-null    float64\n",
            " 4   ABC.N   379 non-null    float64\n",
            " 5   ABD.N   379 non-null    float64\n",
            " 6   ABT.N   379 non-null    float64\n",
            " 7   ABV.N   379 non-null    float64\n",
            " 8   ACF.N   379 non-null    float64\n",
            " 9   ACH.N   379 non-null    float64\n",
            "dtypes: float64(10)\n",
            "memory usage: 32.6 KB\n",
            "None\n"
          ],
          "name": "stdout"
        }
      ]
    },
    {
      "cell_type": "code",
      "metadata": {
        "colab": {
          "base_uri": "https://localhost:8080/"
        },
        "id": "B4Vj-3TadKC5",
        "outputId": "c41b5356-34e3-4621-e90d-593518d89bd4"
      },
      "source": [
        "(31.61-32.19)/32.19"
      ],
      "execution_count": 111,
      "outputs": [
        {
          "output_type": "execute_result",
          "data": {
            "text/plain": [
              "-0.018018018018017966"
            ]
          },
          "metadata": {
            "tags": []
          },
          "execution_count": 111
        }
      ]
    },
    {
      "cell_type": "code",
      "metadata": {
        "colab": {
          "base_uri": "https://localhost:8080/"
        },
        "id": "3KgrA1BKd1FO",
        "outputId": "a6ef8c3d-a3ba-4fbc-a1a2-99d0998a1dc8"
      },
      "source": [
        "weights = np.array([0.1]*10)\n",
        "weights"
      ],
      "execution_count": 16,
      "outputs": [
        {
          "output_type": "execute_result",
          "data": {
            "text/plain": [
              "array([0.1, 0.1, 0.1, 0.1, 0.1, 0.1, 0.1, 0.1, 0.1, 0.1])"
            ]
          },
          "metadata": {
            "tags": []
          },
          "execution_count": 16
        }
      ]
    },
    {
      "cell_type": "code",
      "metadata": {
        "colab": {
          "base_uri": "https://localhost:8080/",
          "height": 455
        },
        "id": "CRW3wVfLbvbb",
        "outputId": "d2c0063b-a45b-4be7-b942-9b55d81d2e40"
      },
      "source": [
        "returns = data.pct_change()\n",
        "returns"
      ],
      "execution_count": 14,
      "outputs": [
        {
          "output_type": "execute_result",
          "data": {
            "text/html": [
              "<div>\n",
              "<style scoped>\n",
              "    .dataframe tbody tr th:only-of-type {\n",
              "        vertical-align: middle;\n",
              "    }\n",
              "\n",
              "    .dataframe tbody tr th {\n",
              "        vertical-align: top;\n",
              "    }\n",
              "\n",
              "    .dataframe thead th {\n",
              "        text-align: right;\n",
              "    }\n",
              "</style>\n",
              "<table border=\"1\" class=\"dataframe\">\n",
              "  <thead>\n",
              "    <tr style=\"text-align: right;\">\n",
              "      <th>assetCode</th>\n",
              "      <th>A.N</th>\n",
              "      <th>AAP.N</th>\n",
              "      <th>AAPL.O</th>\n",
              "      <th>ABB.N</th>\n",
              "      <th>ABC.N</th>\n",
              "      <th>ABD.N</th>\n",
              "      <th>ABT.N</th>\n",
              "      <th>ABV.N</th>\n",
              "      <th>ACF.N</th>\n",
              "      <th>ACH.N</th>\n",
              "    </tr>\n",
              "    <tr>\n",
              "      <th>time</th>\n",
              "      <th></th>\n",
              "      <th></th>\n",
              "      <th></th>\n",
              "      <th></th>\n",
              "      <th></th>\n",
              "      <th></th>\n",
              "      <th></th>\n",
              "      <th></th>\n",
              "      <th></th>\n",
              "      <th></th>\n",
              "    </tr>\n",
              "  </thead>\n",
              "  <tbody>\n",
              "    <tr>\n",
              "      <th>2007-02-01 22:00:00+00:00</th>\n",
              "      <td>NaN</td>\n",
              "      <td>NaN</td>\n",
              "      <td>NaN</td>\n",
              "      <td>NaN</td>\n",
              "      <td>NaN</td>\n",
              "      <td>NaN</td>\n",
              "      <td>NaN</td>\n",
              "      <td>NaN</td>\n",
              "      <td>NaN</td>\n",
              "      <td>NaN</td>\n",
              "    </tr>\n",
              "    <tr>\n",
              "      <th>2007-02-02 22:00:00+00:00</th>\n",
              "      <td>-0.018018</td>\n",
              "      <td>-0.000533</td>\n",
              "      <td>0.000118</td>\n",
              "      <td>0.010544</td>\n",
              "      <td>-0.000764</td>\n",
              "      <td>0.020313</td>\n",
              "      <td>-0.003783</td>\n",
              "      <td>-0.004194</td>\n",
              "      <td>0.006239</td>\n",
              "      <td>-0.002855</td>\n",
              "    </tr>\n",
              "    <tr>\n",
              "      <th>2007-02-05 22:00:00+00:00</th>\n",
              "      <td>0.006960</td>\n",
              "      <td>0.000800</td>\n",
              "      <td>-0.009558</td>\n",
              "      <td>-0.007688</td>\n",
              "      <td>0.003249</td>\n",
              "      <td>-0.005392</td>\n",
              "      <td>-0.003228</td>\n",
              "      <td>0.012443</td>\n",
              "      <td>-0.006200</td>\n",
              "      <td>0.007362</td>\n",
              "    </tr>\n",
              "    <tr>\n",
              "      <th>2007-02-06 22:00:00+00:00</th>\n",
              "      <td>0.005341</td>\n",
              "      <td>0.011994</td>\n",
              "      <td>0.002502</td>\n",
              "      <td>0.017709</td>\n",
              "      <td>-0.001714</td>\n",
              "      <td>0.002502</td>\n",
              "      <td>-0.000762</td>\n",
              "      <td>0.000189</td>\n",
              "      <td>0.013211</td>\n",
              "      <td>0.028421</td>\n",
              "    </tr>\n",
              "    <tr>\n",
              "      <th>2007-02-07 22:00:00+00:00</th>\n",
              "      <td>0.017813</td>\n",
              "      <td>0.009481</td>\n",
              "      <td>0.023767</td>\n",
              "      <td>0.017945</td>\n",
              "      <td>0.001908</td>\n",
              "      <td>0.002496</td>\n",
              "      <td>-0.000191</td>\n",
              "      <td>-0.007183</td>\n",
              "      <td>0.001449</td>\n",
              "      <td>0.019739</td>\n",
              "    </tr>\n",
              "    <tr>\n",
              "      <th>...</th>\n",
              "      <td>...</td>\n",
              "      <td>...</td>\n",
              "      <td>...</td>\n",
              "      <td>...</td>\n",
              "      <td>...</td>\n",
              "      <td>...</td>\n",
              "      <td>...</td>\n",
              "      <td>...</td>\n",
              "      <td>...</td>\n",
              "      <td>...</td>\n",
              "    </tr>\n",
              "    <tr>\n",
              "      <th>2008-07-28 22:00:00+00:00</th>\n",
              "      <td>-0.010494</td>\n",
              "      <td>-0.005975</td>\n",
              "      <td>-0.047619</td>\n",
              "      <td>0.001922</td>\n",
              "      <td>-0.017303</td>\n",
              "      <td>-0.005952</td>\n",
              "      <td>-0.021073</td>\n",
              "      <td>-0.009506</td>\n",
              "      <td>-0.066823</td>\n",
              "      <td>-0.043561</td>\n",
              "    </tr>\n",
              "    <tr>\n",
              "      <th>2008-07-29 22:00:00+00:00</th>\n",
              "      <td>0.008373</td>\n",
              "      <td>0.047082</td>\n",
              "      <td>0.017358</td>\n",
              "      <td>0.020338</td>\n",
              "      <td>0.019537</td>\n",
              "      <td>0.043114</td>\n",
              "      <td>-0.004803</td>\n",
              "      <td>0.000349</td>\n",
              "      <td>0.085427</td>\n",
              "      <td>0.033267</td>\n",
              "    </tr>\n",
              "    <tr>\n",
              "      <th>2008-07-30 22:00:00+00:00</th>\n",
              "      <td>0.016053</td>\n",
              "      <td>0.001674</td>\n",
              "      <td>0.017825</td>\n",
              "      <td>0.005265</td>\n",
              "      <td>-0.001419</td>\n",
              "      <td>0.009185</td>\n",
              "      <td>0.016267</td>\n",
              "      <td>0.032269</td>\n",
              "      <td>0.010417</td>\n",
              "      <td>0.009582</td>\n",
              "    </tr>\n",
              "    <tr>\n",
              "      <th>2008-07-31 22:00:00+00:00</th>\n",
              "      <td>-0.017706</td>\n",
              "      <td>-0.018863</td>\n",
              "      <td>-0.005817</td>\n",
              "      <td>-0.019080</td>\n",
              "      <td>-0.008055</td>\n",
              "      <td>-0.025028</td>\n",
              "      <td>-0.008971</td>\n",
              "      <td>0.000676</td>\n",
              "      <td>0.004582</td>\n",
              "      <td>-0.035308</td>\n",
              "    </tr>\n",
              "    <tr>\n",
              "      <th>2008-08-01 22:00:00+00:00</th>\n",
              "      <td>-0.005546</td>\n",
              "      <td>0.022147</td>\n",
              "      <td>-0.014407</td>\n",
              "      <td>-0.016400</td>\n",
              "      <td>0.004060</td>\n",
              "      <td>0.028005</td>\n",
              "      <td>-0.004792</td>\n",
              "      <td>-0.008443</td>\n",
              "      <td>0.026226</td>\n",
              "      <td>-0.048013</td>\n",
              "    </tr>\n",
              "  </tbody>\n",
              "</table>\n",
              "<p>379 rows × 10 columns</p>\n",
              "</div>"
            ],
            "text/plain": [
              "assetCode                       A.N     AAP.N  ...     ACF.N     ACH.N\n",
              "time                                           ...                    \n",
              "2007-02-01 22:00:00+00:00       NaN       NaN  ...       NaN       NaN\n",
              "2007-02-02 22:00:00+00:00 -0.018018 -0.000533  ...  0.006239 -0.002855\n",
              "2007-02-05 22:00:00+00:00  0.006960  0.000800  ... -0.006200  0.007362\n",
              "2007-02-06 22:00:00+00:00  0.005341  0.011994  ...  0.013211  0.028421\n",
              "2007-02-07 22:00:00+00:00  0.017813  0.009481  ...  0.001449  0.019739\n",
              "...                             ...       ...  ...       ...       ...\n",
              "2008-07-28 22:00:00+00:00 -0.010494 -0.005975  ... -0.066823 -0.043561\n",
              "2008-07-29 22:00:00+00:00  0.008373  0.047082  ...  0.085427  0.033267\n",
              "2008-07-30 22:00:00+00:00  0.016053  0.001674  ...  0.010417  0.009582\n",
              "2008-07-31 22:00:00+00:00 -0.017706 -0.018863  ...  0.004582 -0.035308\n",
              "2008-08-01 22:00:00+00:00 -0.005546  0.022147  ...  0.026226 -0.048013\n",
              "\n",
              "[379 rows x 10 columns]"
            ]
          },
          "metadata": {
            "tags": []
          },
          "execution_count": 14
        }
      ]
    },
    {
      "cell_type": "code",
      "metadata": {
        "colab": {
          "base_uri": "https://localhost:8080/",
          "height": 394
        },
        "id": "rRZapXfCcSf1",
        "outputId": "388cd13b-5115-40f0-ec08-8d7705f41c8f"
      },
      "source": [
        "cov_matrix_annual = returns.cov()*252\n",
        "cov_matrix_annual"
      ],
      "execution_count": 15,
      "outputs": [
        {
          "output_type": "execute_result",
          "data": {
            "text/html": [
              "<div>\n",
              "<style scoped>\n",
              "    .dataframe tbody tr th:only-of-type {\n",
              "        vertical-align: middle;\n",
              "    }\n",
              "\n",
              "    .dataframe tbody tr th {\n",
              "        vertical-align: top;\n",
              "    }\n",
              "\n",
              "    .dataframe thead th {\n",
              "        text-align: right;\n",
              "    }\n",
              "</style>\n",
              "<table border=\"1\" class=\"dataframe\">\n",
              "  <thead>\n",
              "    <tr style=\"text-align: right;\">\n",
              "      <th>assetCode</th>\n",
              "      <th>A.N</th>\n",
              "      <th>AAP.N</th>\n",
              "      <th>AAPL.O</th>\n",
              "      <th>ABB.N</th>\n",
              "      <th>ABC.N</th>\n",
              "      <th>ABD.N</th>\n",
              "      <th>ABT.N</th>\n",
              "      <th>ABV.N</th>\n",
              "      <th>ACF.N</th>\n",
              "      <th>ACH.N</th>\n",
              "    </tr>\n",
              "    <tr>\n",
              "      <th>assetCode</th>\n",
              "      <th></th>\n",
              "      <th></th>\n",
              "      <th></th>\n",
              "      <th></th>\n",
              "      <th></th>\n",
              "      <th></th>\n",
              "      <th></th>\n",
              "      <th></th>\n",
              "      <th></th>\n",
              "      <th></th>\n",
              "    </tr>\n",
              "  </thead>\n",
              "  <tbody>\n",
              "    <tr>\n",
              "      <th>A.N</th>\n",
              "      <td>0.078511</td>\n",
              "      <td>0.033354</td>\n",
              "      <td>0.041881</td>\n",
              "      <td>0.042450</td>\n",
              "      <td>0.023940</td>\n",
              "      <td>0.036909</td>\n",
              "      <td>0.018800</td>\n",
              "      <td>0.057104</td>\n",
              "      <td>0.056161</td>\n",
              "      <td>0.076578</td>\n",
              "    </tr>\n",
              "    <tr>\n",
              "      <th>AAP.N</th>\n",
              "      <td>0.033354</td>\n",
              "      <td>0.114413</td>\n",
              "      <td>0.043367</td>\n",
              "      <td>0.045568</td>\n",
              "      <td>0.028714</td>\n",
              "      <td>0.052402</td>\n",
              "      <td>0.016939</td>\n",
              "      <td>0.058109</td>\n",
              "      <td>0.085081</td>\n",
              "      <td>0.068415</td>\n",
              "    </tr>\n",
              "    <tr>\n",
              "      <th>AAPL.O</th>\n",
              "      <td>0.041881</td>\n",
              "      <td>0.043367</td>\n",
              "      <td>0.162503</td>\n",
              "      <td>0.056996</td>\n",
              "      <td>0.015745</td>\n",
              "      <td>0.052055</td>\n",
              "      <td>0.013469</td>\n",
              "      <td>0.065423</td>\n",
              "      <td>0.070344</td>\n",
              "      <td>0.100569</td>\n",
              "    </tr>\n",
              "    <tr>\n",
              "      <th>ABB.N</th>\n",
              "      <td>0.042450</td>\n",
              "      <td>0.045568</td>\n",
              "      <td>0.056996</td>\n",
              "      <td>0.110000</td>\n",
              "      <td>0.020489</td>\n",
              "      <td>0.048676</td>\n",
              "      <td>0.017903</td>\n",
              "      <td>0.079825</td>\n",
              "      <td>0.097188</td>\n",
              "      <td>0.123272</td>\n",
              "    </tr>\n",
              "    <tr>\n",
              "      <th>ABC.N</th>\n",
              "      <td>0.023940</td>\n",
              "      <td>0.028714</td>\n",
              "      <td>0.015745</td>\n",
              "      <td>0.020489</td>\n",
              "      <td>0.066209</td>\n",
              "      <td>0.023655</td>\n",
              "      <td>0.015529</td>\n",
              "      <td>0.028644</td>\n",
              "      <td>0.044605</td>\n",
              "      <td>0.041108</td>\n",
              "    </tr>\n",
              "    <tr>\n",
              "      <th>ABD.N</th>\n",
              "      <td>0.036909</td>\n",
              "      <td>0.052402</td>\n",
              "      <td>0.052055</td>\n",
              "      <td>0.048676</td>\n",
              "      <td>0.023655</td>\n",
              "      <td>0.192116</td>\n",
              "      <td>0.027940</td>\n",
              "      <td>0.059654</td>\n",
              "      <td>0.107465</td>\n",
              "      <td>0.074446</td>\n",
              "    </tr>\n",
              "    <tr>\n",
              "      <th>ABT.N</th>\n",
              "      <td>0.018800</td>\n",
              "      <td>0.016939</td>\n",
              "      <td>0.013469</td>\n",
              "      <td>0.017903</td>\n",
              "      <td>0.015529</td>\n",
              "      <td>0.027940</td>\n",
              "      <td>0.044371</td>\n",
              "      <td>0.030152</td>\n",
              "      <td>0.038625</td>\n",
              "      <td>0.026653</td>\n",
              "    </tr>\n",
              "    <tr>\n",
              "      <th>ABV.N</th>\n",
              "      <td>0.057104</td>\n",
              "      <td>0.058109</td>\n",
              "      <td>0.065423</td>\n",
              "      <td>0.079825</td>\n",
              "      <td>0.028644</td>\n",
              "      <td>0.059654</td>\n",
              "      <td>0.030152</td>\n",
              "      <td>0.172252</td>\n",
              "      <td>0.126317</td>\n",
              "      <td>0.137401</td>\n",
              "    </tr>\n",
              "    <tr>\n",
              "      <th>ACF.N</th>\n",
              "      <td>0.056161</td>\n",
              "      <td>0.085081</td>\n",
              "      <td>0.070344</td>\n",
              "      <td>0.097188</td>\n",
              "      <td>0.044605</td>\n",
              "      <td>0.107465</td>\n",
              "      <td>0.038625</td>\n",
              "      <td>0.126317</td>\n",
              "      <td>0.473360</td>\n",
              "      <td>0.146216</td>\n",
              "    </tr>\n",
              "    <tr>\n",
              "      <th>ACH.N</th>\n",
              "      <td>0.076578</td>\n",
              "      <td>0.068415</td>\n",
              "      <td>0.100569</td>\n",
              "      <td>0.123272</td>\n",
              "      <td>0.041108</td>\n",
              "      <td>0.074446</td>\n",
              "      <td>0.026653</td>\n",
              "      <td>0.137401</td>\n",
              "      <td>0.146216</td>\n",
              "      <td>0.453900</td>\n",
              "    </tr>\n",
              "  </tbody>\n",
              "</table>\n",
              "</div>"
            ],
            "text/plain": [
              "assetCode       A.N     AAP.N    AAPL.O  ...     ABV.N     ACF.N     ACH.N\n",
              "assetCode                                ...                              \n",
              "A.N        0.078511  0.033354  0.041881  ...  0.057104  0.056161  0.076578\n",
              "AAP.N      0.033354  0.114413  0.043367  ...  0.058109  0.085081  0.068415\n",
              "AAPL.O     0.041881  0.043367  0.162503  ...  0.065423  0.070344  0.100569\n",
              "ABB.N      0.042450  0.045568  0.056996  ...  0.079825  0.097188  0.123272\n",
              "ABC.N      0.023940  0.028714  0.015745  ...  0.028644  0.044605  0.041108\n",
              "ABD.N      0.036909  0.052402  0.052055  ...  0.059654  0.107465  0.074446\n",
              "ABT.N      0.018800  0.016939  0.013469  ...  0.030152  0.038625  0.026653\n",
              "ABV.N      0.057104  0.058109  0.065423  ...  0.172252  0.126317  0.137401\n",
              "ACF.N      0.056161  0.085081  0.070344  ...  0.126317  0.473360  0.146216\n",
              "ACH.N      0.076578  0.068415  0.100569  ...  0.137401  0.146216  0.453900\n",
              "\n",
              "[10 rows x 10 columns]"
            ]
          },
          "metadata": {
            "tags": []
          },
          "execution_count": 15
        }
      ]
    },
    {
      "cell_type": "code",
      "metadata": {
        "colab": {
          "base_uri": "https://localhost:8080/"
        },
        "id": "Q5mh27ksc1X-",
        "outputId": "a23f2c80-9a6e-423c-bbce-a3a03cdfd1a9"
      },
      "source": [
        "port_variance = np.dot(weights.T, np.dot(cov_matrix_annual, weights))\n",
        "port_variance"
      ],
      "execution_count": 17,
      "outputs": [
        {
          "output_type": "execute_result",
          "data": {
            "text/plain": [
              "0.06819911291206925"
            ]
          },
          "metadata": {
            "tags": []
          },
          "execution_count": 17
        }
      ]
    },
    {
      "cell_type": "code",
      "metadata": {
        "colab": {
          "base_uri": "https://localhost:8080/"
        },
        "id": "Hxh6jzvKeOGZ",
        "outputId": "4a488897-dd42-4c01-8373-1ee2eb3fe3da"
      },
      "source": [
        "port_volatility = np.sqrt(port_variance)\n",
        "port_volatility"
      ],
      "execution_count": 18,
      "outputs": [
        {
          "output_type": "execute_result",
          "data": {
            "text/plain": [
              "0.26114959872086585"
            ]
          },
          "metadata": {
            "tags": []
          },
          "execution_count": 18
        }
      ]
    },
    {
      "cell_type": "code",
      "metadata": {
        "colab": {
          "base_uri": "https://localhost:8080/"
        },
        "id": "YcGPRAhgfp-d",
        "outputId": "5f287ab2-6eaf-49bc-9e0b-63ffdadbd2de"
      },
      "source": [
        "portfolioSimpleAnnualReturn = np.sum(returns.mean()*weights) * 252\n",
        "portfolioSimpleAnnualReturn"
      ],
      "execution_count": 19,
      "outputs": [
        {
          "output_type": "execute_result",
          "data": {
            "text/plain": [
              "0.02853997074737055"
            ]
          },
          "metadata": {
            "tags": []
          },
          "execution_count": 19
        }
      ]
    },
    {
      "cell_type": "code",
      "metadata": {
        "colab": {
          "base_uri": "https://localhost:8080/"
        },
        "id": "c_-mvQuhfxRw",
        "outputId": "24544b24-2f3f-4115-ce0b-dde2f3b8f3c7"
      },
      "source": [
        "percent_var = str(round(port_variance, 2) * 100) + '%'\n",
        "percent_vols = str(round(port_volatility, 2) * 100) + '%'\n",
        "percent_ret = str(round(portfolioSimpleAnnualReturn, 2)*100)+'%'\n",
        "print(\"Expected annual return : \"+ percent_ret)\n",
        "print('Annual volatility/standard deviation/risk : '+percent_vols)\n",
        "print('Annual variance : '+percent_var)"
      ],
      "execution_count": 20,
      "outputs": [
        {
          "output_type": "stream",
          "text": [
            "Expected annual return : 3.0%\n",
            "Annual volatility/standard deviation/risk : 26.0%\n",
            "Annual variance : 7.000000000000001%\n"
          ],
          "name": "stdout"
        }
      ]
    },
    {
      "cell_type": "code",
      "metadata": {
        "colab": {
          "base_uri": "https://localhost:8080/"
        },
        "id": "c9_O4aiXgHSa",
        "outputId": "5bc8bed9-632b-486f-b8a6-d26d3f54023d"
      },
      "source": [
        "mu = expected_returns.mean_historical_return(data)#returns.mean() * 252\n",
        "S = risk_models.sample_cov(data) #Get the sample covariance matrix\n",
        "print(mu)\n",
        "print(S)"
      ],
      "execution_count": 24,
      "outputs": [
        {
          "output_type": "stream",
          "text": [
            "assetCode\n",
            "A.N       0.074631\n",
            "AAP.N     0.078288\n",
            "AAPL.O    0.506306\n",
            "ABB.N     0.269982\n",
            "ABC.N    -0.136253\n",
            "ABD.N    -0.481986\n",
            "ABT.N     0.039954\n",
            "ABV.N     0.078049\n",
            "ACF.N    -0.522195\n",
            "ACH.N    -0.008993\n",
            "dtype: float64\n",
            "assetCode       A.N     AAP.N    AAPL.O  ...     ABV.N     ACF.N     ACH.N\n",
            "assetCode                                ...                              \n",
            "A.N        0.078511  0.033354  0.041881  ...  0.057104  0.056161  0.076578\n",
            "AAP.N      0.033354  0.114413  0.043367  ...  0.058109  0.085081  0.068415\n",
            "AAPL.O     0.041881  0.043367  0.162503  ...  0.065423  0.070344  0.100569\n",
            "ABB.N      0.042450  0.045568  0.056996  ...  0.079825  0.097188  0.123272\n",
            "ABC.N      0.023940  0.028714  0.015745  ...  0.028644  0.044605  0.041108\n",
            "ABD.N      0.036909  0.052402  0.052055  ...  0.059654  0.107465  0.074446\n",
            "ABT.N      0.018800  0.016939  0.013469  ...  0.030152  0.038625  0.026653\n",
            "ABV.N      0.057104  0.058109  0.065423  ...  0.172252  0.126317  0.137401\n",
            "ACF.N      0.056161  0.085081  0.070344  ...  0.126317  0.473360  0.146216\n",
            "ACH.N      0.076578  0.068415  0.100569  ...  0.137401  0.146216  0.453900\n",
            "\n",
            "[10 rows x 10 columns]\n"
          ],
          "name": "stdout"
        }
      ]
    },
    {
      "cell_type": "code",
      "metadata": {
        "colab": {
          "base_uri": "https://localhost:8080/"
        },
        "id": "gkfiDMTmghnn",
        "outputId": "fdfe6ee8-f1e5-4690-abf4-91e7e90495a7"
      },
      "source": [
        "ef = EfficientFrontier(mu, S)\n",
        "# get 75.3% AAPL.O & 24.7% ABB.N\n",
        "weights = ef.max_sharpe() #Maximize the Sharpe ratio, and get the raw weights\n",
        "cleaned_weights = ef.clean_weights() \n",
        "print(cleaned_weights) #Note the weights may have some rounding error, meaning they may not add up exactly to 1 but should be close\n",
        "ef.portfolio_performance(verbose=True) # expected annual return, annual volatility & sharpe ratio"
      ],
      "execution_count": 25,
      "outputs": [
        {
          "output_type": "stream",
          "text": [
            "OrderedDict([('A.N', 0.0), ('AAP.N', 0.0), ('AAPL.O', 0.75254), ('ABB.N', 0.24746), ('ABC.N', 0.0), ('ABD.N', 0.0), ('ABT.N', 0.0), ('ABV.N', 0.0), ('ACF.N', 0.0), ('ACH.N', 0.0)])\n",
            "Expected annual return: 44.8%\n",
            "Annual volatility: 34.6%\n",
            "Sharpe Ratio: 1.24\n"
          ],
          "name": "stdout"
        },
        {
          "output_type": "execute_result",
          "data": {
            "text/plain": [
              "(0.4478243821699665, 0.3463980186061869, 1.2350659045089736)"
            ]
          },
          "metadata": {
            "tags": []
          },
          "execution_count": 25
        }
      ]
    },
    {
      "cell_type": "code",
      "metadata": {
        "colab": {
          "base_uri": "https://localhost:8080/"
        },
        "id": "Bpqjx5omcgmV",
        "outputId": "349e37e9-659b-4eb2-c371-a8918ae3af06"
      },
      "source": [
        "from pypfopt.discrete_allocation import DiscreteAllocation, get_latest_prices\n",
        "latest_prices = get_latest_prices(data)\n",
        "weights = cleaned_weights \n",
        "da = DiscreteAllocation(weights, latest_prices, total_portfolio_value=15000)\n",
        "allocation, leftover = da.lp_portfolio()\n",
        "print(\"Discrete allocation:\", allocation)\n",
        "print(\"Funds remaining: ${:.2f}\".format(leftover))"
      ],
      "execution_count": 28,
      "outputs": [
        {
          "output_type": "stream",
          "text": [
            "Discrete allocation: {'AAPL.O': 72, 'ABB.N': 144}\n",
            "Funds remaining: $6.72\n"
          ],
          "name": "stdout"
        }
      ]
    }
  ]
}